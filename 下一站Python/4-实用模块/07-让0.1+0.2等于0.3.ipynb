{
 "cells": [
  {
   "cell_type": "markdown",
   "metadata": {},
   "source": [
    "# 让0.1+0.2等于0.3"
   ]
  },
  {
   "cell_type": "code",
   "execution_count": 1,
   "metadata": {},
   "outputs": [
    {
     "name": "stdout",
     "output_type": "stream",
     "text": [
      "False\n"
     ]
    }
   ],
   "source": [
    "print(0.1+0.2 == 0.3)\n"
   ]
  },
  {
   "cell_type": "markdown",
   "metadata": {},
   "source": [
    "## 为什么0.1+0.2不等于0.3\n",
    "- 并非Python语言解释器的bug；\n",
    "- 十进制小数用二进制存储带来的误差；\n",
    "- 并非所有十进制表示的有限位小数都对应二进制的有限位小数。\n",
    "- 双精度浮点数的表示（IEEE 754标准）\n",
    "![](IEEE_754_Double_Floating_Point_Format.png)\n"
   ]
  },
  {
   "cell_type": "code",
   "execution_count": 2,
   "metadata": {},
   "outputs": [
    {
     "name": "stdout",
     "output_type": "stream",
     "text": [
      "(0.1).hex()='0x1.999999999999ap-4'\n",
      "(0.2).hex()='0x1.999999999999ap-3'\n",
      "(0.1+0.2).hex()='0x1.3333333333334p-2'\n",
      "(0.3).hex()='0x1.3333333333333p-2'\n",
      "(0.5).hex()='0x1.0000000000000p-1'\n",
      "(0.25).hex()='0x1.0000000000000p-2'\n",
      "(0.125).hex()='0x1.0000000000000p-3'\n",
      "(0.875).hex()='0x1.c000000000000p-1'\n"
     ]
    }
   ],
   "source": [
    "# 0.1的十六进制表示（每位对应4位二进制）\n",
    "print(f\"{(0.1).hex()=}\")\n",
    "# 0.2的十六进制表示（每位对应4位二进制）\n",
    "print(f\"{(0.2).hex()=}\")\n",
    "# 0.1+0.2的十六进制表示（每位对应4位二进制）\n",
    "print(f\"{(0.1+0.2).hex()=}\")\n",
    "# 0.3的十六进制表示（每位对应4位二进制）\n",
    "print(f\"{(0.3).hex()=}\")\n",
    "\n",
    "# 0.5, 0.25, 0.125的十六进制表示\n",
    "print(f\"{(0.5).hex()=}\")\n",
    "print(f\"{(0.25).hex()=}\")\n",
    "print(f\"{(0.125).hex()=}\")\n",
    "print(f\"{(0.875).hex()=}\")\n"
   ]
  },
  {
   "cell_type": "markdown",
   "metadata": {},
   "source": [
    "## decimal模块：十进制小数表示和计算\n",
    "- Python内置模块；\n",
    "- 用软件算法来实现十进制小数的存储和计算；\n",
    "- 可以设定十进制计算精度；\n",
    "- 有大部分算术计算功能；\n",
    "- 适合财务会计等需求固定精度的应用。"
   ]
  },
  {
   "cell_type": "code",
   "execution_count": 3,
   "metadata": {},
   "outputs": [
    {
     "name": "stdout",
     "output_type": "stream",
     "text": [
      "0.3\n",
      "True\n"
     ]
    }
   ],
   "source": [
    "# Decimal类\n",
    "import decimal\n",
    "a = decimal.Decimal(\"0.1\")\n",
    "b = decimal.Decimal(\"0.2\")\n",
    "print(a + b)\n",
    "print(a + b == decimal.Decimal(\"0.3\"))\n"
   ]
  },
  {
   "cell_type": "code",
   "execution_count": 4,
   "metadata": {},
   "outputs": [
    {
     "name": "stdout",
     "output_type": "stream",
     "text": [
      "Decimal('0.15')+Decimal('0.05')=Decimal('0.20')\n",
      "Decimal('0.150')*Decimal('0.2')=Decimal('0.0300')\n",
      "a=Decimal('2') b=Decimal('0.03')\n",
      "a+b=Decimal('2.03')\n",
      "a-b=Decimal('1.97')\n",
      "a*b=Decimal('0.06')\n",
      "a/b=Decimal('66.66666666666666666666666667')\n",
      "a**b=Decimal('1.021012125707193249764095175')\n"
     ]
    }
   ],
   "source": [
    "# 保留精度\n",
    "from decimal import Decimal\n",
    "print(f\"{Decimal('0.15')+Decimal('0.05')=}\")\n",
    "print(f\"{Decimal('0.150')*Decimal('0.2')=}\")\n",
    "a = Decimal(\"2\")\n",
    "b = Decimal(\"0.03\")\n",
    "print(f\"{a=} {b=}\")\n",
    "print(f\"{a+b=}\")\n",
    "print(f\"{a-b=}\")\n",
    "print(f\"{a*b=}\")\n",
    "print(f\"{a/b=}\")\n",
    "print(f\"{a**b=}\")\n",
    "\n"
   ]
  },
  {
   "cell_type": "code",
   "execution_count": 5,
   "metadata": {},
   "outputs": [
    {
     "name": "stdout",
     "output_type": "stream",
     "text": [
      "decimal.getcontext().prec=28\n"
     ]
    }
   ],
   "source": [
    "# 缺省的计算精度：有效位数\n",
    "print(f\"{decimal.getcontext().prec=}\")"
   ]
  },
  {
   "cell_type": "code",
   "execution_count": 6,
   "metadata": {},
   "outputs": [
    {
     "name": "stdout",
     "output_type": "stream",
     "text": [
      "Decimal('2').sqrt()=Decimal('1.414214')\n",
      "Decimal('355')/Decimal('113')=Decimal('3.141593')\n"
     ]
    }
   ],
   "source": [
    "# 设定计算精度\n",
    "decimal.getcontext().prec = 7\n",
    "print(f\"{Decimal('2').sqrt()=}\")\n",
    "print(f\"{Decimal('355')/Decimal('113')=}\")"
   ]
  }
 ],
 "metadata": {
  "kernelspec": {
   "display_name": "Python 3.9.13 ('base')",
   "language": "python",
   "name": "python3"
  },
  "language_info": {
   "codemirror_mode": {
    "name": "ipython",
    "version": 3
   },
   "file_extension": ".py",
   "mimetype": "text/x-python",
   "name": "python",
   "nbconvert_exporter": "python",
   "pygments_lexer": "ipython3",
   "version": "3.9.13"
  },
  "orig_nbformat": 4,
  "vscode": {
   "interpreter": {
    "hash": "9e9b5bdee76833c82256a661fe97e28092f057e4e062e2d5f1c366bf572c51cc"
   }
  }
 },
 "nbformat": 4,
 "nbformat_minor": 2
}
