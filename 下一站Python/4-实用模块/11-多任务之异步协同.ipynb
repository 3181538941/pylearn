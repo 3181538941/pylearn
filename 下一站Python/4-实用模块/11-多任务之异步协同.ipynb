{
 "cells": [
  {
   "cell_type": "markdown",
   "metadata": {},
   "source": [
    "# 多任务之异步协同\n",
    "## 两种程序\n",
    "- CPU密集型：连续占用CPU进行密集的算术逻辑运算；\n",
    "- I/O密集型：有断续的I/O访问；\n",
    "- 前提事实：I/O访问等待时间（毫秒）比CPU计算时间（纳秒）高几个数量级。\n",
    "\n",
    "```python\n",
    "def f(name, n):  # 一个普通的函数\n",
    "    print(name, strftime(\"%X\"), \"START\", n)\n",
    "    for i in range(n):\n",
    "        sleep(1)\n",
    "    print(name, strftime(\"%X\"), \"END\")\n",
    "    \n",
    "async def fcpu(name, n):  # 异步函数（模拟CPU密集型）\n",
    "    print(name, strftime(\"%X\"), \"START\", n)\n",
    "    for i in range(n):\n",
    "        sleep(1)  # 普通的sleep，啥都不干，但要占着CPU\n",
    "    print(name, strftime(\"%X\"), \"END\")\n",
    "    \n",
    "async def fio(name, n):  # 异步函数（模拟IO密集型）\n",
    "    print(name, strftime(\"%X\"), \"START\", n)\n",
    "    for i in range(n):\n",
    "        await asyncio.sleep(1)  # 异步sleep，啥都不干，可以让出CPU\n",
    "    print(name, strftime(\"%X\"), \"END\")\n",
    "```\n",
    "\n",
    "![](funcdef.png)"
   ]
  },
  {
   "cell_type": "markdown",
   "metadata": {},
   "source": [
    "## 两种执行方式\n",
    "- 同步执行：一个函数执行完成之后，再执行另一个函数；\n",
    "- 异步执行：**不必**等一个函数执行完成，只要有CPU空闲让出，就可以启动别的函数执行；\n",
    "- 异步执行什么时候能够提高程序性能？\n",
    "  - 前提事实：I/O访问等待时间（毫秒）比CPU计算时间（纳秒）高几个数量级\n",
    "  - 在I/O访问等待开始的时候，让出CPU时间\n",
    "\n",
    "![](timecpu.png)\n",
    "\n",
    "![](timeio.png)\n",
    "\n",
    "```python\n",
    "async def main():\n",
    "    print(f\"started main at {strftime('%X')}\")\n",
    "    async with asyncio.TaskGroup() as tg:\n",
    "        for i in range(5):\n",
    "            tg.create_task(fio(f\"f{i:02d}\", randint(1, 5)))\n",
    "    print(f\"finished main at {strftime('%X')}\")\n",
    "    \n",
    "asyncio.run(main())\n",
    "```"
   ]
  },
  {
   "cell_type": "markdown",
   "metadata": {},
   "source": [
    "## 异步执行CPU密集型程序？\n",
    "- 用异步多线程可以提高性能！\n",
    "\n",
    "```python\n",
    "async def main():\n",
    "    print(f\"started main at {strftime('%X')}\")\n",
    "    async with asyncio.TaskGroup() as tg:\n",
    "        for i in range(5):\n",
    "            tg.create_task(\n",
    "                asyncio.to_thread(f, f\"f{i:02d}\", randint(1, 5))\n",
    "                )\n",
    "    print(f\"finished main at {strftime('%X')}\")\n",
    "    \n",
    "asyncio.run(main())\n",
    "```\n",
    "\n",
    "![](timethread.png)"
   ]
  }
 ],
 "metadata": {
  "language_info": {
   "name": "python"
  },
  "orig_nbformat": 4
 },
 "nbformat": 4,
 "nbformat_minor": 2
}
