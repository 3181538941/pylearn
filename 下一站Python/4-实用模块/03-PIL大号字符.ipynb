{
 "cells": [
  {
   "cell_type": "markdown",
   "metadata": {},
   "source": [
    "# PIL大号字符\n",
    "## 字符拼成的字符\n",
    "![](asciiart.png)"
   ]
  },
  {
   "cell_type": "markdown",
   "metadata": {},
   "source": [
    "## 字符算法步骤\n",
    "- 准备黑白像素->字符映射；\n",
    "- 绘制文字到二值图像中；\n",
    "- 逐行变换为字符打印到文本文件中\n",
    "\n",
    "### 准备黑白像素->字符映射；"
   ]
  },
  {
   "cell_type": "code",
   "execution_count": 7,
   "metadata": {},
   "outputs": [],
   "source": [
    "from PIL import Image, ImageFont, ImageDraw\n",
    "\n",
    "# 准备黑白像素->字符映射\n",
    "pix2char = lambda p: \"--\" if p else \"##\""
   ]
  },
  {
   "cell_type": "markdown",
   "metadata": {},
   "source": [
    "### 绘制文字到二值图像"
   ]
  },
  {
   "cell_type": "code",
   "execution_count": 8,
   "metadata": {},
   "outputs": [
    {
     "name": "stdout",
     "output_type": "stream",
     "text": [
      "大小= (0, 5, 32, 21)\n"
     ]
    }
   ],
   "source": [
    "# 绘制文字\n",
    "words = \"中文\"\n",
    "# 准备一个字体\n",
    "font = ImageFont.truetype(\"SourceHanSans.ttc\", 16)\n",
    "# 看这段文字绘制后的大小\n",
    "size = font.getbbox(words)\n",
    "print(\"大小=\", size)\n",
    "# 新建一个图像，黑白模式，底色白色\n",
    "im = Image.new(\"1\", size[2:], \"white\")\n",
    "draw = ImageDraw.Draw(im)\n",
    "# 在图像上绘制文字\n",
    "draw.text((0, 0), words, font=font)"
   ]
  },
  {
   "cell_type": "markdown",
   "metadata": {},
   "source": [
    "### 逐行输出到文本文件"
   ]
  },
  {
   "cell_type": "code",
   "execution_count": 9,
   "metadata": {},
   "outputs": [],
   "source": [
    "# 逐行打印出来\n",
    "px = im.getdata()\n",
    "\n",
    "f = open(\"asciiart.txt\", \"wt\")\n",
    "for row in range(size[3]):\n",
    "    print(\n",
    "        \"\".join(pix2char(px[row * size[2] + col]) \n",
    "                for col in range(size[2])),\n",
    "        file=f,\n",
    "    )\n",
    "f.close()\n"
   ]
  }
 ],
 "metadata": {
  "kernelspec": {
   "display_name": "Python 3.9.13 ('base')",
   "language": "python",
   "name": "python3"
  },
  "language_info": {
   "codemirror_mode": {
    "name": "ipython",
    "version": 3
   },
   "file_extension": ".py",
   "mimetype": "text/x-python",
   "name": "python",
   "nbconvert_exporter": "python",
   "pygments_lexer": "ipython3",
   "version": "3.9.13"
  },
  "orig_nbformat": 4,
  "vscode": {
   "interpreter": {
    "hash": "9e9b5bdee76833c82256a661fe97e28092f057e4e062e2d5f1c366bf572c51cc"
   }
  }
 },
 "nbformat": 4,
 "nbformat_minor": 2
}
