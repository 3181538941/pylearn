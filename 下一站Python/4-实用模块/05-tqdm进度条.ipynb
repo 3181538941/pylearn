{
 "cells": [
  {
   "cell_type": "markdown",
   "metadata": {},
   "source": [
    "# tqdm进度条\n",
    "## 什么时候需要进度条？\n",
    "- 长时间的循环，让等待变得更加友好；\n",
    "- 统计运行时间和每次迭代平均时间；\n",
    "- 给人印象深刻的动态输出画面。\n",
    "\n",
    "## tqdm基本概念\n",
    "- 包裹并替代原有的可迭代对象，自动显示进度条；\n",
    "- 可以设定自定义信息；\n",
    "- 也可以自行控制进度条进展。\n",
    "\n",
    "## 基础用法"
   ]
  },
  {
   "cell_type": "code",
   "execution_count": 10,
   "metadata": {},
   "outputs": [],
   "source": [
    "# 准备测试数据\n",
    "from time import sleep\n",
    "from faker import Faker\n",
    "f = Faker(\"en-us\")\n",
    "alist = [f.name() for _ in range(50)]\n",
    "\n",
    "# 导入tqdm模块\n",
    "from tqdm import tqdm, trange"
   ]
  },
  {
   "cell_type": "code",
   "execution_count": 11,
   "metadata": {},
   "outputs": [
    {
     "name": "stderr",
     "output_type": "stream",
     "text": [
      "100%|██████████| 50/50 [00:02<00:00, 19.50it/s]"
     ]
    },
    {
     "name": "stdout",
     "output_type": "stream",
     "text": [
      "p=30,414,093,201,713,378,043,612,608,166,064,768,844,377,641,568,960,512,000,000,000,000\n"
     ]
    },
    {
     "name": "stderr",
     "output_type": "stream",
     "text": [
      "\n"
     ]
    }
   ],
   "source": [
    "# 用tqdm包裹range即可\n",
    "p = 1\n",
    "for i in tqdm(range(50)):\n",
    "    p *= (i + 1)\n",
    "    sleep(0.05)\n",
    "print(f\"{p=:,}\")\n"
   ]
  },
  {
   "cell_type": "code",
   "execution_count": 12,
   "metadata": {},
   "outputs": [
    {
     "name": "stderr",
     "output_type": "stream",
     "text": [
      "100%|██████████| 50/50 [00:02<00:00, 19.47it/s]"
     ]
    },
    {
     "name": "stdout",
     "output_type": "stream",
     "text": [
      "p=30,414,093,201,713,378,043,612,608,166,064,768,844,377,641,568,960,512,000,000,000,000\n"
     ]
    },
    {
     "name": "stderr",
     "output_type": "stream",
     "text": [
      "\n"
     ]
    }
   ],
   "source": [
    "# 直接用trange也可以\n",
    "p = 1\n",
    "for i in trange(50): \n",
    "    p *= (i + 1)\n",
    "    sleep(0.05)\n",
    "print(f\"{p=:,}\")"
   ]
  },
  {
   "cell_type": "code",
   "execution_count": 13,
   "metadata": {},
   "outputs": [
    {
     "name": "stderr",
     "output_type": "stream",
     "text": [
      "100%|██████████| 50/50 [00:02<00:00, 19.48it/s]"
     ]
    },
    {
     "name": "stdout",
     "output_type": "stream",
     "text": [
      "name='Nathaniel Kramer' name='Natasha Williams' name='Alejandro Fuentes DVM' name='Jacqueline Williams' name='Gail Leon' name='Julie Caldwell' name='Kevin Rojas' name='Dr. Jeffrey Walker Jr.' name='Elizabeth Olson' name='Jeffrey Howard' name='Kristin Johnson' name='Jennifer Hamilton' name='Virginia Pierce' name='Emily Sanders' name='Dorothy Peters' name='Teresa Woodard' name='Steven Baker' name='Tara Benton' name='Adam Evans' name='Jenny Clark' name='Anita Jones' name='Melissa Franklin' name='Mary Hoffman' name='Diane Terry' name='Mary Torres' name='Justin Logan' name='Michael Ryan' name='Heather Mcbride' name='Christina Davis' name='Jesus Glenn' name='Charles Benson' name='Andrew Galvan' name='Cody Gray' name='Laura Fry' name='Alicia Dunn' name='Michelle Boyer' name='David Chavez' name='Dennis Jones' name='Leslie Burgess MD' name='Douglas Williams' name='Lisa Powers' name='Nathan Parker' name='Christina Rojas' name='Robert Marquez' name='Kelsey Kim' name='Mrs. Brittany Shaw' name='Whitney Vazquez' name='Nicole Coleman' name='Mackenzie Hobbs' name='Danny Rodriguez' \n"
     ]
    },
    {
     "name": "stderr",
     "output_type": "stream",
     "text": [
      "\n"
     ]
    }
   ],
   "source": [
    "# 其它可迭代对象，直接用tqdm包裹起来\n",
    "s = \"\"\n",
    "for name in tqdm(alist):\n",
    "    s += f\"{name=} \"  # 假装处理一下\n",
    "    sleep(0.05)\n",
    "print(s)\n",
    "    "
   ]
  },
  {
   "cell_type": "markdown",
   "metadata": {},
   "source": [
    "## 设置进度条信息"
   ]
  },
  {
   "cell_type": "code",
   "execution_count": 14,
   "metadata": {},
   "outputs": [
    {
     "name": "stderr",
     "output_type": "stream",
     "text": [
      "正在计算i=49: 100%|██████████| 50/50 [00:02<00:00, 19.30it/s]"
     ]
    },
    {
     "name": "stdout",
     "output_type": "stream",
     "text": [
      "p=30,414,093,201,713,378,043,612,608,166,064,768,844,377,641,568,960,512,000,000,000,000\n"
     ]
    },
    {
     "name": "stderr",
     "output_type": "stream",
     "text": [
      "\n"
     ]
    }
   ],
   "source": [
    "# 处理中的信息\n",
    "proc_bar = tqdm(range(50))\n",
    "p = 1\n",
    "for i in proc_bar:\n",
    "    proc_bar.set_description(f\"正在计算{i=:02d}\")  # 设定前导信息\n",
    "    p *= (i + 1)\n",
    "    sleep(0.05)\n",
    "print(f\"{p=:,}\")\n"
   ]
  },
  {
   "cell_type": "code",
   "execution_count": 15,
   "metadata": {},
   "outputs": [
    {
     "name": "stderr",
     "output_type": "stream",
     "text": [
      "100%|██████████| 50/50 [00:02<00:00, 19.27it/s, 正在处理=Danny Rodriguez]      "
     ]
    },
    {
     "name": "stdout",
     "output_type": "stream",
     "text": [
      "name='Nathaniel Kramer' name='Natasha Williams' name='Alejandro Fuentes DVM' name='Jacqueline Williams' name='Gail Leon' name='Julie Caldwell' name='Kevin Rojas' name='Dr. Jeffrey Walker Jr.' name='Elizabeth Olson' name='Jeffrey Howard' name='Kristin Johnson' name='Jennifer Hamilton' name='Virginia Pierce' name='Emily Sanders' name='Dorothy Peters' name='Teresa Woodard' name='Steven Baker' name='Tara Benton' name='Adam Evans' name='Jenny Clark' name='Anita Jones' name='Melissa Franklin' name='Mary Hoffman' name='Diane Terry' name='Mary Torres' name='Justin Logan' name='Michael Ryan' name='Heather Mcbride' name='Christina Davis' name='Jesus Glenn' name='Charles Benson' name='Andrew Galvan' name='Cody Gray' name='Laura Fry' name='Alicia Dunn' name='Michelle Boyer' name='David Chavez' name='Dennis Jones' name='Leslie Burgess MD' name='Douglas Williams' name='Lisa Powers' name='Nathan Parker' name='Christina Rojas' name='Robert Marquez' name='Kelsey Kim' name='Mrs. Brittany Shaw' name='Whitney Vazquez' name='Nicole Coleman' name='Mackenzie Hobbs' name='Danny Rodriguez' \n"
     ]
    },
    {
     "name": "stderr",
     "output_type": "stream",
     "text": [
      "\n"
     ]
    }
   ],
   "source": [
    "# 显示信息\n",
    "proc_bar = tqdm(alist)\n",
    "s = \"\"\n",
    "for name in proc_bar:\n",
    "    proc_bar.set_postfix({\"正在处理\":f\"{name}\"})  # 加在后面\n",
    "    s += f\"{name=} \"  # 假装处理一下\n",
    "    sleep(0.05)\n",
    "print(s)\n"
   ]
  },
  {
   "cell_type": "markdown",
   "metadata": {},
   "source": [
    "## 自定义控制"
   ]
  },
  {
   "cell_type": "code",
   "execution_count": 19,
   "metadata": {},
   "outputs": [
    {
     "name": "stderr",
     "output_type": "stream",
     "text": [
      "100%|██████████| 100.0/100 [00:02<00:00, 48.67it/s]"
     ]
    },
    {
     "name": "stdout",
     "output_type": "stream",
     "text": [
      "p=815,915,283,247,897,734,345,611,269,596,115,894,272,000,000,000\n"
     ]
    },
    {
     "name": "stderr",
     "output_type": "stream",
     "text": [
      "\n"
     ]
    }
   ],
   "source": [
    "# 自定义进度条\n",
    "proc_bar = tqdm(total=100)  # 进度条对象\n",
    "p = 1\n",
    "n = 40\n",
    "for i in range(n):\n",
    "    #proc_bar.set_description(f\"正在计算{i=:02d}\")\n",
    "    proc_bar.update(100/n)  # 更新进度条显示\n",
    "    p *= (i + 1)\n",
    "    sleep(0.05)\n",
    "proc_bar.close()  # 关闭进度条，释放资源\n",
    "print(f\"{p=:,}\")\n"
   ]
  },
  {
   "cell_type": "markdown",
   "metadata": {},
   "source": [
    "## 图形化进度条"
   ]
  },
  {
   "cell_type": "code",
   "execution_count": null,
   "metadata": {},
   "outputs": [],
   "source": [
    "from tqdm.tk import tqdm\n",
    "s = \"\"\n",
    "for name in tqdm(alist):\n",
    "    s += f\"{name=} \"  # 假装处理一下\n",
    "    sleep(0.05)\n",
    "print(s)\n"
   ]
  }
 ],
 "metadata": {
  "kernelspec": {
   "display_name": "Python 3.9.13 ('base')",
   "language": "python",
   "name": "python3"
  },
  "language_info": {
   "codemirror_mode": {
    "name": "ipython",
    "version": 3
   },
   "file_extension": ".py",
   "mimetype": "text/x-python",
   "name": "python",
   "nbconvert_exporter": "python",
   "pygments_lexer": "ipython3",
   "version": "3.9.13"
  },
  "orig_nbformat": 4,
  "vscode": {
   "interpreter": {
    "hash": "9e9b5bdee76833c82256a661fe97e28092f057e4e062e2d5f1c366bf572c51cc"
   }
  }
 },
 "nbformat": 4,
 "nbformat_minor": 2
}
