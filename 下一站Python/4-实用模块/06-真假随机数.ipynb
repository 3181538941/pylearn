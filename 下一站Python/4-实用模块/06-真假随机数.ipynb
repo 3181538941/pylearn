{
 "cells": [
  {
   "cell_type": "markdown",
   "metadata": {},
   "source": [
    "# 真假随机数\n",
    "## 什么是随机数？\n",
    "- A:在一定范围内，没有明显规律，均匀分布的一组数；\n",
    "- B:在一定范围内，完全没有规律的一组数；\n",
    "- 前者（伪随机数）适合用于建模和模拟（random库）\n",
    "- 后者（真随机数）适用于信息安全和加密（secrets库）\n",
    "\n",
    "## random库\n",
    "### random() 和 uniform(a, b)"
   ]
  },
  {
   "cell_type": "code",
   "execution_count": 76,
   "metadata": {},
   "outputs": [
    {
     "name": "stdout",
     "output_type": "stream",
     "text": [
      "[0.531625749833213, 0.44260596145510844, 0.3100535689731292, 0.06078984974450796, 0.7836253322031823, 0.982027751991927, 0.4123676395792203, 0.634043576667162, 0.8108792082388334, 0.8610823891276245]\n"
     ]
    }
   ],
   "source": [
    "# random常用方法\n",
    "import random\n",
    "\n",
    "random.seed(2022)  # 设定伪随机数发生器的种子\n",
    "# random()产生[0.0, 1.0)区间内的均匀随机浮点数\n",
    "print([random.random() for _ in range(10)])"
   ]
  },
  {
   "cell_type": "code",
   "execution_count": 79,
   "metadata": {},
   "outputs": [
    {
     "name": "stdout",
     "output_type": "stream",
     "text": [
      "[2.32273922461639, 2.1179937113467497, 1.8131232086381972, 1.2398166544123683, 2.9023382640673194, 3.358663829581432, 2.0484455710322065, 2.558300226334473, 2.965022178949317, 3.080489494993536]\n",
      "[1.6496985361561196, 2.6902202778587556, 1.9619586039437553, 2.135811141150513, 2.20505474132305, 3.3126066806078853, 1.68644081768765, 2.7906091049973796, 1.3170036219626824, 1.38577930819406]\n"
     ]
    }
   ],
   "source": [
    "random.seed(2022)  # 设定伪随机数发生器的种子\n",
    "# uniform(a, b)产生a和b之间的随机浮点数\n",
    "print([random.uniform(1.1, 3.4) for _ in range(10)])\n",
    "print([random.uniform(3.4, 1.1) for _ in range(10)])"
   ]
  },
  {
   "cell_type": "markdown",
   "metadata": {},
   "source": [
    "### randint(a, b) 和 randrange(s, e)"
   ]
  },
  {
   "cell_type": "code",
   "execution_count": 93,
   "metadata": {},
   "outputs": [
    {
     "name": "stdout",
     "output_type": "stream",
     "text": [
      "[69, 37, 57, 70, 40, 75, 8, 67, 89, 91]\n"
     ]
    }
   ],
   "source": [
    "random.seed(2022)  # 无参数，则用系统当前时间作为种子\n",
    "# randint(a, b)产生[a, b]之间的随机整数\n",
    "print([random.randint(1, 100) for _ in range(10)])"
   ]
  },
  {
   "cell_type": "code",
   "execution_count": 97,
   "metadata": {},
   "outputs": [
    {
     "name": "stdout",
     "output_type": "stream",
     "text": [
      "[69, 37, 57, 70, 40, 75, 8, 67, 89, 91]\n"
     ]
    }
   ],
   "source": [
    "random.seed(2022)  # 设定伪随机数发生器的种子\n",
    "# randrange(s, e)产生[s, e)之间的随机整数\n",
    "print([random.randrange(1, 100) for _ in range(10)])"
   ]
  },
  {
   "cell_type": "markdown",
   "metadata": {},
   "source": [
    "### shuffle(alist)"
   ]
  },
  {
   "cell_type": "code",
   "execution_count": 98,
   "metadata": {},
   "outputs": [
    {
     "name": "stdout",
     "output_type": "stream",
     "text": [
      "alist=[0, 1, 2, 3, 4, 5, 6, 7, 8, 9]\n",
      "alist=[3, 1, 5, 0, 6, 2, 9, 7, 4, 8]\n"
     ]
    }
   ],
   "source": [
    "random.seed(2022)  # 设定伪随机数发生器的种子\n",
    "alist = list(range(10))\n",
    "print(f\"{alist=}\")\n",
    "\n",
    "# shuffle把可变序列随机打乱位置\n",
    "random.shuffle(alist)\n",
    "print(f\"{alist=}\")\n"
   ]
  },
  {
   "cell_type": "markdown",
   "metadata": {},
   "source": [
    "### choice(alist) 和 sample(alist, n)"
   ]
  },
  {
   "cell_type": "code",
   "execution_count": 101,
   "metadata": {},
   "outputs": [
    {
     "name": "stdout",
     "output_type": "stream",
     "text": [
      "青\n",
      "['黄', '蓝', '红', '黑', '白', '黄']\n"
     ]
    },
    {
     "ename": "ValueError",
     "evalue": "Sample larger than population or is negative",
     "output_type": "error",
     "traceback": [
      "\u001b[0;31m---------------------------------------------------------------------------\u001b[0m",
      "\u001b[0;31mValueError\u001b[0m                                Traceback (most recent call last)",
      "Cell \u001b[0;32mIn [101], line 10\u001b[0m\n\u001b[1;32m      7\u001b[0m \u001b[39mprint\u001b[39m(random\u001b[39m.\u001b[39mchoices(alist, k\u001b[39m=\u001b[39m\u001b[39m6\u001b[39m))\n\u001b[1;32m      9\u001b[0m \u001b[39m# sample从列表中任选多个数据项(无放回)\u001b[39;00m\n\u001b[0;32m---> 10\u001b[0m \u001b[39mprint\u001b[39m(random\u001b[39m.\u001b[39;49msample(alist, k\u001b[39m=\u001b[39;49m\u001b[39m9\u001b[39;49m))\n",
      "File \u001b[0;32m~/miniforge3/lib/python3.9/random.py:449\u001b[0m, in \u001b[0;36mRandom.sample\u001b[0;34m(self, population, k, counts)\u001b[0m\n\u001b[1;32m    447\u001b[0m randbelow \u001b[39m=\u001b[39m \u001b[39mself\u001b[39m\u001b[39m.\u001b[39m_randbelow\n\u001b[1;32m    448\u001b[0m \u001b[39mif\u001b[39;00m \u001b[39mnot\u001b[39;00m \u001b[39m0\u001b[39m \u001b[39m<\u001b[39m\u001b[39m=\u001b[39m k \u001b[39m<\u001b[39m\u001b[39m=\u001b[39m n:\n\u001b[0;32m--> 449\u001b[0m     \u001b[39mraise\u001b[39;00m \u001b[39mValueError\u001b[39;00m(\u001b[39m\"\u001b[39m\u001b[39mSample larger than population or is negative\u001b[39m\u001b[39m\"\u001b[39m)\n\u001b[1;32m    450\u001b[0m result \u001b[39m=\u001b[39m [\u001b[39mNone\u001b[39;00m] \u001b[39m*\u001b[39m k\n\u001b[1;32m    451\u001b[0m setsize \u001b[39m=\u001b[39m \u001b[39m21\u001b[39m        \u001b[39m# size of a small set minus size of an empty list\u001b[39;00m\n",
      "\u001b[0;31mValueError\u001b[0m: Sample larger than population or is negative"
     ]
    }
   ],
   "source": [
    "random.seed(2022)  # 设定伪随机数发生器的种子\n",
    "alist = [\"红\", \"绿\", \"蓝\", \"黄\", \"青\", \"紫\", \"黑\", \"白\"]\n",
    "# choice从列表中任选一个数据项\n",
    "print(random.choice(alist))\n",
    "\n",
    "# choices从列表中任选多个数据项（有返回，可能重复）\n",
    "print(random.choices(alist, k=6))\n",
    "\n",
    "# sample从列表中任选多个数据项(无放回)\n",
    "print(random.sample(alist, k=9))"
   ]
  },
  {
   "cell_type": "markdown",
   "metadata": {},
   "source": [
    "## secrets库\n",
    "### choice(alist)"
   ]
  },
  {
   "cell_type": "code",
   "execution_count": 109,
   "metadata": {},
   "outputs": [
    {
     "name": "stdout",
     "output_type": "stream",
     "text": [
      "绿\n"
     ]
    }
   ],
   "source": [
    "# secrets常用方法\n",
    "import secrets\n",
    "alist = [\"红\", \"绿\", \"蓝\", \"黄\", \"青\", \"紫\", \"黑\", \"白\"]\n",
    "# choice从列表中任选一个数据项\n",
    "print(secrets.choice(alist))"
   ]
  },
  {
   "cell_type": "markdown",
   "metadata": {},
   "source": [
    "### randbelow(n) 和 randbits(k)"
   ]
  },
  {
   "cell_type": "code",
   "execution_count": 113,
   "metadata": {},
   "outputs": [
    {
     "name": "stdout",
     "output_type": "stream",
     "text": [
      "[52, 23, 77, 71, 93, 10, 46, 13, 98, 27]\n",
      "[995, 577, 792, 122, 447, 304, 158, 550, 334, 309]\n"
     ]
    }
   ],
   "source": [
    "# randbelow(n) 相当于 randrange(n)\n",
    "# 返回[0, n)范围内的随机整数\n",
    "print([secrets.randbelow(100) for _ in range(10)])\n",
    "\n",
    "# randbits(k)返回k bits的随机整数\n",
    "# 下面是0～1023之间的整数\n",
    "print([secrets.randbits(10) for _ in range(10)])"
   ]
  },
  {
   "cell_type": "markdown",
   "metadata": {},
   "source": [
    "### token_bytes(n), token_hex(n), token_urlsafe(n)"
   ]
  },
  {
   "cell_type": "code",
   "execution_count": 114,
   "metadata": {},
   "outputs": [
    {
     "name": "stdout",
     "output_type": "stream",
     "text": [
      "secrets.token_bytes(16)=b'\\x05\\x19J\\xcc\\xc2\\x1d2k\\x95t\\x808\\xf6\\x88\\xbc\\xef'\n",
      "secrets.token_hex(16)='19222d38f4d009fdd99ed1da3f535a2e'\n",
      "secrets.token_urlsafe(16)='2CIOiqKf44xPU56yjkAXhw'\n"
     ]
    }
   ],
   "source": [
    "# token系列随机数生成n个随机字节的不同形式字串，\n",
    "# 用于密码重置、密保URL等应用场景\n",
    "print(f\"{secrets.token_bytes(16)=}\") # bytes\n",
    "print(f\"{secrets.token_hex(16)=}\")  # hex str\n",
    "print(f\"{secrets.token_urlsafe(16)=}\")  # base64 str\n"
   ]
  }
 ],
 "metadata": {
  "kernelspec": {
   "display_name": "Python 3.9.13 ('base')",
   "language": "python",
   "name": "python3"
  },
  "language_info": {
   "codemirror_mode": {
    "name": "ipython",
    "version": 3
   },
   "file_extension": ".py",
   "mimetype": "text/x-python",
   "name": "python",
   "nbconvert_exporter": "python",
   "pygments_lexer": "ipython3",
   "version": "3.9.13"
  },
  "orig_nbformat": 4,
  "vscode": {
   "interpreter": {
    "hash": "9e9b5bdee76833c82256a661fe97e28092f057e4e062e2d5f1c366bf572c51cc"
   }
  }
 },
 "nbformat": 4,
 "nbformat_minor": 2
}
