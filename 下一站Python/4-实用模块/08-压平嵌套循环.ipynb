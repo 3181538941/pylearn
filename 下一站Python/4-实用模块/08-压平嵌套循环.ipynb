{
 "cells": [
  {
   "cell_type": "markdown",
   "metadata": {},
   "source": [
    "# 压平嵌套循环\n",
    "## 求100以内的所有勾股数"
   ]
  },
  {
   "cell_type": "code",
   "execution_count": 1,
   "metadata": {},
   "outputs": [
    {
     "name": "stdout",
     "output_type": "stream",
     "text": [
      "3 4 5\n",
      "4 3 5\n",
      "5 12 13\n",
      "6 8 10\n",
      "7 24 25\n",
      "8 6 10\n",
      "8 15 17\n",
      "9 12 15\n",
      "9 40 41\n",
      "10 24 26\n",
      "11 60 61\n",
      "12 5 13\n",
      "12 9 15\n",
      "12 16 20\n",
      "12 35 37\n",
      "13 84 85\n",
      "14 48 50\n",
      "15 8 17\n",
      "15 20 25\n",
      "15 36 39\n",
      "16 12 20\n",
      "16 30 34\n",
      "16 63 65\n",
      "18 24 30\n",
      "18 80 82\n",
      "20 15 25\n",
      "20 21 29\n",
      "20 48 52\n",
      "21 20 29\n",
      "21 28 35\n",
      "21 72 75\n",
      "24 7 25\n",
      "24 10 26\n",
      "24 18 30\n",
      "24 32 40\n",
      "24 45 51\n",
      "24 70 74\n",
      "25 60 65\n",
      "27 36 45\n",
      "28 21 35\n",
      "28 45 53\n",
      "30 16 34\n",
      "30 40 50\n",
      "30 72 78\n",
      "32 24 40\n",
      "32 60 68\n",
      "33 44 55\n",
      "33 56 65\n",
      "35 12 37\n",
      "35 84 91\n",
      "36 15 39\n",
      "36 27 45\n",
      "36 48 60\n",
      "36 77 85\n",
      "39 52 65\n",
      "39 80 89\n",
      "40 9 41\n",
      "40 30 50\n",
      "40 42 58\n",
      "40 75 85\n",
      "42 40 58\n",
      "42 56 70\n",
      "44 33 55\n",
      "45 24 51\n",
      "45 28 53\n",
      "45 60 75\n",
      "48 14 50\n",
      "48 20 52\n",
      "48 36 60\n",
      "48 55 73\n",
      "48 64 80\n",
      "51 68 85\n",
      "52 39 65\n",
      "54 72 90\n",
      "55 48 73\n",
      "56 33 65\n",
      "56 42 70\n",
      "57 76 95\n",
      "60 11 61\n",
      "60 25 65\n",
      "60 32 68\n",
      "60 45 75\n",
      "60 63 87\n",
      "63 16 65\n",
      "63 60 87\n",
      "64 48 80\n",
      "65 72 97\n",
      "68 51 85\n",
      "70 24 74\n",
      "72 21 75\n",
      "72 30 78\n",
      "72 54 90\n",
      "72 65 97\n",
      "75 40 85\n",
      "76 57 95\n",
      "77 36 85\n",
      "80 18 82\n",
      "80 39 89\n",
      "84 13 85\n",
      "84 35 91\n"
     ]
    }
   ],
   "source": [
    "# 100以内的勾股数i*i+j*j==k*k (0<i,j,k<100)\n",
    "for i in range(1, 100):\n",
    "    for j in range(1, 100):\n",
    "        for k in range(1, 100):\n",
    "            if i * i + j * j == k * k:\n",
    "                print(i, j, k)\n"
   ]
  },
  {
   "cell_type": "markdown",
   "metadata": {},
   "source": [
    "## 笛卡尔积\n",
    "- ```from itertools import product```\n",
    "- ```product(*iterables, repeat=1)```\n",
    "- 若干个容器做笛卡尔积\n",
    "  - ```product('ABCD', 'xy') -> Ax Ay Bx By Cx Cy Dx Dy```\n",
    "- 容器做自身笛卡尔积\n",
    "  - ```product(range(2), repeat=3) --> 000 001 010 011 100 101 110 111```"
   ]
  },
  {
   "cell_type": "code",
   "execution_count": 2,
   "metadata": {},
   "outputs": [
    {
     "name": "stdout",
     "output_type": "stream",
     "text": [
      "3 4 5\n",
      "4 3 5\n",
      "5 12 13\n",
      "6 8 10\n",
      "7 24 25\n",
      "8 6 10\n",
      "8 15 17\n",
      "9 12 15\n",
      "9 40 41\n",
      "10 24 26\n",
      "11 60 61\n",
      "12 5 13\n",
      "12 9 15\n",
      "12 16 20\n",
      "12 35 37\n",
      "13 84 85\n",
      "14 48 50\n",
      "15 8 17\n",
      "15 20 25\n",
      "15 36 39\n",
      "16 12 20\n",
      "16 30 34\n",
      "16 63 65\n",
      "18 24 30\n",
      "18 80 82\n",
      "20 15 25\n",
      "20 21 29\n",
      "20 48 52\n",
      "21 20 29\n",
      "21 28 35\n",
      "21 72 75\n",
      "24 7 25\n",
      "24 10 26\n",
      "24 18 30\n",
      "24 32 40\n",
      "24 45 51\n",
      "24 70 74\n",
      "25 60 65\n",
      "27 36 45\n",
      "28 21 35\n",
      "28 45 53\n",
      "30 16 34\n",
      "30 40 50\n",
      "30 72 78\n",
      "32 24 40\n",
      "32 60 68\n",
      "33 44 55\n",
      "33 56 65\n",
      "35 12 37\n",
      "35 84 91\n",
      "36 15 39\n",
      "36 27 45\n",
      "36 48 60\n",
      "36 77 85\n",
      "39 52 65\n",
      "39 80 89\n",
      "40 9 41\n",
      "40 30 50\n",
      "40 42 58\n",
      "40 75 85\n",
      "42 40 58\n",
      "42 56 70\n",
      "44 33 55\n",
      "45 24 51\n",
      "45 28 53\n",
      "45 60 75\n",
      "48 14 50\n",
      "48 20 52\n",
      "48 36 60\n",
      "48 55 73\n",
      "48 64 80\n",
      "51 68 85\n",
      "52 39 65\n",
      "54 72 90\n",
      "55 48 73\n",
      "56 33 65\n",
      "56 42 70\n",
      "57 76 95\n",
      "60 11 61\n",
      "60 25 65\n",
      "60 32 68\n",
      "60 45 75\n",
      "60 63 87\n",
      "63 16 65\n",
      "63 60 87\n",
      "64 48 80\n",
      "65 72 97\n",
      "68 51 85\n",
      "70 24 74\n",
      "72 21 75\n",
      "72 30 78\n",
      "72 54 90\n",
      "72 65 97\n",
      "75 40 85\n",
      "76 57 95\n",
      "77 36 85\n",
      "80 18 82\n",
      "80 39 89\n",
      "84 13 85\n",
      "84 35 91\n"
     ]
    }
   ],
   "source": [
    "# 100以内的勾股数i*i+j*j==k*k (0<i,j,k<100)\n",
    "from itertools import product\n",
    "for i, j, k in product(range(1, 100), repeat=3):\n",
    "    if i * i + j * j == k * k:\n",
    "        print(i, j, k)"
   ]
  },
  {
   "cell_type": "markdown",
   "metadata": {},
   "source": [
    "## 求100以内的所有的勾股数**组合**\n",
    "- 如(3, 4, 5)、(3, 5, 4)、(4, 3, 5)、(4, 5, 3)、(5, 4, 3)、(5, 3, 4)算一组勾股数"
   ]
  },
  {
   "cell_type": "code",
   "execution_count": 7,
   "metadata": {},
   "outputs": [
    {
     "name": "stdout",
     "output_type": "stream",
     "text": [
      "3 4 5\n",
      "5 12 13\n",
      "6 8 10\n",
      "7 24 25\n",
      "8 15 17\n",
      "9 12 15\n",
      "9 40 41\n",
      "10 24 26\n",
      "11 60 61\n",
      "12 16 20\n",
      "12 35 37\n",
      "13 84 85\n",
      "14 48 50\n",
      "15 20 25\n",
      "15 36 39\n",
      "16 30 34\n",
      "16 63 65\n",
      "18 24 30\n",
      "18 80 82\n",
      "20 21 29\n",
      "20 48 52\n",
      "21 28 35\n",
      "21 72 75\n",
      "24 32 40\n",
      "24 45 51\n",
      "24 70 74\n",
      "25 60 65\n",
      "27 36 45\n",
      "28 45 53\n",
      "30 40 50\n",
      "30 72 78\n",
      "32 60 68\n",
      "33 44 55\n",
      "33 56 65\n",
      "35 84 91\n",
      "36 48 60\n",
      "36 77 85\n",
      "39 52 65\n",
      "39 80 89\n",
      "40 42 58\n",
      "40 75 85\n",
      "42 56 70\n",
      "45 60 75\n",
      "48 55 73\n",
      "48 64 80\n",
      "51 68 85\n",
      "54 72 90\n",
      "57 76 95\n",
      "60 63 87\n",
      "65 72 97\n"
     ]
    }
   ],
   "source": [
    "# 100以内的不重复的勾股数i*i+j*j==k*k (0<i,j,k<100)\n",
    "# 不能排除i==j, j==k, i==k的可能性\n",
    "for i in range(1, 100):\n",
    "    for j in range(i, 100):\n",
    "        for k in range(j, 100):\n",
    "            if i * i + j * j == k * k:\n",
    "                print(i, j, k)"
   ]
  },
  {
   "cell_type": "markdown",
   "metadata": {},
   "source": [
    "## 元素可重复的组合\n",
    "- ```from itertools import combinations_with_replacement```\n",
    "- ```combinations_with_replacement(iterable, r)```\n",
    "- 容器取r个元素，元素可以重复的组合\n",
    "  - ```combinations_with_replacement('ABC', 2) --> AA AB AC BB BC CC```"
   ]
  },
  {
   "cell_type": "code",
   "execution_count": 9,
   "metadata": {},
   "outputs": [
    {
     "name": "stdout",
     "output_type": "stream",
     "text": [
      "3 4 5\n",
      "5 12 13\n",
      "6 8 10\n",
      "7 24 25\n",
      "8 15 17\n",
      "9 12 15\n",
      "9 40 41\n",
      "10 24 26\n",
      "11 60 61\n",
      "12 16 20\n",
      "12 35 37\n",
      "13 84 85\n",
      "14 48 50\n",
      "15 20 25\n",
      "15 36 39\n",
      "16 30 34\n",
      "16 63 65\n",
      "18 24 30\n",
      "18 80 82\n",
      "20 21 29\n",
      "20 48 52\n",
      "21 28 35\n",
      "21 72 75\n",
      "24 32 40\n",
      "24 45 51\n",
      "24 70 74\n",
      "25 60 65\n",
      "27 36 45\n",
      "28 45 53\n",
      "30 40 50\n",
      "30 72 78\n",
      "32 60 68\n",
      "33 44 55\n",
      "33 56 65\n",
      "35 84 91\n",
      "36 48 60\n",
      "36 77 85\n",
      "39 52 65\n",
      "39 80 89\n",
      "40 42 58\n",
      "40 75 85\n",
      "42 56 70\n",
      "45 60 75\n",
      "48 55 73\n",
      "48 64 80\n",
      "51 68 85\n",
      "54 72 90\n",
      "57 76 95\n",
      "60 63 87\n",
      "65 72 97\n"
     ]
    }
   ],
   "source": [
    "# 100以内的不重复的勾股数i*i+j*j==k*k (0<i,j,k<100)\n",
    "# 不能排除i==j, j==k, i==k的可能性\n",
    "from itertools import combinations_with_replacement\n",
    "for i, j, k in combinations_with_replacement(range(1, 100), 3):\n",
    "    if i * i + j * j == k * k:\n",
    "        print(i, j, k)\n"
   ]
  },
  {
   "cell_type": "markdown",
   "metadata": {},
   "source": [
    "## 砝码称不出的重量\n",
    "- 有10个不同重量的砝码；\n",
    "- 任意取3个组合，请问在[a,b]重量区间，哪些重量无法覆盖？"
   ]
  },
  {
   "cell_type": "code",
   "execution_count": 14,
   "metadata": {},
   "outputs": [
    {
     "name": "stdout",
     "output_type": "stream",
     "text": [
      "{29, 30}\n"
     ]
    }
   ],
   "source": [
    "# 重量组合问题\n",
    "wlist = [5, 2, 3, 4, 5, 5, 6, 9, 12, 10]\n",
    "n = len(wlist)\n",
    "a, b = 10, 30\n",
    "wset = set(range(a, b+1))\n",
    "for i in range(n):\n",
    "    for j in range(i+1, n):\n",
    "        for k in range(j+1, n):\n",
    "            total = wlist[i]+wlist[j]+wlist[k]\n",
    "            if total in wset:\n",
    "                wset.remove(total)\n",
    "print(wset)\n"
   ]
  },
  {
   "cell_type": "markdown",
   "metadata": {},
   "source": [
    "## 元素不重复的组合\n",
    "- ```from itertools import combinations```\n",
    "- ```combinations(iterable, r)```\n",
    "- 容器取r个不重复元素的组合\n",
    "  - ```combinations('ABCD', 2) --> AB AC AD BC BD CD```\n",
    "  - ```combinations(range(4), 3) --> 012 013 023 123```"
   ]
  },
  {
   "cell_type": "code",
   "execution_count": 17,
   "metadata": {},
   "outputs": [
    {
     "name": "stdout",
     "output_type": "stream",
     "text": [
      "{29, 30}\n"
     ]
    }
   ],
   "source": [
    "# 重量组合问题\n",
    "from itertools import combinations\n",
    "wlist = [5, 2, 3, 4, 5, 5, 6, 9, 12, 10]\n",
    "n = len(wlist)\n",
    "a, b = 10, 30\n",
    "wset = set(range(a, b+1))\n",
    "for wi, wj, wk in combinations(wlist, 3):\n",
    "    total = wi + wj + wk\n",
    "    if total in wset:\n",
    "        wset.remove(total)\n",
    "print(wset)"
   ]
  },
  {
   "cell_type": "markdown",
   "metadata": {},
   "source": [
    "## 解一道数学谜题\n",
    "![](Puzzle_sendMoreMoney.jpg)"
   ]
  },
  {
   "cell_type": "code",
   "execution_count": 11,
   "metadata": {},
   "outputs": [
    {
     "name": "stdout",
     "output_type": "stream",
     "text": [
      "s=2,e=8,n=1,d=7,m=0,o=3,r=6,y=5\n",
      "s=2,e=8,n=1,d=9,m=0,o=3,r=6,y=7\n",
      "s=3,e=7,n=1,d=2,m=0,o=4,r=6,y=9\n",
      "s=3,e=7,n=1,d=9,m=0,o=4,r=5,y=6\n",
      "s=3,e=8,n=2,d=1,m=0,o=4,r=6,y=9\n",
      "s=3,e=8,n=2,d=9,m=0,o=4,r=5,y=7\n",
      "s=5,e=7,n=3,d=1,m=0,o=6,r=4,y=8\n",
      "s=5,e=7,n=3,d=2,m=0,o=6,r=4,y=9\n",
      "s=5,e=8,n=4,d=9,m=0,o=6,r=3,y=7\n",
      "s=6,e=4,n=1,d=5,m=0,o=7,r=3,y=9\n",
      "s=6,e=4,n=1,d=9,m=0,o=7,r=2,y=3\n",
      "s=6,e=5,n=2,d=4,m=0,o=7,r=3,y=9\n",
      "s=6,e=8,n=5,d=1,m=0,o=7,r=3,y=9\n",
      "s=6,e=8,n=5,d=3,m=0,o=7,r=2,y=1\n",
      "s=7,e=3,n=1,d=6,m=0,o=8,r=2,y=9\n",
      "s=7,e=4,n=2,d=9,m=0,o=8,r=1,y=3\n",
      "s=7,e=5,n=3,d=1,m=0,o=8,r=2,y=6\n",
      "s=7,e=5,n=3,d=4,m=0,o=8,r=2,y=9\n",
      "s=7,e=5,n=3,d=9,m=0,o=8,r=1,y=4\n",
      "s=7,e=6,n=4,d=3,m=0,o=8,r=2,y=9\n",
      "s=7,e=6,n=4,d=9,m=0,o=8,r=1,y=5\n",
      "s=8,e=3,n=2,d=4,m=0,o=9,r=1,y=7\n",
      "s=8,e=4,n=3,d=2,m=0,o=9,r=1,y=6\n",
      "s=8,e=5,n=4,d=2,m=0,o=9,r=1,y=7\n",
      "s=9,e=5,n=6,d=7,m=1,o=0,r=8,y=2\n"
     ]
    }
   ],
   "source": [
    "# SEND MORE MONEY数学谜题\n",
    "# 枚举策略\n",
    "for s in range(10):\n",
    "    for e in range(10):\n",
    "        for n in range(10):\n",
    "            for d in range(10):\n",
    "                for m in range(10):\n",
    "                    for o in range(10):\n",
    "                        for r in range(10):\n",
    "                            for y in range(10):\n",
    "                                if len(set([s, e, n, d, m, o, r, y])) == 8:\n",
    "                                    # 无重复，验证\n",
    "                                    if (s*1000+e*100+n*10+d) +\\\n",
    "                                        (m*1000+o*100+r*10+e) ==\\\n",
    "                                            (m*10000+o*1000+n*100+e*10+y):\n",
    "                                        print(f\"{s=},{e=},{n=},{d=},{m=},{o=},{r=},{y=}\")\n"
   ]
  },
  {
   "cell_type": "markdown",
   "metadata": {},
   "source": [
    "### 答案\n",
    "```\n",
    " 9567\n",
    "+1085\n",
    "-----\n",
    "10652\n",
    "```"
   ]
  },
  {
   "cell_type": "markdown",
   "metadata": {},
   "source": [
    "## 排列\n",
    "- ```from itertools import permutations```\n",
    "- ```permutations(iterable, r=None)```\n",
    "- 可迭代对象的长度为r的全排列\n",
    "    - ```permutations('ABCD', 2) --> AB AC AD BA BC BD CA CB CD DA DB DC```\n",
    "- 可迭代对象的全长排列，每个元素都出现\n",
    "    - ```permutations(range(3)) --> 012 021 102 120 201 210```"
   ]
  },
  {
   "cell_type": "code",
   "execution_count": 12,
   "metadata": {},
   "outputs": [
    {
     "name": "stdout",
     "output_type": "stream",
     "text": [
      "s=2,e=8,n=1,d=7,m=0,o=3,r=6,y=5\n",
      "s=2,e=8,n=1,d=9,m=0,o=3,r=6,y=7\n",
      "s=3,e=7,n=1,d=2,m=0,o=4,r=6,y=9\n",
      "s=3,e=7,n=1,d=9,m=0,o=4,r=5,y=6\n",
      "s=3,e=8,n=2,d=1,m=0,o=4,r=6,y=9\n",
      "s=3,e=8,n=2,d=9,m=0,o=4,r=5,y=7\n",
      "s=5,e=7,n=3,d=1,m=0,o=6,r=4,y=8\n",
      "s=5,e=7,n=3,d=2,m=0,o=6,r=4,y=9\n",
      "s=5,e=8,n=4,d=9,m=0,o=6,r=3,y=7\n",
      "s=6,e=4,n=1,d=5,m=0,o=7,r=3,y=9\n",
      "s=6,e=4,n=1,d=9,m=0,o=7,r=2,y=3\n",
      "s=6,e=5,n=2,d=4,m=0,o=7,r=3,y=9\n",
      "s=6,e=8,n=5,d=1,m=0,o=7,r=3,y=9\n",
      "s=6,e=8,n=5,d=3,m=0,o=7,r=2,y=1\n",
      "s=7,e=3,n=1,d=6,m=0,o=8,r=2,y=9\n",
      "s=7,e=4,n=2,d=9,m=0,o=8,r=1,y=3\n",
      "s=7,e=5,n=3,d=1,m=0,o=8,r=2,y=6\n",
      "s=7,e=5,n=3,d=4,m=0,o=8,r=2,y=9\n",
      "s=7,e=5,n=3,d=9,m=0,o=8,r=1,y=4\n",
      "s=7,e=6,n=4,d=3,m=0,o=8,r=2,y=9\n",
      "s=7,e=6,n=4,d=9,m=0,o=8,r=1,y=5\n",
      "s=8,e=3,n=2,d=4,m=0,o=9,r=1,y=7\n",
      "s=8,e=4,n=3,d=2,m=0,o=9,r=1,y=6\n",
      "s=8,e=5,n=4,d=2,m=0,o=9,r=1,y=7\n",
      "s=9,e=5,n=6,d=7,m=1,o=0,r=8,y=2\n"
     ]
    }
   ],
   "source": [
    "# SEND MORE MONEY数学谜题\n",
    "# 枚举策略\n",
    "from itertools import permutations\n",
    "for s, e, n, d, m, o, r, y in permutations(range(10), 8):\n",
    "    if (s*1000+e*100+n*10+d) +\\\n",
    "        (m*1000+o*100+r*10+e) ==\\\n",
    "            (m*10000+o*1000+n*100+e*10+y):\n",
    "        print(f\"{s=},{e=},{n=},{d=},{m=},{o=},{r=},{y=}\")\n"
   ]
  }
 ],
 "metadata": {
  "kernelspec": {
   "display_name": "Python 3.9.13 ('base')",
   "language": "python",
   "name": "python3"
  },
  "language_info": {
   "codemirror_mode": {
    "name": "ipython",
    "version": 3
   },
   "file_extension": ".py",
   "mimetype": "text/x-python",
   "name": "python",
   "nbconvert_exporter": "python",
   "pygments_lexer": "ipython3",
   "version": "3.9.13"
  },
  "orig_nbformat": 4,
  "vscode": {
   "interpreter": {
    "hash": "9e9b5bdee76833c82256a661fe97e28092f057e4e062e2d5f1c366bf572c51cc"
   }
  }
 },
 "nbformat": 4,
 "nbformat_minor": 2
}
