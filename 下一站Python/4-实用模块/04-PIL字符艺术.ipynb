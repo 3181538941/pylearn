{
 "cells": [
  {
   "cell_type": "markdown",
   "metadata": {},
   "source": [
    "# PIL字符艺术\n",
    "## 字符重绘的图案\n",
    "\n",
    "![](Jerry_Mouse.jpg)\n",
    "\n",
    "![](asciiart-img.png)"
   ]
  },
  {
   "cell_type": "markdown",
   "metadata": {},
   "source": [
    "## 字符图案算法步骤\n",
    "- 准备灰度像素->字符映射；\n",
    "- 加载图像，改变大小到指定宽度；\n",
    "- 图像转换为灰度；\n",
    "- 按行输出映射的字符到文本文件\n",
    "\n",
    "### 准备字符映射"
   ]
  },
  {
   "cell_type": "markdown",
   "metadata": {},
   "source": [
    "### 加载图像改变大小"
   ]
  },
  {
   "cell_type": "code",
   "execution_count": 6,
   "metadata": {},
   "outputs": [],
   "source": [
    "from PIL import Image\n",
    "\n",
    "# 准备灰度像素->字符映射\n",
    "pix = \" .,:;irsXA253hMHGS#9B&@\"\n",
    "pix2char = lambda p: pix[(255 - p) * 22 // 255]\n"
   ]
  },
  {
   "cell_type": "code",
   "execution_count": 7,
   "metadata": {},
   "outputs": [
    {
     "data": {
      "text/plain": [
       "(40, 45)"
      ]
     },
     "execution_count": 7,
     "metadata": {},
     "output_type": "execute_result"
    }
   ],
   "source": [
    "# 加载图像，改变大小到指定宽度\n",
    "line = 40\n",
    "im = Image.open(\"Kit-cat.jpg\")\n",
    "im.thumbnail((line, 999))\n",
    "im.size"
   ]
  },
  {
   "cell_type": "markdown",
   "metadata": {},
   "source": [
    "### 转换为灰度"
   ]
  },
  {
   "cell_type": "code",
   "execution_count": 8,
   "metadata": {},
   "outputs": [],
   "source": [
    "# 转换为灰度\n",
    "im = im.convert(\"L\")\n",
    "px = im.getdata()\n"
   ]
  },
  {
   "cell_type": "markdown",
   "metadata": {},
   "source": [
    "### 按行输出文本文件"
   ]
  },
  {
   "cell_type": "code",
   "execution_count": 9,
   "metadata": {},
   "outputs": [],
   "source": [
    "# 按行输出\n",
    "fout = open(\"asciiart-img.txt\", \"wt\")\n",
    "for row in range(im.height):\n",
    "    print(\"\".join(pix2char(px[row * line + col]) * 2 \n",
    "                for col in range(line)), file=fout)\n",
    "fout.close()\n"
   ]
  }
 ],
 "metadata": {
  "kernelspec": {
   "display_name": "Python 3.9.13 ('base')",
   "language": "python",
   "name": "python3"
  },
  "language_info": {
   "codemirror_mode": {
    "name": "ipython",
    "version": 3
   },
   "file_extension": ".py",
   "mimetype": "text/x-python",
   "name": "python",
   "nbconvert_exporter": "python",
   "pygments_lexer": "ipython3",
   "version": "3.9.13"
  },
  "orig_nbformat": 4,
  "vscode": {
   "interpreter": {
    "hash": "9e9b5bdee76833c82256a661fe97e28092f057e4e062e2d5f1c366bf572c51cc"
   }
  }
 },
 "nbformat": 4,
 "nbformat_minor": 2
}
