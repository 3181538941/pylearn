{
 "cells": [
  {
   "cell_type": "markdown",
   "metadata": {},
   "source": [
    "# 赋值表达式（Python 3.8+）\n",
    "## 语法（海象运算符）\n",
    "- ```<名字> := <表达式>``` \n",
    "- 语义：计算表达式的值，并且用名字来引用它\n",
    "- 与赋值语句的区别：这是个表达式，可以参与计算（必须带圆括号），附送一个变量"
   ]
  },
  {
   "cell_type": "code",
   "execution_count": 1,
   "metadata": {},
   "outputs": [
    {
     "name": "stdout",
     "output_type": "stream",
     "text": [
      "7 231\n"
     ]
    }
   ],
   "source": [
    "b = (a := 7) * 33\n",
    "print(a, b)"
   ]
  },
  {
   "cell_type": "markdown",
   "metadata": {},
   "source": [
    "## 为什么需要这个？\n",
    "- 表达式的一部分，尤其是函数调用，要被多处引用；\n",
    "- 限于当前语法，需要重复写多处；\n",
    "- 不光需要多处同步维护代码；\n",
    "- 还会引起重复计算。"
   ]
  },
  {
   "cell_type": "markdown",
   "metadata": {},
   "source": [
    "## 避免重复写代码"
   ]
  },
  {
   "cell_type": "code",
   "execution_count": 2,
   "metadata": {},
   "outputs": [
    {
     "name": "stdout",
     "output_type": "stream",
     "text": [
      "15\n"
     ]
    }
   ],
   "source": [
    "# 《重复写代码》\n",
    "# 例子：把一个字符串中A后面的数字求和\n",
    "s = \"!@A1k222A6_78A8\"\n",
    "total, i = 0, -1\n",
    "i = s.find(\"A\", i + 1)  # 找第一个A\n",
    "while i >= 0:\n",
    "    total += int(s[i + 1])\n",
    "    i = s.find(\"A\", i + 1)  # 找下一个A\n",
    "print(total)\n"
   ]
  },
  {
   "cell_type": "markdown",
   "metadata": {},
   "source": [
    "### 赋值表达式写法"
   ]
  },
  {
   "cell_type": "code",
   "execution_count": 3,
   "metadata": {},
   "outputs": [
    {
     "name": "stdout",
     "output_type": "stream",
     "text": [
      "15\n"
     ]
    }
   ],
   "source": [
    "# 《避免重复写代码》\n",
    "s = \"!@A1k222A6_78A8\"\n",
    "total, i = 0, -1\n",
    "while (i := s.find(\"A\", i + 1)) >= 0:\n",
    "    total += int(s[i + 1])\n",
    "print(total)\n"
   ]
  },
  {
   "cell_type": "markdown",
   "metadata": {},
   "source": [
    "### 例子：连续输入命令行"
   ]
  },
  {
   "cell_type": "code",
   "execution_count": 4,
   "metadata": {},
   "outputs": [
    {
     "name": "stdout",
     "output_type": "stream",
     "text": [
      "1+23 = 24\n",
      "2*3.45 = 6.9\n",
      "Good Bye!\n"
     ]
    }
   ],
   "source": [
    "while (exp := input(\"Exp:\")).lower() != \"bye\":\n",
    "    print(exp, \"=\", eval(exp))\n",
    "else:\n",
    "    print(\"Good Bye!\")\n"
   ]
  },
  {
   "cell_type": "markdown",
   "metadata": {},
   "source": [
    "## 避免重复计算"
   ]
  },
  {
   "cell_type": "code",
   "execution_count": 5,
   "metadata": {},
   "outputs": [
    {
     "name": "stdout",
     "output_type": "stream",
     "text": [
      "1 2.0\n",
      "2 2.368033988749895\n",
      "3 2.5277777777777777\n",
      "4 2.616762866384141\n",
      "5 2.673409074041745\n",
      "6 2.7126132290037135\n",
      "7 2.7413486176260116\n",
      "8 2.763311226859676\n",
      "9 2.7806415084567777\n"
     ]
    }
   ],
   "source": [
    "# 《重复计算》\n",
    "def f(n):  # 假设是一个耗时的函数\n",
    "    return sum([1/(i * i) for i in range(1, n + 1)])\n",
    "\n",
    "# 输出f(i)+f(i)**0.5\n",
    "for i in range(1, 10):\n",
    "    print(i, f(i) + f(i)**0.5)\n"
   ]
  },
  {
   "cell_type": "code",
   "execution_count": 6,
   "metadata": {},
   "outputs": [
    {
     "name": "stdout",
     "output_type": "stream",
     "text": [
      "1 2.0\n",
      "2 2.368033988749895\n",
      "3 2.5277777777777777\n",
      "4 2.616762866384141\n",
      "5 2.673409074041745\n",
      "6 2.7126132290037135\n",
      "7 2.7413486176260116\n",
      "8 2.763311226859676\n",
      "9 2.7806415084567777\n"
     ]
    }
   ],
   "source": [
    "# 当然可以改进一下\n",
    "# 输出f(i)+f(i)**0.5\n",
    "for i in range(1, 10):\n",
    "    fi = f(i)\n",
    "    print(i, fi + fi**0.5)"
   ]
  },
  {
   "cell_type": "markdown",
   "metadata": {},
   "source": [
    "### 赋值表达式写法"
   ]
  },
  {
   "cell_type": "code",
   "execution_count": 7,
   "metadata": {},
   "outputs": [
    {
     "name": "stdout",
     "output_type": "stream",
     "text": [
      "1 2.0\n",
      "2 2.368033988749895\n",
      "3 2.5277777777777777\n",
      "4 2.616762866384141\n",
      "5 2.673409074041745\n",
      "6 2.7126132290037135\n",
      "7 2.7413486176260116\n",
      "8 2.763311226859676\n",
      "9 2.7806415084567777\n"
     ]
    }
   ],
   "source": [
    "# 避免重复计算\n",
    "# 输出f(i)+f(i)**0.5\n",
    "for i in range(1, 10):\n",
    "    print(i, (fi := f(i)) + fi**0.5)"
   ]
  },
  {
   "cell_type": "markdown",
   "metadata": {},
   "source": [
    "## 在推导式中应用"
   ]
  },
  {
   "cell_type": "code",
   "execution_count": 8,
   "metadata": {},
   "outputs": [
    {
     "name": "stdout",
     "output_type": "stream",
     "text": [
      "[('Hello', 5), ('Python', 6), ('world', 5)]\n"
     ]
    }
   ],
   "source": [
    "# 输出字符串列表中所有长度大于3的字符串及其长度\n",
    "slist = [\"Hello\", \"abc\", \"Python\", \"as\", \"world\"]\n",
    "print([(s, l) for s in slist if (l := len(s)) > 3])"
   ]
  },
  {
   "cell_type": "markdown",
   "metadata": {},
   "source": [
    "### 例子：字典倒查"
   ]
  },
  {
   "cell_type": "code",
   "execution_count": 9,
   "metadata": {},
   "outputs": [
    {
     "name": "stdout",
     "output_type": "stream",
     "text": [
      "Found: Yuki\n"
     ]
    }
   ],
   "source": [
    "# 找到指定值对应的key\n",
    "adic = {\"Tom\":34, \"Yuki\":55, \"Bob\":233}\n",
    "v = 55\n",
    "if any(adic[(found := k)] == v for k in adic):  # any函数+生成器推导式\n",
    "    print(\"Found:\", found)\n",
    "else:\n",
    "    print(\"Not Found!\")"
   ]
  }
 ],
 "metadata": {
  "kernelspec": {
   "display_name": "Python 3.10.6 64-bit",
   "language": "python",
   "name": "python3"
  },
  "language_info": {
   "codemirror_mode": {
    "name": "ipython",
    "version": 3
   },
   "file_extension": ".py",
   "mimetype": "text/x-python",
   "name": "python",
   "nbconvert_exporter": "python",
   "pygments_lexer": "ipython3",
   "version": "3.10.6"
  },
  "orig_nbformat": 4,
  "vscode": {
   "interpreter": {
    "hash": "b0fa6594d8f4cbf19f97940f81e996739fb7646882a419484c72d19e05852a7e"
   }
  }
 },
 "nbformat": 4,
 "nbformat_minor": 2
}
