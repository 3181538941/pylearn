{
 "cells": [
  {
   "cell_type": "markdown",
   "metadata": {},
   "source": [
    "# 断言语句assert\n",
    "## 什么是断言\n",
    "- 程序运行过程中，所有变量的当前值组合构成了“状态”；\n",
    "- 每执行一段程序，状态就发生变化；\n",
    "- 如果程序有逻辑错误的bug，必定在某处变量值的组合不符合预期，处于错误状态；\n",
    "- 将对变量的预期写为断言，可以定位复杂的逻辑错误。"
   ]
  },
  {
   "cell_type": "code",
   "execution_count": 18,
   "metadata": {},
   "outputs": [
    {
     "name": "stdout",
     "output_type": "stream",
     "text": [
      "min= 12\n"
     ]
    }
   ],
   "source": [
    "# 断言的例子：最小值\n",
    "alist = [23, 12, 33, 55]\n",
    "amin = min(alist)\n",
    "amin = 12\n",
    "# 列表中最小值：列表中的数，不大于任何一个数\n",
    "assert amin in alist and all(amin <= x for x in alist)\n",
    "print(\"min=\", amin)\n"
   ]
  },
  {
   "cell_type": "code",
   "execution_count": 23,
   "metadata": {},
   "outputs": [
    {
     "name": "stdout",
     "output_type": "stream",
     "text": [
      "sorted: [12, 33, 56, 78, 83]\n"
     ]
    }
   ],
   "source": [
    "# 断言的例子：排好序的列表\n",
    "alist = [12, 33, 56, 78, 83]\n",
    "# 排好序的列表：任何一个数都不会超过它的下一个数\n",
    "assert all(alist[i] <= alist[i+1] for i in range(len(alist)-1))\n",
    "print(\"sorted:\", alist)\n"
   ]
  },
  {
   "cell_type": "markdown",
   "metadata": {},
   "source": [
    "## assert语句\n",
    "- ```assert <表达式>[, <打印信息>]```\n",
    "- 是**语句**，而非函数，不需要加括号调用\n",
    "  - 错误：assert(<表达式>, <打印信息>)\n",
    "- 如果表达式为True，assert语句不会产生任何效果；\n",
    "- 如果表达式为False，程序终止，AssertionError，并显示<打印信息>。"
   ]
  },
  {
   "cell_type": "code",
   "execution_count": 24,
   "metadata": {},
   "outputs": [
    {
     "name": "stdout",
     "output_type": "stream",
     "text": [
      "6\n"
     ]
    },
    {
     "ename": "AssertionError",
     "evalue": "参数n必须是整数",
     "output_type": "error",
     "traceback": [
      "\u001b[0;31m---------------------------------------------------------------------------\u001b[0m",
      "\u001b[0;31mAssertionError\u001b[0m                            Traceback (most recent call last)",
      "Cell \u001b[0;32mIn [24], line 7\u001b[0m\n\u001b[1;32m      4\u001b[0m     \u001b[39mreturn\u001b[39;00m n \u001b[39m/\u001b[39m\u001b[39m/\u001b[39m \u001b[39m2\u001b[39m\n\u001b[1;32m      6\u001b[0m \u001b[39mprint\u001b[39m(half(\u001b[39m12\u001b[39m))\n\u001b[0;32m----> 7\u001b[0m \u001b[39mprint\u001b[39m(half(\u001b[39m1.2\u001b[39;49m))\n",
      "Cell \u001b[0;32mIn [24], line 3\u001b[0m, in \u001b[0;36mhalf\u001b[0;34m(n)\u001b[0m\n\u001b[1;32m      2\u001b[0m \u001b[39mdef\u001b[39;00m \u001b[39mhalf\u001b[39m(n: \u001b[39mint\u001b[39m) \u001b[39m-\u001b[39m\u001b[39m>\u001b[39m \u001b[39mint\u001b[39m:\n\u001b[0;32m----> 3\u001b[0m     \u001b[39massert\u001b[39;00m \u001b[39misinstance\u001b[39m(n, \u001b[39mint\u001b[39m), \u001b[39m\"\u001b[39m\u001b[39m参数n必须是整数\u001b[39m\u001b[39m\"\u001b[39m\n\u001b[1;32m      4\u001b[0m     \u001b[39mreturn\u001b[39;00m n \u001b[39m/\u001b[39m\u001b[39m/\u001b[39m \u001b[39m2\u001b[39m\n",
      "\u001b[0;31mAssertionError\u001b[0m: 参数n必须是整数"
     ]
    }
   ],
   "source": [
    "# 断言的例子：与类型注解配合\n",
    "def half(n: int) -> int:\n",
    "    assert isinstance(n, int), \"参数n必须是整数\"\n",
    "    return n // 2\n",
    "\n",
    "print(half(12))\n",
    "print(half(1.2))  # 其它部分错误使用了half，或者参数错置"
   ]
  },
  {
   "cell_type": "markdown",
   "metadata": {},
   "source": [
    "## 什么时候用/不用断言\n",
    "- assert语句是一种调试程序的手段，仅用于定位可能的错误；\n",
    "- 断言不能视作算法的一部分；\n",
    "  - 删去所有的assert语句也不影响程序功能和特性\n",
    "- try语句提高程序健壮性，assert不能；\n",
    "- 程序正式运行可以跳过所有assert语句\n",
    "  - ```python -O main.py```"
   ]
  }
 ],
 "metadata": {
  "kernelspec": {
   "display_name": "Python 3.9.13 ('base')",
   "language": "python",
   "name": "python3"
  },
  "language_info": {
   "codemirror_mode": {
    "name": "ipython",
    "version": 3
   },
   "file_extension": ".py",
   "mimetype": "text/x-python",
   "name": "python",
   "nbconvert_exporter": "python",
   "pygments_lexer": "ipython3",
   "version": "3.9.13"
  },
  "orig_nbformat": 4,
  "vscode": {
   "interpreter": {
    "hash": "9e9b5bdee76833c82256a661fe97e28092f057e4e062e2d5f1c366bf572c51cc"
   }
  }
 },
 "nbformat": 4,
 "nbformat_minor": 2
}
