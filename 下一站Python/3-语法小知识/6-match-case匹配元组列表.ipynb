{
 "cells": [
  {
   "cell_type": "markdown",
   "metadata": {},
   "source": [
    "# match-case匹配元组和列表\n",
    "## match内涵比switch深\n",
    "- 不光是对于字面值判断**相等**；\n",
    "- 对于序列，可以进行“模式匹配”\n",
    "  - 空序列（ ```[]```），任意长度的序列（```[ *_ ]```）；\n",
    "  - 单个占位符（```_```）或者捕捉变量（```a```）；\n",
    "  - 多个占位符（```*_```）或者捕捉变量 （```*a```）；"
   ]
  },
  {
   "cell_type": "code",
   "execution_count": 55,
   "metadata": {},
   "outputs": [
    {
     "name": "stdout",
     "output_type": "stream",
     "text": [
      "输入了： [7, 8, 9, 10]\n",
      "都没匹配上的随便列表。\n"
     ]
    }
   ],
   "source": [
    "alist = [int(x) for x in input().split()]\n",
    "print(\"输入了：\", alist)\n",
    "match alist:\n",
    "    case [ ]:\n",
    "        print(\"空列表\")\n",
    "    case [1, _, third]:\n",
    "        print(\"这是1开头的三个数，第三个数是：\", third)\n",
    "    case [1, *_, last]:\n",
    "        print(\"这是1开头的列表，最后一个数是：\", last)\n",
    "    case [*_, 2]:\n",
    "        print(\"这是以2结尾的列表！\")\n",
    "    case [_, 0, *remains]:\n",
    "        print(\"这是第二个数为0的列表，0后面是：\", remains)\n",
    "    case [*_]:\n",
    "        print(\"都没匹配上的随便列表。\")"
   ]
  },
  {
   "cell_type": "markdown",
   "metadata": {},
   "source": [
    "## 示例：摇骰子的统计"
   ]
  },
  {
   "cell_type": "code",
   "execution_count": 57,
   "metadata": {},
   "outputs": [
    {
     "name": "stdout",
     "output_type": "stream",
     "text": [
      "模拟投掷1,000,000次，结果如下：\n",
      "- 连续三次6有   4,604次，频率为 0.5%\n",
      "- 连续两次6有  46,399次，频率为 4.6%\n",
      "- 仅有一次6有 370,249次，频率为37.0%\n"
     ]
    }
   ],
   "source": [
    "# 连续掷三次骰子，分别统计连续三次6、连续两次6、只有一次6的频率\n",
    "from random import randint\n",
    "n, triple, double, single = 1000000, 0, 0, 0\n",
    "for i in range(n):\n",
    "    alist = [randint(1, 6) for k in range(3)]\n",
    "    match alist:\n",
    "        case [6, 6, 6]:\n",
    "            triple += 1\n",
    "        case [6, 6, _] | [_, 6, 6]:\n",
    "            double += 1\n",
    "        case [6, _, _] | [_, 6, _] | [_, _, 6]:\n",
    "            single += 1\n",
    "print(f\"模拟投掷{n:,}次，结果如下：\")\n",
    "print(f\"- 连续三次6有{triple:8,d}次，频率为{triple/n*100:4.1f}%\")\n",
    "print(f\"- 连续两次6有{double:8,d}次，频率为{double/n*100:4.1f}%\")\n",
    "print(f\"- 仅有一次6有{single:8,d}次，频率为{single/n*100:4.1f}%\")"
   ]
  }
 ],
 "metadata": {
  "kernelspec": {
   "display_name": "Python 3.10.6 64-bit",
   "language": "python",
   "name": "python3"
  },
  "language_info": {
   "codemirror_mode": {
    "name": "ipython",
    "version": 3
   },
   "file_extension": ".py",
   "mimetype": "text/x-python",
   "name": "python",
   "nbconvert_exporter": "python",
   "pygments_lexer": "ipython3",
   "version": "3.10.6"
  },
  "orig_nbformat": 4,
  "vscode": {
   "interpreter": {
    "hash": "b0fa6594d8f4cbf19f97940f81e996739fb7646882a419484c72d19e05852a7e"
   }
  }
 },
 "nbformat": 4,
 "nbformat_minor": 2
}
