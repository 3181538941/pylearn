{
 "cells": [
  {
   "cell_type": "markdown",
   "metadata": {},
   "source": [
    "# 开一个二维数组\n",
    "## 嵌套列表"
   ]
  },
  {
   "cell_type": "code",
   "execution_count": 1,
   "metadata": {},
   "outputs": [
    {
     "name": "stdout",
     "output_type": "stream",
     "text": [
      "[[0, 0, 0, 0, 0, 0],\n",
      " [0, 1, 2, 3, 4, 5],\n",
      " [0, 2, 4, 6, 8, 10],\n",
      " [0, 3, 6, 9, 12, 15]]\n"
     ]
    }
   ],
   "source": [
    "from pprint import pprint\n",
    "m, n = 4, 6  # m行n列\n",
    "\n",
    "mlst = [[0]*n for i in range(m)]\n",
    "for i in range(m):\n",
    "    for j in range(n):\n",
    "        mlst[i][j] = i * j  # i行j列：m(i,j)\n",
    "pprint(mlst, width=40)\n"
   ]
  },
  {
   "cell_type": "markdown",
   "metadata": {},
   "source": [
    "## 字典"
   ]
  },
  {
   "cell_type": "code",
   "execution_count": 2,
   "metadata": {},
   "outputs": [
    {
     "name": "stdout",
     "output_type": "stream",
     "text": [
      "{(0, 0): 0,\n",
      " (0, 1): 0,\n",
      " (0, 2): 0,\n",
      " (0, 3): 0,\n",
      " (0, 4): 0,\n",
      " (0, 5): 0,\n",
      " (1, 0): 0,\n",
      " (1, 1): 1,\n",
      " (1, 2): 2,\n",
      " (1, 3): 3,\n",
      " (1, 4): 4,\n",
      " (1, 5): 5,\n",
      " (2, 0): 0,\n",
      " (2, 1): 2,\n",
      " (2, 2): 4,\n",
      " (2, 3): 6,\n",
      " (2, 4): 8,\n",
      " (2, 5): 10,\n",
      " (3, 0): 0,\n",
      " (3, 1): 3,\n",
      " (3, 2): 6,\n",
      " (3, 3): 9,\n",
      " (3, 4): 12,\n",
      " (3, 5): 15}\n"
     ]
    }
   ],
   "source": [
    "#mdic = {(i, j): 0 for i in range(m) for j in range(n)}\n",
    "mdic = {}\n",
    "for i in range(m):\n",
    "    for j in range(n):\n",
    "        mdic[i, j] = i * j  # i行j列：m(i,j)\n",
    "pprint(mdic, width=80)\n"
   ]
  },
  {
   "cell_type": "markdown",
   "metadata": {},
   "source": [
    "## 列表的字典"
   ]
  },
  {
   "cell_type": "code",
   "execution_count": 3,
   "metadata": {},
   "outputs": [
    {
     "name": "stdout",
     "output_type": "stream",
     "text": [
      "{0: [0, 0, 0, 0, 0, 0],\n",
      " 1: [0, 1, 2, 3, 4, 5],\n",
      " 2: [0, 2, 4, 6, 8, 10],\n",
      " 3: [0, 3, 6, 9, 12, 15]}\n"
     ]
    }
   ],
   "source": [
    "mdl = {i:[0 for j in range(n)] for i in range(m)}\n",
    "for i in range(m):\n",
    "    for j in range(n):\n",
    "        mdl[i][j] = i * j  # i行j列：m(i,j)\n",
    "pprint(mdl, width=40)"
   ]
  },
  {
   "cell_type": "markdown",
   "metadata": {},
   "source": [
    "## numpy模块（OJ不提供）"
   ]
  },
  {
   "cell_type": "code",
   "execution_count": 4,
   "metadata": {},
   "outputs": [
    {
     "name": "stdout",
     "output_type": "stream",
     "text": [
      "array([[ 0,  0,  0,  0,  0,  0],\n",
      "       [ 0,  1,  2,  3,  4,  5],\n",
      "       [ 0,  2,  4,  6,  8, 10],\n",
      "       [ 0,  3,  6,  9, 12, 15]])\n"
     ]
    }
   ],
   "source": [
    "import numpy as np\n",
    "mnp = np.zeros([m, n], dtype=int)\n",
    "for i in range(m):\n",
    "    for j in range(n):\n",
    "        mnp[i, j] = i * j  # i行j列：m(i,j)\n",
    "pprint(mnp)"
   ]
  },
  {
   "cell_type": "markdown",
   "metadata": {},
   "source": [
    "# 赋值性能对比\n",
    "- 4000*6000数组，其中100万个非零数\n",
    "## 嵌套列表"
   ]
  },
  {
   "cell_type": "code",
   "execution_count": 5,
   "metadata": {},
   "outputs": [],
   "source": [
    "from random import randrange\n",
    "m, n, k = 4000, 6000, 1000000  # m行n列\n",
    "\n",
    "mlst = [[0]*n for i in range(m)]\n",
    "for t in range(k):\n",
    "    i, j = randrange(0, m), randrange(0, n)\n",
    "    mlst[i][j] = randrange(10, 100)\n"
   ]
  },
  {
   "cell_type": "markdown",
   "metadata": {},
   "source": [
    "## 字典"
   ]
  },
  {
   "cell_type": "code",
   "execution_count": 6,
   "metadata": {},
   "outputs": [],
   "source": [
    "mdic = {}\n",
    "for t in range(k):\n",
    "    i, j = randrange(0, m), randrange(0, n)\n",
    "    mdic[i, j] = randrange(10, 100)"
   ]
  },
  {
   "cell_type": "markdown",
   "metadata": {},
   "source": [
    "## 列表的字典"
   ]
  },
  {
   "cell_type": "code",
   "execution_count": 7,
   "metadata": {},
   "outputs": [],
   "source": [
    "mdl = {i:[0 for j in range(n)] for i in range(m)}\n",
    "for t in range(k):\n",
    "    i, j = randrange(0, m), randrange(0, n)\n",
    "    mdl[i][j] = randrange(10, 100)"
   ]
  },
  {
   "cell_type": "markdown",
   "metadata": {},
   "source": [
    "## numpy模块"
   ]
  },
  {
   "cell_type": "code",
   "execution_count": 8,
   "metadata": {},
   "outputs": [],
   "source": [
    "mnp = np.zeros([m, n], dtype=int)\n",
    "for t in range(k):\n",
    "    i, j = randrange(0, m), randrange(0, n)\n",
    "    mnp[i, j] = randrange(10, 100)"
   ]
  }
 ],
 "metadata": {
  "kernelspec": {
   "display_name": "Python 3.9.13 ('base')",
   "language": "python",
   "name": "python3"
  },
  "language_info": {
   "codemirror_mode": {
    "name": "ipython",
    "version": 3
   },
   "file_extension": ".py",
   "mimetype": "text/x-python",
   "name": "python",
   "nbconvert_exporter": "python",
   "pygments_lexer": "ipython3",
   "version": "3.9.13"
  },
  "orig_nbformat": 4,
  "vscode": {
   "interpreter": {
    "hash": "9e9b5bdee76833c82256a661fe97e28092f057e4e062e2d5f1c366bf572c51cc"
   }
  }
 },
 "nbformat": 4,
 "nbformat_minor": 2
}
