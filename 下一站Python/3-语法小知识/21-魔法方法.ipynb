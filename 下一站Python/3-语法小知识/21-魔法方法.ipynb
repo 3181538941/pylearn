{
 "cells": [
  {
   "cell_type": "markdown",
   "metadata": {},
   "source": [
    "# 魔法方法\n",
    "## Magic Method\n",
    "- 外观：前后各有两个下划线的方法，如：```__add__```\n",
    "- 用途：自定义类中定义了魔法方法，就可以享受到内置类型的*待遇*；\n",
    "  - 使用运算符表示运算：```+ - * / // < > == in += *=```\n",
    "  - 使用下标索引分量：```[i] [start:end:step] [key]```\n",
    "  - 使用内置函数：```sort sum```\n",
    "- 官方名称：特殊方法（Special Method）\n",
    "  - https://docs.python.org/zh-cn/3/reference/datamodel.html#special-method-names\n",
    "\n",
    "## 我们来定义一个类“魔法存钱罐” ```MagicPiggyBank```\n",
    "- 每个存钱罐可以装1，2，5分钱的硬币若干；\n",
    "  - ```toms = MagicPiggyBank(owner=\"Tom\", total=11)```\n",
    "  - 存钱罐的魔法使得装进去的硬币可以自动合并到**最少**数量；\n",
    "- 可以打印出存钱罐内容；\n",
    "  - ```print(toms)```\n",
    "- 可以查询每种硬币的数量；\n",
    "  - ```print(toms[\"one\"], toms[\"two\"], toms[\"five\"])```\n",
    "  - ```print(toms[1], toms[2], toms[5])```\n",
    "- 可以判断罐子里是否有某种硬币；\n",
    "  - ```\"one\" in toms```\n",
    "  - ```1 in toms```\n",
    "- 可以从罐子里取钱，也可以存钱进罐子，甚至可以魔法倍增(各种硬币数量倍增)；\n",
    "  - ```toms += 8```\n",
    "  - ```toms -= 7```\n",
    "  - ```toms *= 2```\n",
    "- 两个罐子可以合并；\n",
    "  - ```mikes = toms + jerrys```\n",
    "- 若干罐子也可以合并；\n",
    "  - ```alls = sum([toms, jerrys, mikes])```\n",
    "- 若干罐子可以根据**硬币数量**从少到多排序\n",
    "  - ```sorted([toms, jerrys, mikes])```\n",
    "\n",
    "![](piggybank.jpg)"
   ]
  },
  {
   "cell_type": "markdown",
   "metadata": {},
   "source": [
    "## 类定义代码"
   ]
  },
  {
   "cell_type": "code",
   "execution_count": 2,
   "metadata": {},
   "outputs": [],
   "source": [
    "# 魔法存钱罐 #\n",
    "from typing import Self\n",
    "\n",
    "class MagicPiggyBank:\n",
    "    def __init__(self, owner=\"Anony\", total=0) -> None:\n",
    "        self.owner = owner\n",
    "        self.total = total\n",
    "        self.merge()\n",
    "\n",
    "    def merge(self) -> None:  # 自动合并为最少数量\n",
    "        t = self.total\n",
    "        five, t = divmod(t, 5)\n",
    "        two, t = divmod(t, 2)\n",
    "        self.coins = (t, two, five)\n",
    "\n",
    "    def __str__(self) -> str:  # 字符串形式输出\n",
    "        return (\n",
    "            f\"[{sum(self.coins)}]{self.owner}'s: (1)*{self.coins[0]} \"\n",
    "            f\"(2)*{self.coins[1]} (5)*{self.coins[2]} total={self.total}\"\n",
    "        )\n",
    "\n",
    "    __repr__ = __str__\n",
    "\n",
    "    def __len__(self) -> int:  # 硬币数量\n",
    "        return sum(self.coins)\n",
    "\n",
    "    def __lt__(self, other) -> bool:  # 比较\n",
    "        return len(self) < len(other)\n",
    "\n",
    "    def __getitem__(self, coin) -> int:  # 获取指定硬币数量\n",
    "        match coin:\n",
    "            case 1 | \"one\":\n",
    "                return self.coins[0]\n",
    "            case 2 | \"two\":\n",
    "                return self.coins[1]\n",
    "            case 5 | \"five\":\n",
    "                return self.coins[2]\n",
    "            case _:\n",
    "                return 0\n",
    "\n",
    "    def __contains__(self, coin) -> bool:  # 判断指定硬币是否存在\n",
    "        return self[coin] > 0\n",
    "\n",
    "    def __add__(self, other: Self) -> Self:  # 存钱罐合并\n",
    "        result = MagicPiggyBank(owner=self.owner, total=self.total + other.total)\n",
    "        return result\n",
    "\n",
    "    def __iadd__(self, money: int) -> Self:  # 存钱罐加钱\n",
    "        if money < 0:\n",
    "            raise ValueError(\"Cannot thrink.\")\n",
    "        else:\n",
    "            self.total += money\n",
    "            self.merge()\n",
    "        return self\n",
    "\n",
    "    def __isub__(self, money: int) -> Self:  # 存钱罐取钱，无法透支\n",
    "        if self.total < money:\n",
    "            raise ValueError(\"Insufficient balance.\")\n",
    "        else:\n",
    "            self.total -= money\n",
    "            self.merge()\n",
    "        return self\n",
    "\n",
    "    def __imul__(self, times: int) -> Self:  # 存钱罐倍增\n",
    "        if times < 0:\n",
    "            raise ValueError(\"Invalid times.\")\n",
    "        else:\n",
    "            self.total *= times\n",
    "            self.merge()\n",
    "        return self\n",
    "\n",
    "    def __abs__(self) -> int:  # 总金额\n",
    "        return self.total\n",
    "\n",
    "    def __radd__(self, start: int) -> Self:  # 用于sum的0+MagicPiggyBank\n",
    "        self.total += start\n",
    "        self.merge()\n",
    "        return self\n"
   ]
  },
  {
   "cell_type": "markdown",
   "metadata": {},
   "source": [
    "## 魔法方法的应用\n"
   ]
  },
  {
   "cell_type": "code",
   "execution_count": 3,
   "metadata": {},
   "outputs": [
    {
     "name": "stdout",
     "output_type": "stream",
     "text": [
      "[3]Tom's: (1)*1 (2)*0 (5)*2 total=11\n",
      "硬币数量： 3 总金额： 11\n",
      "1分多少枚： 1 5分多少枚： 2\n",
      "罐中有2分硬币吗？ False\n"
     ]
    }
   ],
   "source": [
    "# Tom的存钱罐\n",
    "toms = MagicPiggyBank(owner=\"Tom\", total=11)\n",
    "print(toms)\n",
    "print(\"硬币数量：\", len(toms), \"总金额：\", abs(toms))\n",
    "print(\"1分多少枚：\", toms[1], \"5分多少枚：\", toms[\"five\"])\n",
    "print(\"罐中有2分硬币吗？\", \"two\" in toms)\n"
   ]
  },
  {
   "cell_type": "code",
   "execution_count": 4,
   "metadata": {},
   "outputs": [
    {
     "name": "stdout",
     "output_type": "stream",
     "text": [
      "[6]Tom's: (1)*1 (2)*1 (5)*4 total=23\n"
     ]
    }
   ],
   "source": [
    "# 加12分到罐子里\n",
    "toms += 12\n",
    "print(toms)\n"
   ]
  },
  {
   "cell_type": "code",
   "execution_count": 5,
   "metadata": {},
   "outputs": [
    {
     "name": "stdout",
     "output_type": "stream",
     "text": [
      "[5]Tom's: (1)*0 (2)*2 (5)*3 total=19\n"
     ]
    }
   ],
   "source": [
    "# 减4分\n",
    "toms -= 4\n",
    "print(toms)\n"
   ]
  },
  {
   "cell_type": "code",
   "execution_count": 6,
   "metadata": {},
   "outputs": [
    {
     "name": "stdout",
     "output_type": "stream",
     "text": [
      "[9]Tom's: (1)*1 (2)*1 (5)*7 total=38\n"
     ]
    }
   ],
   "source": [
    "# 倍增2倍\n",
    "toms *= 2\n",
    "print(toms)\n"
   ]
  },
  {
   "cell_type": "code",
   "execution_count": 7,
   "metadata": {},
   "outputs": [
    {
     "name": "stdout",
     "output_type": "stream",
     "text": [
      "[1]Jerry's: (1)*0 (2)*1 (5)*0 total=2\n",
      "[8]Mike's: (1)*0 (2)*0 (5)*8 total=40\n"
     ]
    }
   ],
   "source": [
    "# 合并运算\n",
    "jerrys = MagicPiggyBank(owner=\"Jerry\", total=2)\n",
    "mikes = toms + jerrys\n",
    "mikes.owner = \"Mike\"\n",
    "print(jerrys)\n",
    "print(mikes)\n"
   ]
  },
  {
   "cell_type": "code",
   "execution_count": 8,
   "metadata": {},
   "outputs": [
    {
     "name": "stdout",
     "output_type": "stream",
     "text": [
      "[16]All's: (1)*0 (2)*0 (5)*16 total=80\n"
     ]
    }
   ],
   "source": [
    "# 合成大钱罐\n",
    "alls = sum([toms, jerrys, mikes])\n",
    "alls.owner = \"All\"\n",
    "print(alls)\n"
   ]
  },
  {
   "cell_type": "code",
   "execution_count": 9,
   "metadata": {},
   "outputs": [
    {
     "name": "stdout",
     "output_type": "stream",
     "text": [
      "[[1]Jerry's: (1)*0 (2)*1 (5)*0 total=2, [8]Mike's: (1)*0 (2)*0 (5)*8 total=40, [9]Tom's: (1)*1 (2)*1 (5)*7 total=38]\n"
     ]
    }
   ],
   "source": [
    "# 按照硬币数量排序\n",
    "print(sorted([toms, jerrys, mikes]))\n"
   ]
  }
 ],
 "metadata": {
  "kernelspec": {
   "display_name": "Python 3.11.0 ('base')",
   "language": "python",
   "name": "python3"
  },
  "language_info": {
   "codemirror_mode": {
    "name": "ipython",
    "version": 3
   },
   "file_extension": ".py",
   "mimetype": "text/x-python",
   "name": "python",
   "nbconvert_exporter": "python",
   "pygments_lexer": "ipython3",
   "version": "3.11.0"
  },
  "orig_nbformat": 4,
  "vscode": {
   "interpreter": {
    "hash": "9e9b5bdee76833c82256a661fe97e28092f057e4e062e2d5f1c366bf572c51cc"
   }
  }
 },
 "nbformat": 4,
 "nbformat_minor": 2
}
