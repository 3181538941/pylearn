{
 "cells": [
  {
   "cell_type": "markdown",
   "metadata": {},
   "source": [
    "# 三目运算符\n",
    "## 变量赋值选择开关"
   ]
  },
  {
   "cell_type": "code",
   "execution_count": 1,
   "metadata": {},
   "outputs": [
    {
     "name": "stdout",
     "output_type": "stream",
     "text": [
      "-99 99\n"
     ]
    }
   ],
   "source": [
    "# 选择变量赋值\n",
    "n = -99\n",
    "if n < 0:\n",
    "    absn = -n\n",
    "else:\n",
    "    absn = n\n",
    "print(n, absn)"
   ]
  },
  {
   "cell_type": "code",
   "execution_count": 2,
   "metadata": {},
   "outputs": [
    {
     "name": "stdout",
     "output_type": "stream",
     "text": [
      "13 PM\n"
     ]
    }
   ],
   "source": [
    "hour = 13\n",
    "if 0 <= hour < 12:\n",
    "    noon = \"AM\"\n",
    "else:\n",
    "    noon = \"PM\"\n",
    "print(hour, noon)\n"
   ]
  },
  {
   "cell_type": "markdown",
   "metadata": {},
   "source": [
    "## 三目运算符\n",
    "- ```<v_true> if <条件> else <v_false>```"
   ]
  },
  {
   "cell_type": "code",
   "execution_count": 3,
   "metadata": {},
   "outputs": [
    {
     "name": "stdout",
     "output_type": "stream",
     "text": [
      "-99 99\n",
      "13 PM\n"
     ]
    }
   ],
   "source": [
    "# pythonic条件赋值\n",
    "n = -99\n",
    "absn = -n if n < 0 else n\n",
    "print(n, absn)\n",
    "\n",
    "hour = 13\n",
    "noon = \"AM\" if 0 <= hour < 12 else \"PM\"\n",
    "print(hour, noon)\n"
   ]
  },
  {
   "cell_type": "code",
   "execution_count": 5,
   "metadata": {},
   "outputs": [
    {
     "name": "stdout",
     "output_type": "stream",
     "text": [
      "['偶', '偶', '偶', '偶', '奇', '偶', '奇', '奇', '偶', '偶']\n"
     ]
    }
   ],
   "source": [
    "# 列表推导式\n",
    "from random import randint\n",
    "alist = ['偶' if randint(10, 100) % 2 == 0 else '奇' for _ in range(10)]\n",
    "print(alist)\n"
   ]
  }
 ],
 "metadata": {
  "kernelspec": {
   "display_name": "Python 3.9.13 ('base')",
   "language": "python",
   "name": "python3"
  },
  "language_info": {
   "codemirror_mode": {
    "name": "ipython",
    "version": 3
   },
   "file_extension": ".py",
   "mimetype": "text/x-python",
   "name": "python",
   "nbconvert_exporter": "python",
   "pygments_lexer": "ipython3",
   "version": "3.9.13"
  },
  "orig_nbformat": 4,
  "vscode": {
   "interpreter": {
    "hash": "9e9b5bdee76833c82256a661fe97e28092f057e4e062e2d5f1c366bf572c51cc"
   }
  }
 },
 "nbformat": 4,
 "nbformat_minor": 2
}
