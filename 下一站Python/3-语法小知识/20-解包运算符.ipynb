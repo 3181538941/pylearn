{
 "cells": [
  {
   "cell_type": "markdown",
   "metadata": {},
   "source": [
    "# 解包运算符 * 和 **\n",
    "- 解包（unpacking）可以将序列或者字典的数据项展开为多个**语法**单位；\n",
    "- ```*alist```解包可迭代对象；\n",
    "- ```**adict```解包字典。\n",
    "\n",
    "## 一个尴尬的场景\n",
    "- 需要打印整数列表，但不需要**方括号**和**逗号**；"
   ]
  },
  {
   "cell_type": "code",
   "execution_count": 23,
   "metadata": {},
   "outputs": [
    {
     "name": "stdout",
     "output_type": "stream",
     "text": [
      "[12, 23, 34, 45]\n"
     ]
    }
   ],
   "source": [
    "alist = [12, 23, 34, 45]\n",
    "print(alist)\n"
   ]
  },
  {
   "cell_type": "code",
   "execution_count": 24,
   "metadata": {},
   "outputs": [
    {
     "name": "stdout",
     "output_type": "stream",
     "text": [
      "12 23 34 45 "
     ]
    }
   ],
   "source": [
    "# 用迭代循环\n",
    "for n in alist:\n",
    "    print(n, \"\", end=\"\")\n",
    "\n",
    "# 其实行末多了一个空格\n"
   ]
  },
  {
   "cell_type": "code",
   "execution_count": 25,
   "metadata": {},
   "outputs": [
    {
     "name": "stdout",
     "output_type": "stream",
     "text": [
      "12 23 34 45\n"
     ]
    }
   ],
   "source": [
    "# 用join\n",
    "print(\" \".join(str(n) for n in alist))\n"
   ]
  },
  {
   "cell_type": "code",
   "execution_count": 26,
   "metadata": {},
   "outputs": [
    {
     "name": "stdout",
     "output_type": "stream",
     "text": [
      "12 23 34 45\n"
     ]
    }
   ],
   "source": [
    "# 其实应该这样\n",
    "print(alist[0], alist[1], alist[2], alist[3])\n",
    "\n",
    "# 但它是4个参数\n"
   ]
  },
  {
   "cell_type": "markdown",
   "metadata": {},
   "source": [
    "## 可迭代对象解包（```*```运算符）"
   ]
  },
  {
   "cell_type": "code",
   "execution_count": 27,
   "metadata": {},
   "outputs": [
    {
     "name": "stdout",
     "output_type": "stream",
     "text": [
      "12 23 34 45\n",
      "3 6 9 12 15 18 21 24 27 30 33 36 39 42 45 48 51\n"
     ]
    }
   ],
   "source": [
    "# *解包完美解决这个问题\n",
    "# 将alist解包，把其中每个整数变为1个参数\n",
    "print(*alist)\n",
    "\n",
    "# 无论可迭代对象中包含了多少个整数\n",
    "print(*range(3, 53, 3))\n"
   ]
  },
  {
   "cell_type": "code",
   "execution_count": 28,
   "metadata": {},
   "outputs": [
    {
     "name": "stdout",
     "output_type": "stream",
     "text": [
      "5.385164807134504\n"
     ]
    }
   ],
   "source": [
    "# 坐标计算距离\n",
    "pos1 = (10, 10)\n",
    "pos2 = (12, 15)\n",
    "# 利用复数complex来计算距离\n",
    "# 略显尴尬\n",
    "distance = abs(complex(pos1[0], pos1[1]) - complex(pos2[0], pos2[1]))\n",
    "\n",
    "# 用解包就很好看\n",
    "distance = abs(complex(*pos1) - complex(*pos2))\n",
    "\n",
    "print(distance)"
   ]
  },
  {
   "cell_type": "code",
   "execution_count": 29,
   "metadata": {},
   "outputs": [
    {
     "name": "stdout",
     "output_type": "stream",
     "text": [
      "10023 67 89\n",
      "others=[34, 56, 78, 90, 23, 45]\n"
     ]
    }
   ],
   "source": [
    "# 还可以这么用\n",
    "alist = [10023, 34, 56, 78, 90, 23, 45, 67, 89]\n",
    "# 只要第1个（学号）和最后两个数（期中和期末成绩）\n",
    "id, mid, final = alist[0], alist[-2], alist[-1]\n",
    "\n",
    "# 用解包就更优雅\n",
    "id, *_, mid, final = alist\n",
    "\n",
    "# 还可以提取中间的数据项\n",
    "id, *others, mid, final = alist\n",
    "\n",
    "print(id, mid, final)\n",
    "print(f\"{others=}\")\n"
   ]
  },
  {
   "cell_type": "markdown",
   "metadata": {},
   "source": [
    "## 字典解包（```**```运算符）"
   ]
  },
  {
   "cell_type": "code",
   "execution_count": 30,
   "metadata": {},
   "outputs": [
    {
     "name": "stdout",
     "output_type": "stream",
     "text": [
      "1,2,3,4#END.\n",
      "1,2,3,4#END.\n"
     ]
    }
   ],
   "source": [
    "# print有命名参数\n",
    "print(1, 2, 3, 4, sep=\",\", end=\"#\")\n",
    "print(\"END.\")\n",
    "\n",
    "# 用字典解包来对应命名参数\n",
    "config = {\"sep\": \",\", \"end\": \"#\"}\n",
    "print(1, 2, 3, 4, **config)\n",
    "print(\"END.\")\n"
   ]
  },
  {
   "cell_type": "code",
   "execution_count": 31,
   "metadata": {},
   "outputs": [
    {
     "name": "stdout",
     "output_type": "stream",
     "text": [
      "f(1, 2, 3)=14\n",
      "f(*alist)=14\n",
      "f(**adict)=14\n"
     ]
    }
   ],
   "source": [
    "# 自定义函数\n",
    "def f(x, y, z):\n",
    "    k = x*x + y*y + z*z\n",
    "    return k\n",
    "\n",
    "\n",
    "print(f\"{f(1, 2, 3)=}\")\n",
    "\n",
    "alist = [1, 2, 3]\n",
    "print(f\"{f(*alist)=}\")\n",
    "\n",
    "adict = {\"x\": 1, \"y\": 2, \"z\": 3}\n",
    "print(f\"{f(**adict)=}\")\n"
   ]
  }
 ],
 "metadata": {
  "kernelspec": {
   "display_name": "Python 3.9.13 ('base')",
   "language": "python",
   "name": "python3"
  },
  "language_info": {
   "codemirror_mode": {
    "name": "ipython",
    "version": 3
   },
   "file_extension": ".py",
   "mimetype": "text/x-python",
   "name": "python",
   "nbconvert_exporter": "python",
   "pygments_lexer": "ipython3",
   "version": "3.9.13"
  },
  "orig_nbformat": 4,
  "vscode": {
   "interpreter": {
    "hash": "9e9b5bdee76833c82256a661fe97e28092f057e4e062e2d5f1c366bf572c51cc"
   }
  }
 },
 "nbformat": 4,
 "nbformat_minor": 2
}
