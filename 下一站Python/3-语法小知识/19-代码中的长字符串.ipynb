{
 "cells": [
  {
   "cell_type": "markdown",
   "metadata": {},
   "source": [
    "# 代码中的长字符串"
   ]
  },
  {
   "cell_type": "code",
   "execution_count": 5,
   "metadata": {},
   "outputs": [
    {
     "ename": "SyntaxError",
     "evalue": "EOL while scanning string literal (2056497694.py, line 1)",
     "output_type": "error",
     "traceback": [
      "\u001b[0;36m  Cell \u001b[0;32mIn [5], line 1\u001b[0;36m\u001b[0m\n\u001b[0;31m    s = \"塞下秋来风景异，\\n\u001b[0m\n\u001b[0m                   ^\u001b[0m\n\u001b[0;31mSyntaxError\u001b[0m\u001b[0;31m:\u001b[0m EOL while scanning string literal\n"
     ]
    }
   ],
   "source": [
    "s = \"塞下秋来风景异，\\n\n",
    "衡阳雁去无留意。\\n\n",
    "四面边声连角起，\\n千嶂里，长烟落日孤城闭。\\n\\n浊酒一杯家万里，\\n燕然未勒归无计。\\n羌管悠悠霜满地，\\n人不寐，将军白发征夫泪。\"\n",
    "print(s)\n"
   ]
  },
  {
   "cell_type": "markdown",
   "metadata": {},
   "source": [
    "## 长字符串和代码换行\n",
    "- 字符串中的换行字符：```\\n```\n",
    "- 代码中强制折行：```\\```\n",
    "- 代码中自然分行：表达式中，参数表中，序列字面值中"
   ]
  },
  {
   "cell_type": "code",
   "execution_count": 10,
   "metadata": {},
   "outputs": [
    {
     "name": "stdout",
     "output_type": "stream",
     "text": [
      "15251.4\n",
      "30151.4\n",
      "50051.4\n",
      "74951.4\n",
      "104851.4\n",
      "139751.4\n",
      "179651.4\n",
      "224551.4\n"
     ]
    }
   ],
   "source": [
    "peking_gongdi_university = 124.6\n",
    "for kfc_crazy_thursday_vme_50 \\\n",
    "    in range(int(peking_gongdi_university), \n",
    "             499, 50):\n",
    "    print(kfc_crazy_thursday_vme_50 * \n",
    "          kfc_crazy_thursday_vme_50 - peking_gongdi_university)\n"
   ]
  },
  {
   "cell_type": "markdown",
   "metadata": {},
   "source": [
    "## 分行字符串表示"
   ]
  },
  {
   "cell_type": "code",
   "execution_count": 13,
   "metadata": {},
   "outputs": [
    {
     "name": "stdout",
     "output_type": "stream",
     "text": [
      "塞下秋来风景异，衡阳雁去无留意。\n"
     ]
    }
   ],
   "source": [
    "s = \"塞下秋来风景异，\" \\\n",
    "     \"衡阳雁去无留意。\"\n",
    "print(s)\n"
   ]
  },
  {
   "cell_type": "code",
   "execution_count": 14,
   "metadata": {},
   "outputs": [
    {
     "name": "stdout",
     "output_type": "stream",
     "text": [
      "塞下秋来风景异，\n",
      "衡阳雁去无留意。\n",
      "四面边声连角起，\n",
      "千嶂里，长烟落日孤城闭。\n",
      "\n",
      "浊酒一杯家万里，\n",
      "燕然未勒归无计。\n",
      "羌管悠悠霜满地，\n",
      "人不寐，将军白发征夫泪。\n"
     ]
    }
   ],
   "source": [
    "s = \"塞下秋来风景异，\\n\"\\\n",
    "    \"衡阳雁去无留意。\\n\"\\\n",
    "    \"四面边声连角起，\\n\"\\\n",
    "    \"千嶂里，长烟落日孤城闭。\\n\"\\\n",
    "    \"\\n\"\\\n",
    "    \"浊酒一杯家万里，\\n\"\\\n",
    "    \"燕然未勒归无计。\\n\"\\\n",
    "    \"羌管悠悠霜满地，\\n\"\\\n",
    "    \"人不寐，将军白发征夫泪。\"\n",
    "print(s)\n"
   ]
  },
  {
   "cell_type": "code",
   "execution_count": 16,
   "metadata": {},
   "outputs": [
    {
     "name": "stdout",
     "output_type": "stream",
     "text": [
      "\n",
      "塞下秋来风景异，\n",
      "衡阳雁去无留意。\n",
      "四面边声连角起，\n",
      "千嶂里，长烟落日孤城闭。\n",
      "\n",
      "浊酒一杯家万里，\n",
      "燕然未勒归无计。\n",
      "羌管悠悠霜满地，\n",
      "人不寐，将军白发征夫泪。\n"
     ]
    }
   ],
   "source": [
    "s = \"\"\"\\\n",
    "塞下秋来风景异，\n",
    "衡阳雁去无留意。\n",
    "四面边声连角起，\n",
    "千嶂里，长烟落日孤城闭。\n",
    "\n",
    "浊酒一杯家万里，\n",
    "燕然未勒归无计。\n",
    "羌管悠悠霜满地，\n",
    "人不寐，将军白发征夫泪。\\\n",
    "\"\"\"\n",
    "print(s)\n"
   ]
  },
  {
   "cell_type": "markdown",
   "metadata": {},
   "source": [
    "## 函数和类的文档字符串"
   ]
  },
  {
   "cell_type": "code",
   "execution_count": 17,
   "metadata": {},
   "outputs": [
    {
     "name": "stdout",
     "output_type": "stream",
     "text": [
      "Help on built-in function sorted in module builtins:\n",
      "\n",
      "sorted(iterable, /, *, key=None, reverse=False)\n",
      "    Return a new list containing all items from the iterable in ascending order.\n",
      "    \n",
      "    A custom key function can be supplied to customize the sort order, and the\n",
      "    reverse flag can be set to request the result in descending order.\n",
      "\n"
     ]
    }
   ],
   "source": [
    "help(sorted)"
   ]
  },
  {
   "cell_type": "code",
   "execution_count": 18,
   "metadata": {},
   "outputs": [
    {
     "name": "stdout",
     "output_type": "stream",
     "text": [
      "fib(10)=55\n",
      "Help on function fib in module __main__:\n",
      "\n",
      "fib(n: int) -> int\n",
      "    斐波那契数列第n项\n",
      "    参数：整数，n >= 1\n",
      "    返回：整数，斐波那契数列的第n项\n",
      "\n",
      "None\n"
     ]
    }
   ],
   "source": [
    "# 函数的docstring\n",
    "def fib(n: int) -> int:\n",
    "    \"\"\"斐波那契数列第n项\n",
    "    参数：整数，n >= 1\n",
    "    返回：整数，斐波那契数列的第n项\n",
    "    \"\"\"\n",
    "    if n <= 2:\n",
    "        return 1\n",
    "    else:\n",
    "        return fib(n - 1) + fib(n - 2)\n",
    "\n",
    "\n",
    "print(f\"{fib(10)=}\")\n",
    "print(help(fib))\n"
   ]
  },
  {
   "cell_type": "code",
   "execution_count": 19,
   "metadata": {},
   "outputs": [
    {
     "name": "stdout",
     "output_type": "stream",
     "text": [
      "Help on class Student in module __main__:\n",
      "\n",
      "class Student(builtins.object)\n",
      " |  学生信息的封装类\n",
      " |  ...\n",
      " |  属性：\n",
      " |  name : str\n",
      " |      学生姓名\n",
      " |  age : int\n",
      " |      学生年龄\n",
      " |  grade : int\n",
      " |      学生成绩\n",
      " |  \n",
      " |  Data descriptors defined here:\n",
      " |  \n",
      " |  __dict__\n",
      " |      dictionary for instance variables (if defined)\n",
      " |  \n",
      " |  __weakref__\n",
      " |      list of weak references to the object (if defined)\n",
      "\n",
      "None\n"
     ]
    }
   ],
   "source": [
    "# 类的docstring\n",
    "class Student:\n",
    "    \"\"\"学生信息的封装类\n",
    "    ...\n",
    "    属性：\n",
    "    name : str\n",
    "        学生姓名\n",
    "    age : int\n",
    "        学生年龄\n",
    "    grade : int\n",
    "        学生成绩\n",
    "    \"\"\"\n",
    "    pass\n",
    "\n",
    "\n",
    "print(help(Student))\n"
   ]
  }
 ],
 "metadata": {
  "kernelspec": {
   "display_name": "Python 3.9.13 ('base')",
   "language": "python",
   "name": "python3"
  },
  "language_info": {
   "codemirror_mode": {
    "name": "ipython",
    "version": 3
   },
   "file_extension": ".py",
   "mimetype": "text/x-python",
   "name": "python",
   "nbconvert_exporter": "python",
   "pygments_lexer": "ipython3",
   "version": "3.9.13"
  },
  "orig_nbformat": 4,
  "vscode": {
   "interpreter": {
    "hash": "9e9b5bdee76833c82256a661fe97e28092f057e4e062e2d5f1c366bf572c51cc"
   }
  }
 },
 "nbformat": 4,
 "nbformat_minor": 2
}
