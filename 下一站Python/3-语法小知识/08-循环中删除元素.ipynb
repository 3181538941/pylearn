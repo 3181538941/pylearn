{
 "cells": [
  {
   "cell_type": "markdown",
   "metadata": {},
   "source": [
    "# 循环中删除元素\n",
    "## 循环中删除列表元素"
   ]
  },
  {
   "cell_type": "code",
   "execution_count": 1,
   "metadata": {},
   "outputs": [
    {
     "ename": "IndexError",
     "evalue": "list index out of range",
     "output_type": "error",
     "traceback": [
      "\u001b[0;31m---------------------------------------------------------------------------\u001b[0m",
      "\u001b[0;31mIndexError\u001b[0m                                Traceback (most recent call last)",
      "Cell \u001b[0;32mIn [1], line 5\u001b[0m\n\u001b[1;32m      3\u001b[0m \u001b[39m# 删除所有奇数\u001b[39;00m\n\u001b[1;32m      4\u001b[0m \u001b[39mfor\u001b[39;00m i \u001b[39min\u001b[39;00m \u001b[39mrange\u001b[39m(\u001b[39mlen\u001b[39m(alist)):\n\u001b[0;32m----> 5\u001b[0m     \u001b[39mif\u001b[39;00m alist[i] \u001b[39m%\u001b[39m \u001b[39m2\u001b[39m \u001b[39m!=\u001b[39m \u001b[39m0\u001b[39m:\n\u001b[1;32m      6\u001b[0m         \u001b[39mdel\u001b[39;00m alist[i]\n\u001b[1;32m      7\u001b[0m \u001b[39mprint\u001b[39m(alist)\n",
      "\u001b[0;31mIndexError\u001b[0m: list index out of range"
     ]
    }
   ],
   "source": [
    "# 找到列表中某些值，并从列表中删除它\n",
    "alist = list(range(10))  # 0~9\n",
    "# 删除所有奇数\n",
    "for i in range(len(alist)):\n",
    "    if alist[i] % 2 != 0:\n",
    "        del alist[i]\n",
    "print(alist)\n"
   ]
  },
  {
   "cell_type": "code",
   "execution_count": 2,
   "metadata": {},
   "outputs": [
    {
     "name": "stdout",
     "output_type": "stream",
     "text": [
      "0 [0, 1, 2, 3, 4, 5, 6, 7, 8, 9]\n",
      "1 [0, 1, 2, 3, 4, 5, 6, 7, 8, 9]\n",
      "2 [0, 2, 3, 4, 5, 6, 7, 8, 9]\n",
      "3 [0, 2, 4, 5, 6, 7, 8, 9]\n",
      "4 [0, 2, 4, 6, 7, 8, 9]\n",
      "5 [0, 2, 4, 6, 8, 9]\n",
      "6 [0, 2, 4, 6, 8]\n"
     ]
    },
    {
     "ename": "IndexError",
     "evalue": "list index out of range",
     "output_type": "error",
     "traceback": [
      "\u001b[0;31m---------------------------------------------------------------------------\u001b[0m",
      "\u001b[0;31mIndexError\u001b[0m                                Traceback (most recent call last)",
      "Cell \u001b[0;32mIn [2], line 6\u001b[0m\n\u001b[1;32m      4\u001b[0m \u001b[39mfor\u001b[39;00m i \u001b[39min\u001b[39;00m \u001b[39mrange\u001b[39m(\u001b[39mlen\u001b[39m(alist)):\n\u001b[1;32m      5\u001b[0m     \u001b[39mprint\u001b[39m(i, alist)\n\u001b[0;32m----> 6\u001b[0m     \u001b[39mif\u001b[39;00m alist[i] \u001b[39m%\u001b[39m \u001b[39m2\u001b[39m \u001b[39m!=\u001b[39m \u001b[39m0\u001b[39m:\n\u001b[1;32m      7\u001b[0m         \u001b[39mdel\u001b[39;00m alist[i]\n\u001b[1;32m      8\u001b[0m \u001b[39mprint\u001b[39m(alist)\n",
      "\u001b[0;31mIndexError\u001b[0m: list index out of range"
     ]
    }
   ],
   "source": [
    "# 看看发生了什么？\n",
    "alist = list(range(10))  # 0~9\n",
    "# 删除所有奇数\n",
    "for i in range(len(alist)):\n",
    "    print(i, alist)\n",
    "    if alist[i] % 2 != 0:\n",
    "        del alist[i]\n",
    "print(alist)\n"
   ]
  },
  {
   "cell_type": "markdown",
   "metadata": {},
   "source": [
    "### 用下标做循环变量，产生下标越界\n",
    "- range中的参数是固定的，不会随着列表长度变化而变化；\n",
    "- 只要删除了列表中的元素，下标就会越界"
   ]
  },
  {
   "cell_type": "code",
   "execution_count": 3,
   "metadata": {},
   "outputs": [
    {
     "name": "stdout",
     "output_type": "stream",
     "text": [
      "[0, 2, 4, 6, 8]\n"
     ]
    }
   ],
   "source": [
    "# 直接迭代列表看看\n",
    "alist = list(range(10))  # 0~9\n",
    "# 删除所有奇数\n",
    "for a in alist:\n",
    "    if a % 2 != 0:\n",
    "        alist.remove(a)\n",
    "print(alist)\n"
   ]
  },
  {
   "cell_type": "code",
   "execution_count": 4,
   "metadata": {},
   "outputs": [
    {
     "name": "stdout",
     "output_type": "stream",
     "text": [
      "[3, 7, 0, 2, 4, 6, 8]\n"
     ]
    }
   ],
   "source": [
    "# 运气不好么？\n",
    "alist = [1, 3, 5, 7, 9, 0, 2, 4, 6, 8]\n",
    "# 删除所有奇数\n",
    "for a in alist:\n",
    "    if a % 2 != 0:\n",
    "        alist.remove(a)\n",
    "print(alist)\n"
   ]
  },
  {
   "cell_type": "code",
   "execution_count": 5,
   "metadata": {},
   "outputs": [
    {
     "name": "stdout",
     "output_type": "stream",
     "text": [
      "1 [1, 3, 5, 7, 9, 0, 2, 4, 6, 8]\n",
      "5 [3, 5, 7, 9, 0, 2, 4, 6, 8]\n",
      "9 [3, 7, 9, 0, 2, 4, 6, 8]\n",
      "2 [3, 7, 0, 2, 4, 6, 8]\n",
      "4 [3, 7, 0, 2, 4, 6, 8]\n",
      "6 [3, 7, 0, 2, 4, 6, 8]\n",
      "8 [3, 7, 0, 2, 4, 6, 8]\n",
      "结果： [3, 7, 0, 2, 4, 6, 8]\n"
     ]
    }
   ],
   "source": [
    "# 看看发生了什么？\n",
    "alist = [1, 3, 5, 7, 9, 0, 2, 4, 6, 8]\n",
    "# 删除所有奇数\n",
    "for a in alist:\n",
    "    print(a, alist)\n",
    "    if a % 2 != 0:\n",
    "        alist.remove(a)\n",
    "print(\"结果：\", alist)\n"
   ]
  },
  {
   "cell_type": "markdown",
   "metadata": {},
   "source": [
    "### 直接迭代列表，删除导致跳过元素\n",
    "- 删除当前元素，列表变短；\n",
    "- 下次迭代就跳过一个元素。"
   ]
  },
  {
   "cell_type": "markdown",
   "metadata": {},
   "source": [
    "## 正确姿势\n",
    "### 让下标从尾部向前"
   ]
  },
  {
   "cell_type": "code",
   "execution_count": 6,
   "metadata": {},
   "outputs": [
    {
     "name": "stdout",
     "output_type": "stream",
     "text": [
      "[0, 2, 4, 6, 8]\n"
     ]
    }
   ],
   "source": [
    "# 找到列表中某些值，并从列表中删除它\n",
    "alist = list(range(10))  # 0~9\n",
    "# 删除所有奇数\n",
    "for i in range(len(alist) - 1, -1, -1):\n",
    "    if alist[i] % 2 != 0:\n",
    "        del alist[i]\n",
    "print(alist)\n"
   ]
  },
  {
   "cell_type": "code",
   "execution_count": 7,
   "metadata": {},
   "outputs": [
    {
     "name": "stdout",
     "output_type": "stream",
     "text": [
      "[0, 2, 4, 6, 8]\n"
     ]
    }
   ],
   "source": [
    "# 找到列表中某些值，并从列表中删除它\n",
    "alist = [1, 3, 5, 7, 9, 0, 2, 4, 6, 8]\n",
    "# 删除所有奇数\n",
    "for i in range(len(alist) - 1, -1, -1):\n",
    "    if alist[i] % 2 != 0:\n",
    "        del alist[i]\n",
    "print(alist)\n"
   ]
  },
  {
   "cell_type": "markdown",
   "metadata": {},
   "source": [
    "### 搬家到另一个列表"
   ]
  },
  {
   "cell_type": "code",
   "execution_count": 8,
   "metadata": {},
   "outputs": [
    {
     "name": "stdout",
     "output_type": "stream",
     "text": [
      "[0, 2, 4, 6, 8]\n"
     ]
    }
   ],
   "source": [
    "# 找到列表中某些值，并从列表中删除它\n",
    "alist = list(range(10))  # 0~9\n",
    "blist = []\n",
    "# 删除所有奇数\n",
    "for i in range(len(alist)):\n",
    "    if alist[i] % 2 == 0:  # 把不符合条件的搬家\n",
    "        blist.append(alist[i])\n",
    "alist = blist\n",
    "print(alist)"
   ]
  },
  {
   "cell_type": "markdown",
   "metadata": {},
   "source": [
    "### 用filter一行完成"
   ]
  },
  {
   "cell_type": "code",
   "execution_count": 9,
   "metadata": {},
   "outputs": [
    {
     "name": "stdout",
     "output_type": "stream",
     "text": [
      "[0, 2, 4, 6, 8]\n"
     ]
    }
   ],
   "source": [
    "# 找到列表中某些值，并从列表中删除它\n",
    "alist = list(range(10))  # 0~9\n",
    "# 删除所有奇数\n",
    "alist = list(filter(lambda x: x % 2 == 0, alist))\n",
    "print(alist)\n"
   ]
  },
  {
   "cell_type": "markdown",
   "metadata": {},
   "source": [
    "### 用列表推导式一行完成"
   ]
  },
  {
   "cell_type": "code",
   "execution_count": 10,
   "metadata": {},
   "outputs": [
    {
     "name": "stdout",
     "output_type": "stream",
     "text": [
      "[0, 2, 4, 6, 8]\n"
     ]
    }
   ],
   "source": [
    "# 找到列表中某些值，并从列表中删除它\n",
    "alist = list(range(10))  # 0~9\n",
    "# 删除所有奇数\n",
    "alist = [x for x in alist if x % 2 == 0]\n",
    "print(alist)\n"
   ]
  }
 ],
 "metadata": {
  "kernelspec": {
   "display_name": "Python 3.9.13 ('base')",
   "language": "python",
   "name": "python3"
  },
  "language_info": {
   "codemirror_mode": {
    "name": "ipython",
    "version": 3
   },
   "file_extension": ".py",
   "mimetype": "text/x-python",
   "name": "python",
   "nbconvert_exporter": "python",
   "pygments_lexer": "ipython3",
   "version": "3.9.13"
  },
  "orig_nbformat": 4,
  "vscode": {
   "interpreter": {
    "hash": "9e9b5bdee76833c82256a661fe97e28092f057e4e062e2d5f1c366bf572c51cc"
   }
  }
 },
 "nbformat": 4,
 "nbformat_minor": 2
}
