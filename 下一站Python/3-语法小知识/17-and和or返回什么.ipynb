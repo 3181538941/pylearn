{
 "cells": [
  {
   "cell_type": "markdown",
   "metadata": {},
   "source": [
    "# and和or返回什么\n",
    "## 逻辑运算符\n",
    "- ```not```：始终返回True或者False；\n",
    "- ```x and y```：计算x，如果x为假，则返回x，否则返回y；\n",
    "- ```x or y```：计算x，如果x为真，则返回x，否则返回y；\n",
    "- 注意：x，y不一定是逻辑类型的True/False"
   ]
  },
  {
   "cell_type": "markdown",
   "metadata": {},
   "source": [
    "## 逻辑类型"
   ]
  },
  {
   "cell_type": "code",
   "execution_count": 15,
   "metadata": {},
   "outputs": [
    {
     "name": "stdout",
     "output_type": "stream",
     "text": [
      "x=False, y=False, x and y=False, x or y=False\n",
      "x=False, y=True, x and y=False, x or y=True\n",
      "x=True, y=False, x and y=False, x or y=True\n",
      "x=True, y=True, x and y=True, x or y=True\n"
     ]
    }
   ],
   "source": [
    "from itertools import product\n",
    "for x, y in product([False, True], repeat=2):\n",
    "    print(f\"{x=}, {y=}, {x and y=}, {x or y=}\")"
   ]
  },
  {
   "cell_type": "markdown",
   "metadata": {},
   "source": [
    "## 整数类型"
   ]
  },
  {
   "cell_type": "code",
   "execution_count": 16,
   "metadata": {},
   "outputs": [
    {
     "name": "stdout",
     "output_type": "stream",
     "text": [
      "x=0, y=0, x and y=0, x or y=0\n",
      "x=0, y=42, x and y=0, x or y=42\n",
      "x=42, y=0, x and y=0, x or y=42\n",
      "x=42, y=42, x and y=42, x or y=42\n"
     ]
    }
   ],
   "source": [
    "for x, y in product([0, 42], repeat=2):\n",
    "    print(f\"{x=}, {y=}, {x and y=}, {x or y=}\")"
   ]
  },
  {
   "cell_type": "markdown",
   "metadata": {},
   "source": [
    "## 字符串类型"
   ]
  },
  {
   "cell_type": "code",
   "execution_count": 14,
   "metadata": {},
   "outputs": [
    {
     "name": "stdout",
     "output_type": "stream",
     "text": [
      "x='', y='', x and y='', x or y=''\n",
      "x='', y='Hello', x and y='', x or y='Hello'\n",
      "x='Hello', y='', x and y='', x or y='Hello'\n",
      "x='Hello', y='Hello', x and y='Hello', x or y='Hello'\n"
     ]
    }
   ],
   "source": [
    "for x, y in product([\"\", \"Hello\"], repeat=2):\n",
    "    print(f\"{x=}, {y=}, {x and y=}, {x or y=}\")"
   ]
  },
  {
   "cell_type": "markdown",
   "metadata": {},
   "source": [
    "## 列表类型"
   ]
  },
  {
   "cell_type": "code",
   "execution_count": 17,
   "metadata": {},
   "outputs": [
    {
     "name": "stdout",
     "output_type": "stream",
     "text": [
      "x=[], y=[], x and y=[], x or y=[]\n",
      "x=[], y=[3, 4], x and y=[], x or y=[3, 4]\n",
      "x=[3, 4], y=[], x and y=[], x or y=[3, 4]\n",
      "x=[3, 4], y=[3, 4], x and y=[3, 4], x or y=[3, 4]\n"
     ]
    }
   ],
   "source": [
    "for x, y in product([[], [3, 4]], repeat=2):\n",
    "    print(f\"{x=}, {y=}, {x and y=}, {x or y=}\")"
   ]
  },
  {
   "cell_type": "markdown",
   "metadata": {},
   "source": [
    "## 混合类型"
   ]
  },
  {
   "cell_type": "code",
   "execution_count": 19,
   "metadata": {},
   "outputs": [
    {
     "name": "stdout",
     "output_type": "stream",
     "text": [
      "x=0, y=0, x and y=0, x or y=0\n",
      "x=0, y='Python', x and y=0, x or y='Python'\n",
      "x='Python', y=0, x and y=0, x or y='Python'\n",
      "x='Python', y='Python', x and y='Python', x or y='Python'\n"
     ]
    }
   ],
   "source": [
    "for x, y in product([0, \"Python\"], repeat=2):\n",
    "    print(f\"{x=}, {y=}, {x and y=}, {x or y=}\")"
   ]
  },
  {
   "cell_type": "markdown",
   "metadata": {},
   "source": [
    "## 示例：缺省值的设定\n"
   ]
  },
  {
   "cell_type": "code",
   "execution_count": 2,
   "metadata": {},
   "outputs": [
    {
     "name": "stdout",
     "output_type": "stream",
     "text": [
      "Hello! Anonymous\n"
     ]
    }
   ],
   "source": [
    "name = input(\"Your name please:\")\n",
    "print(\"Hello!\", name or \"Anonymous\")"
   ]
  },
  {
   "cell_type": "markdown",
   "metadata": {},
   "source": [
    "## 示例：选择器"
   ]
  },
  {
   "cell_type": "code",
   "execution_count": 3,
   "metadata": {},
   "outputs": [
    {
     "name": "stdout",
     "output_type": "stream",
     "text": [
      "[0, 0, 56, 12, 0, 10, 8, 0]\n"
     ]
    }
   ],
   "source": [
    "alist = [23, 44, 56, 12, 33, 10, 8, 5]\n",
    "select = [0, 0, 1, 1, 0, 1, 1, 0]\n",
    "result = [(s and a) for s, a in zip(select, alist)]\n",
    "print(result)\n"
   ]
  }
 ],
 "metadata": {
  "kernelspec": {
   "display_name": "Python 3.9.13 ('base')",
   "language": "python",
   "name": "python3"
  },
  "language_info": {
   "codemirror_mode": {
    "name": "ipython",
    "version": 3
   },
   "file_extension": ".py",
   "mimetype": "text/x-python",
   "name": "python",
   "nbconvert_exporter": "python",
   "pygments_lexer": "ipython3",
   "version": "3.9.13"
  },
  "orig_nbformat": 4,
  "vscode": {
   "interpreter": {
    "hash": "9e9b5bdee76833c82256a661fe97e28092f057e4e062e2d5f1c366bf572c51cc"
   }
  }
 },
 "nbformat": 4,
 "nbformat_minor": 2
}
