{
 "cells": [
  {
   "cell_type": "markdown",
   "metadata": {},
   "source": [
    "# 同步赋值\n",
    "## 节省代码行数的赋值语法"
   ]
  },
  {
   "cell_type": "code",
   "execution_count": 2,
   "metadata": {},
   "outputs": [
    {
     "name": "stdout",
     "output_type": "stream",
     "text": [
      "a=2022 b=1117 c=2342\n"
     ]
    }
   ],
   "source": [
    "# 同步赋值\n",
    "a, b, c = 2022, 1117, 2342\n",
    "print(f\"{a=} {b=} {c=}\")\n"
   ]
  },
  {
   "cell_type": "code",
   "execution_count": 3,
   "metadata": {},
   "outputs": [
    {
     "name": "stdout",
     "output_type": "stream",
     "text": [
      "22.4 33.5\n",
      "23.4 32.5\n",
      "21.4 34.5\n",
      "23.4 34.5\n"
     ]
    }
   ],
   "source": [
    "# 同步赋值\n",
    "for dx, dy in [(0, 0), (1, -1), (-1, 1), (1, 1)]:\n",
    "    print(22.4 + dx, 33.5 + dy)\n"
   ]
  },
  {
   "cell_type": "code",
   "execution_count": 4,
   "metadata": {},
   "outputs": [
    {
     "name": "stdout",
     "output_type": "stream",
     "text": [
      "0 7 12\n",
      "1 8 34\n",
      "-1 9 56\n"
     ]
    }
   ],
   "source": [
    "# 配合zip函数\n",
    "alist = [0, 1, -1]\n",
    "blist = [7, 8, 9]\n",
    "clist = [12, 34, 56]\n",
    "for a, b, c in zip(alist, blist, clist):\n",
    "    print(a, b, c)\n"
   ]
  },
  {
   "cell_type": "code",
   "execution_count": 5,
   "metadata": {},
   "outputs": [
    {
     "name": "stdout",
     "output_type": "stream",
     "text": [
      "0 45\n",
      "1 71\n",
      "2 14\n",
      "3 65\n",
      "4 49\n",
      "5 42\n",
      "6 17\n",
      "7 68\n",
      "8 40\n",
      "9 77\n"
     ]
    }
   ],
   "source": [
    "# 列表下标和数据项\n",
    "from random import randint\n",
    "alist = [randint(10, 100) for _ in range(10)]\n",
    "for i, a in enumerate(alist):\n",
    "    print(i, a)"
   ]
  },
  {
   "cell_type": "code",
   "execution_count": 6,
   "metadata": {},
   "outputs": [
    {
     "name": "stdout",
     "output_type": "stream",
     "text": [
      "Tom = 23\n",
      "Jerry = -99\n",
      "Smith = 77\n",
      "Kyle = 43\n"
     ]
    }
   ],
   "source": [
    "# 字典的key和value\n",
    "adict = {\"Tom\":23, \"Jerry\":-99, \"Smith\":77, \"Kyle\":43}\n",
    "for k, v in adict.items():\n",
    "    print(k, \"=\", v)"
   ]
  },
  {
   "cell_type": "markdown",
   "metadata": {},
   "source": [
    "## 交换变量的值\n",
    "### 传统方案"
   ]
  },
  {
   "cell_type": "code",
   "execution_count": 7,
   "metadata": {},
   "outputs": [
    {
     "name": "stdout",
     "output_type": "stream",
     "text": [
      "a:2022 b:1117\n",
      "a:1117 b:2022\n"
     ]
    }
   ],
   "source": [
    "a, b = 2022, 1117\n",
    "print(f\"a:{a} b:{b}\")\n",
    "# 传统做法\n",
    "t = a\n",
    "a = b\n",
    "b = t\n",
    "print(f\"a:{a} b:{b}\")\n"
   ]
  },
  {
   "cell_type": "markdown",
   "metadata": {},
   "source": [
    "### pythonic方案"
   ]
  },
  {
   "cell_type": "code",
   "execution_count": 8,
   "metadata": {},
   "outputs": [
    {
     "name": "stdout",
     "output_type": "stream",
     "text": [
      "a:2022 b:1117\n",
      "a:1117 b:2022\n"
     ]
    }
   ],
   "source": [
    "a, b = 2022, 1117\n",
    "print(f\"a:{a} b:{b}\")\n",
    "# pythonic做法\n",
    "a, b = b, a\n",
    "print(f\"a:{a} b:{b}\")\n"
   ]
  },
  {
   "cell_type": "markdown",
   "metadata": {},
   "source": [
    "## 双变量迭代\n",
    "### fib传统迭代"
   ]
  },
  {
   "cell_type": "code",
   "execution_count": 9,
   "metadata": {},
   "outputs": [
    {
     "name": "stdout",
     "output_type": "stream",
     "text": [
      "[1, 1, 2, 3, 5, 8, 13, 21, 34, 55]\n"
     ]
    }
   ],
   "source": [
    "# 传统迭代版斐波那契数列\n",
    "def fib(n):\n",
    "    a, b = 0, 1\n",
    "    for i in range(n):\n",
    "        b = a + b  # 顺序绝对不能错\n",
    "        a = b - a\n",
    "    return a\n",
    "print([fib(i) for i in range(1, 11)]) \n"
   ]
  },
  {
   "cell_type": "markdown",
   "metadata": {},
   "source": [
    "### pythonic版"
   ]
  },
  {
   "cell_type": "code",
   "execution_count": 10,
   "metadata": {},
   "outputs": [
    {
     "name": "stdout",
     "output_type": "stream",
     "text": [
      "[1, 1, 2, 3, 5, 8, 13, 21, 34, 55]\n"
     ]
    }
   ],
   "source": [
    "# pythonic版斐波那契数列\n",
    "def fib(n):\n",
    "    a, b = 0, 1\n",
    "    for i in range(n):\n",
    "        a, b = b, a + b  # 同步赋值\n",
    "    return a\n",
    "print([fib(i) for i in range(1, 11)]) "
   ]
  }
 ],
 "metadata": {
  "kernelspec": {
   "display_name": "Python 3.9.13 ('base')",
   "language": "python",
   "name": "python3"
  },
  "language_info": {
   "codemirror_mode": {
    "name": "ipython",
    "version": 3
   },
   "file_extension": ".py",
   "mimetype": "text/x-python",
   "name": "python",
   "nbconvert_exporter": "python",
   "pygments_lexer": "ipython3",
   "version": "3.9.13"
  },
  "orig_nbformat": 4,
  "vscode": {
   "interpreter": {
    "hash": "9e9b5bdee76833c82256a661fe97e28092f057e4e062e2d5f1c366bf572c51cc"
   }
  }
 },
 "nbformat": 4,
 "nbformat_minor": 2
}
