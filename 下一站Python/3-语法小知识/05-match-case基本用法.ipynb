{
 "cells": [
  {
   "cell_type": "markdown",
   "metadata": {},
   "source": [
    "# match-case基本用法（Python3.10+）\n",
    "## 基本语法和语义\n",
    "```\n",
    "match <表达式>:\n",
    "    case <值1>:\n",
    "        <语句块1>\n",
    "    case <值2> | <值3> | <值4> :\n",
    "        <语句块2>\n",
    "    case _:\n",
    "        <语句块3>\n",
    "```\n",
    "- 语义：计算表达式的值，依次匹配case后的值，一旦匹配到，就执行对应的语句块1次，语句结束；\n",
    "- 如果所有case都匹配不上的就执行case _:对应的语句块，语句结束。\n",
    "- case后必须跟“字面值”，也就是说，不能是表达式。"
   ]
  },
  {
   "cell_type": "code",
   "execution_count": 6,
   "metadata": {},
   "outputs": [
    {
     "name": "stdout",
     "output_type": "stream",
     "text": [
      "查询不到black的颜色代码！\n"
     ]
    }
   ],
   "source": [
    "# match-case的基本例子\n",
    "color = input(\"请输入需要查询的颜色：\")\n",
    "match color:\n",
    "    case \"red\" | \"红\" | \"红色\":\n",
    "        r, g, b = 255, 0, 0\n",
    "    case \"green\" | \"绿\" | \"绿色\":\n",
    "        r, g, b = 0, 255, 0\n",
    "    case \"yellow\" | \"黄\" | \"黄色\":\n",
    "        r, g, b = 255, 255, 0\n",
    "    case _:\n",
    "        r, g, b = -1, -1, -1\n",
    "if r >= 0:\n",
    "    print(f\"{color}的颜色代码：#{r:02X}{g:02X}{b:02X}\")\n",
    "else:\n",
    "    print(f\"查询不到{color}的颜色代码！\")"
   ]
  },
  {
   "cell_type": "code",
   "execution_count": 7,
   "metadata": {},
   "outputs": [
    {
     "name": "stdout",
     "output_type": "stream",
     "text": [
      "疯狂星期四！\n"
     ]
    }
   ],
   "source": [
    "# 今天是星期几\n",
    "from datetime import datetime\n",
    "match datetime.today().weekday():\n",
    "    case 0:\n",
    "        print(\"今天是星期一\")\n",
    "    case 3:\n",
    "        print(\"疯狂星期四！\")\n",
    "    case 4:\n",
    "        print(\"加油，周末就到了！\")\n",
    "    case 5 | 6:\n",
    "        print(\"周末愉快！\")\n",
    "    case _:\n",
    "        print(\"普普通通的工作日\")"
   ]
  },
  {
   "cell_type": "markdown",
   "metadata": {},
   "source": [
    "## 如果在case写变量名\n",
    "- 不是你想象的那样匹配变量的值\n",
    "- ```case <名字>```的含义是“捕捉”匹配不到的值"
   ]
  },
  {
   "cell_type": "code",
   "execution_count": 11,
   "metadata": {},
   "outputs": [
    {
     "name": "stdout",
     "output_type": "stream",
     "text": [
      "(0, 1.23)在Y轴上，距离原点1.23\n"
     ]
    }
   ],
   "source": [
    "p = eval(input(\"请输入坐标(x,y):\"))\n",
    "match p:\n",
    "    case (0, 0):\n",
    "        print(f\"{p}是原点\")\n",
    "    case (0, y):\n",
    "        print(f\"{p}在Y轴上，距离原点{abs(y)}\")\n",
    "    case (x, 0):\n",
    "        print(f\"{p}在X轴上，距离原点{abs(x)}\")\n",
    "    case (x, y):\n",
    "        print(f\"{p}距离原点{abs(x+y*0j)}\")"
   ]
  },
  {
   "cell_type": "markdown",
   "metadata": {},
   "source": [
    "## 只是为了不写if语句么？\n",
    "- 引入了match-case语句，我们得到一个C语言里switch语句的等价物\n",
    "- 可是只是为了把elif语句改一种形式？\n",
    "- 甚至丢掉了elif判断条件的灵活性"
   ]
  },
  {
   "cell_type": "code",
   "execution_count": 12,
   "metadata": {},
   "outputs": [
    {
     "name": "stdout",
     "output_type": "stream",
     "text": [
      "疯狂星期四！\n"
     ]
    }
   ],
   "source": [
    "from datetime import datetime\n",
    "if (w := datetime.today().weekday()) == 0:\n",
    "    print(\"今天是星期一\")\n",
    "elif w == 3:\n",
    "    print(\"疯狂星期四！\")\n",
    "elif w == 4:\n",
    "    print(\"加油，周末就到了！\")\n",
    "elif w in (5, 6):\n",
    "    print(\"周末愉快！\")\n",
    "else:\n",
    "    print(\"普普通通的工作日\")"
   ]
  }
 ],
 "metadata": {
  "kernelspec": {
   "display_name": "Python 3.10.6 64-bit",
   "language": "python",
   "name": "python3"
  },
  "language_info": {
   "codemirror_mode": {
    "name": "ipython",
    "version": 3
   },
   "file_extension": ".py",
   "mimetype": "text/x-python",
   "name": "python",
   "nbconvert_exporter": "python",
   "pygments_lexer": "ipython3",
   "version": "3.10.6"
  },
  "orig_nbformat": 4,
  "vscode": {
   "interpreter": {
    "hash": "b0fa6594d8f4cbf19f97940f81e996739fb7646882a419484c72d19e05852a7e"
   }
  }
 },
 "nbformat": 4,
 "nbformat_minor": 2
}
