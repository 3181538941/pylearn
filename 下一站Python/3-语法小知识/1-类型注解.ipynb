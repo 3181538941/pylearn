{
 "cells": [
  {
   "cell_type": "markdown",
   "metadata": {},
   "source": [
    "# 为什么要提供类型注解(type annotation)？\n",
    "## 提供类型注解有以下好处：\n",
    "- 类型注解通过启用快速准确的完成建议、类和函数文档、签名帮助、悬停文本、自动导入等，帮助为**库用户**提供更好的编码体验。\n",
    "- 库的用户可以使用**静态类型检查器**来检测他们使用库的问题。\n",
    "- 类型注解允许库作者指定由工具强制执行的**接口约定**。这让库实现的发展不必担心用户依赖于实现细节。如果库接口发生更改，类型检查器能够在用户的代码受到影响时向用户发出警告。\n",
    "- **库作者**可以自己使用静态类型检查来帮助生成高质量、无错误的实现。"
   ]
  }
 ],
 "metadata": {
  "kernelspec": {
   "display_name": "Python 3.9.13 ('base')",
   "language": "python",
   "name": "python3"
  },
  "language_info": {
   "codemirror_mode": {
    "name": "ipython",
    "version": 3
   },
   "file_extension": ".py",
   "mimetype": "text/x-python",
   "name": "python",
   "nbconvert_exporter": "python",
   "pygments_lexer": "ipython3",
   "version": "3.9.13"
  },
  "orig_nbformat": 4,
  "vscode": {
   "interpreter": {
    "hash": "9e9b5bdee76833c82256a661fe97e28092f057e4e062e2d5f1c366bf572c51cc"
   }
  }
 },
 "nbformat": 4,
 "nbformat_minor": 2
}
