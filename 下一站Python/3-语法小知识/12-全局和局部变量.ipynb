{
 "cells": [
  {
   "cell_type": "markdown",
   "metadata": {},
   "source": [
    "# 全局和局部变量\n",
    "## 什么是变量的作用域\n",
    "- 作用域：可以使用某变量的代码范围；\n",
    "- 就单个源代码文件来说，我们最常见的代码范围：\n",
    "  - 全局：整个源代码文件；\n",
    "  - 局部：def定义语句内的缩进范围；\n",
    "## 如何确定变量的作用域\n",
    "- 看这个变量的**第一个赋值语句**在哪里\n",
    "  - 全局：在所有def之外，对某变量赋值，定义一个全局变量；\n",
    "  - 局部：某个def内，如果出现了某变量的赋值语句，则定义了一个局部变量；\n",
    "- 全局变量和局部变量名字可以相同，但是不同的变量"
   ]
  },
  {
   "cell_type": "code",
   "execution_count": 1,
   "metadata": {},
   "outputs": [
    {
     "name": "stdout",
     "output_type": "stream",
     "text": [
      "local i=6\n",
      "21\n",
      "global i=1\n"
     ]
    }
   ],
   "source": [
    "def my_sum(n):  # 局部变量n\n",
    "    s = 0  # 局部变量s\n",
    "    for i in range(1, n + 1):  # 局部变量i\n",
    "        s = s + i\n",
    "    print(f\"local i={i}\")\n",
    "    return s\n",
    "\n",
    "\n",
    "i = 1  # 全局变量i\n",
    "print(my_sum(i + 5))\n",
    "print(f\"global i={i}\")\n"
   ]
  },
  {
   "cell_type": "markdown",
   "metadata": {},
   "source": [
    "## 正确处理作用域\n",
    "- 在def之外无法访问到局部变量；\n",
    "- 在def内可以访问到全局变量\n",
    "  - 如果**只**引用全局变量的值，可以直接使用其名字；\n",
    "  - 如果要对全局变量赋值，必须写```global <变量>```特别声明；"
   ]
  },
  {
   "cell_type": "code",
   "execution_count": 2,
   "metadata": {},
   "outputs": [
    {
     "name": "stdout",
     "output_type": "stream",
     "text": [
      "--global k=5\n",
      "--local i=12\n",
      "83\n",
      "global i=2, k=5\n"
     ]
    }
   ],
   "source": [
    "# 变量作用域\n",
    "def my_sum(n):  # 局部变量n\n",
    "    print(f\"--global k={k}\")  # 全局变量k\n",
    "    s = k  # 局部变量s，全局变量k\n",
    "    for i in range(1, n + 1):  # 局部变量i\n",
    "        s = s + i\n",
    "    print(f\"--local i={i}\")\n",
    "    return s\n",
    "\n",
    "\n",
    "i , k = 2 , 5  # 全局变量i, k\n",
    "print(my_sum(i + 10))\n",
    "print(f\"global i={i}, k={k}\")"
   ]
  },
  {
   "cell_type": "markdown",
   "metadata": {},
   "source": [
    "## 最容易发生的错误"
   ]
  },
  {
   "cell_type": "code",
   "execution_count": 3,
   "metadata": {},
   "outputs": [
    {
     "ename": "UnboundLocalError",
     "evalue": "local variable 'k' referenced before assignment",
     "output_type": "error",
     "traceback": [
      "\u001b[0;31m---------------------------------------------------------------------------\u001b[0m",
      "\u001b[0;31mUnboundLocalError\u001b[0m                         Traceback (most recent call last)",
      "Cell \u001b[0;32mIn [3], line 13\u001b[0m\n\u001b[1;32m      9\u001b[0m     \u001b[39mreturn\u001b[39;00m s\n\u001b[1;32m     12\u001b[0m i , k \u001b[39m=\u001b[39m \u001b[39m2\u001b[39m , \u001b[39m5\u001b[39m  \u001b[39m# 全局变量i, k\u001b[39;00m\n\u001b[0;32m---> 13\u001b[0m \u001b[39mprint\u001b[39m(my_sum(i \u001b[39m+\u001b[39;49m \u001b[39m10\u001b[39;49m))\n\u001b[1;32m     14\u001b[0m \u001b[39mprint\u001b[39m(\u001b[39mf\u001b[39m\u001b[39m\"\u001b[39m\u001b[39mglobal i=\u001b[39m\u001b[39m{\u001b[39;00mi\u001b[39m}\u001b[39;00m\u001b[39m, k=\u001b[39m\u001b[39m{\u001b[39;00mk\u001b[39m}\u001b[39;00m\u001b[39m\"\u001b[39m)\n",
      "Cell \u001b[0;32mIn [3], line 4\u001b[0m, in \u001b[0;36mmy_sum\u001b[0;34m(n)\u001b[0m\n\u001b[1;32m      2\u001b[0m \u001b[39mdef\u001b[39;00m \u001b[39mmy_sum\u001b[39m(n):  \u001b[39m# 局部变量n\u001b[39;00m\n\u001b[1;32m      3\u001b[0m     \u001b[39m#print(f\"--global k={k}\")\u001b[39;00m\n\u001b[0;32m----> 4\u001b[0m     s \u001b[39m=\u001b[39m k  \u001b[39m# 局部变量s，全局变量k\u001b[39;00m\n\u001b[1;32m      5\u001b[0m     k \u001b[39m=\u001b[39m n \u001b[39m%\u001b[39m \u001b[39m2\u001b[39m  \u001b[39m# 对变量k进行赋值 <- XXXXX\u001b[39;00m\n\u001b[1;32m      6\u001b[0m     \u001b[39mfor\u001b[39;00m i \u001b[39min\u001b[39;00m \u001b[39mrange\u001b[39m(\u001b[39m1\u001b[39m, n \u001b[39m+\u001b[39m \u001b[39m1\u001b[39m):  \u001b[39m# 局部变量i\u001b[39;00m\n",
      "\u001b[0;31mUnboundLocalError\u001b[0m: local variable 'k' referenced before assignment"
     ]
    }
   ],
   "source": [
    "# 变量作用域，最容易出现的错误\n",
    "def my_sum(n):  # 局部变量n\n",
    "    #print(f\"--global k={k}\")\n",
    "    s = k  # 局部变量s，全局变量k\n",
    "    k = n % 2  # 对变量k进行赋值 <- XXXXX\n",
    "    for i in range(1, n + 1):  # 局部变量i\n",
    "        s = s + i\n",
    "    print(f\"--local i={i}\")\n",
    "    return s\n",
    "\n",
    "\n",
    "i , k = 2 , 5  # 全局变量i, k\n",
    "print(my_sum(i + 10))\n",
    "print(f\"global i={i}, k={k}\")"
   ]
  },
  {
   "cell_type": "markdown",
   "metadata": {},
   "source": [
    "## 重新赋值全局变量"
   ]
  },
  {
   "cell_type": "code",
   "execution_count": 4,
   "metadata": {},
   "outputs": [
    {
     "name": "stdout",
     "output_type": "stream",
     "text": [
      "--global k=5\n",
      "--local i=12\n",
      "83\n",
      "global i=2, k=0\n"
     ]
    }
   ],
   "source": [
    "# 变量作用域，最容易出现的错误\n",
    "def my_sum(n):  # 局部变量n\n",
    "    global k  # 声明全局变量k\n",
    "    print(f\"--global k={k}\")\n",
    "    s = k  # 局部变量s，全局变量k\n",
    "    k = n % 2  # 对变量全局k进行赋值\n",
    "    for i in range(1, n + 1):  # 局部变量i\n",
    "        s = s + i\n",
    "    print(f\"--local i={i}\")\n",
    "    return s\n",
    "\n",
    "\n",
    "i , k = 2 , 5  # 全局变量i, k\n",
    "print(my_sum(i + 10))\n",
    "print(f\"global i={i}, k={k}\")"
   ]
  },
  {
   "cell_type": "markdown",
   "metadata": {},
   "source": [
    "## 变量作用域的启示\n",
    "- 尽可能不在函数内直接使用全局变量，可通过参数传递；\n",
    "- 确需在函数内使用全局变量，尽可能只引用，不重新赋值；\n",
    "- 尽可能用global来声明需要使用的全局变量，不管是否重新赋值。"
   ]
  }
 ],
 "metadata": {
  "kernelspec": {
   "display_name": "Python 3.9.13 ('base')",
   "language": "python",
   "name": "python3"
  },
  "language_info": {
   "codemirror_mode": {
    "name": "ipython",
    "version": 3
   },
   "file_extension": ".py",
   "mimetype": "text/x-python",
   "name": "python",
   "nbconvert_exporter": "python",
   "pygments_lexer": "ipython3",
   "version": "3.9.13"
  },
  "orig_nbformat": 4,
  "vscode": {
   "interpreter": {
    "hash": "9e9b5bdee76833c82256a661fe97e28092f057e4e062e2d5f1c366bf572c51cc"
   }
  }
 },
 "nbformat": 4,
 "nbformat_minor": 2
}
