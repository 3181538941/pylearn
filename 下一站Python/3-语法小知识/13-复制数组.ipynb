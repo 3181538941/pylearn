{
 "cells": [
  {
   "cell_type": "markdown",
   "metadata": {},
   "source": [
    "# 复制数组\n",
    "## 什么是复制？\n",
    "- 和原来的一模一样；\n",
    "- 但不是原来那个；……独立变化"
   ]
  },
  {
   "cell_type": "markdown",
   "metadata": {},
   "source": [
    "## 赋值不等于复制\n",
    "![赋值语句](%E8%B5%8B%E5%80%BC%E8%AF%AD%E5%8F%A5.png)"
   ]
  },
  {
   "cell_type": "code",
   "execution_count": 1,
   "metadata": {},
   "outputs": [
    {
     "name": "stdout",
     "output_type": "stream",
     "text": [
      "a:2022 b:2022\n",
      "a:2022 b:1117\n",
      "alist:[1, 2, 3, 4] blist:[1, 2, 3, 4]\n",
      "alist:[1, 2, 3, 4, 2022] blist:[1, 2, 3, 4, 2022]\n"
     ]
    }
   ],
   "source": [
    "# 赋值是否有复制特性，与变量类型相关\n",
    "b = 2022 # 不可变类型\n",
    "a = b\n",
    "print(f\"a:{a} b:{b}\")\n",
    "b = 1117\n",
    "print(f\"a:{a} b:{b}\")\n",
    "\n",
    "blist = [1, 2, 3, 4]  # 可变类型\n",
    "alist = blist\n",
    "print(f\"alist:{alist} blist:{blist}\")\n",
    "blist.append(2022)\n",
    "print(f\"alist:{alist} blist:{blist}\")\n"
   ]
  },
  {
   "cell_type": "markdown",
   "metadata": {},
   "source": [
    "## 复制一维数组（简单列表）\n",
    "- ```copy```方法\n",
    "- 切片"
   ]
  },
  {
   "cell_type": "code",
   "execution_count": 2,
   "metadata": {},
   "outputs": [
    {
     "name": "stdout",
     "output_type": "stream",
     "text": [
      "alist:[1, 2, 3, 4] blist:[1, 2, 3, 4]\n",
      "alist:[1, 2, 3, 4] blist:[1, 2, 3, 4, 2022]\n",
      "alist:[1, 2, 3, 4] blist:[1, 2, 3, 4]\n",
      "alist:[1, 2, 3, 4] blist:[1, 2, 3]\n"
     ]
    }
   ],
   "source": [
    "# 复制列表（一维数组）\n",
    "blist = [1, 2, 3, 4]\n",
    "alist = blist.copy()\n",
    "print(f\"alist:{alist} blist:{blist}\")\n",
    "blist.append(2022)\n",
    "print(f\"alist:{alist} blist:{blist}\")\n",
    "\n",
    "# 切片\n",
    "blist = [1, 2, 3, 4]\n",
    "alist = blist[:]\n",
    "print(f\"alist:{alist} blist:{blist}\")\n",
    "blist.pop()\n",
    "print(f\"alist:{alist} blist:{blist}\")"
   ]
  },
  {
   "cell_type": "markdown",
   "metadata": {},
   "source": [
    "## 复制二维数组（嵌套列表）\n",
    "- deepcopy函数；"
   ]
  },
  {
   "cell_type": "code",
   "execution_count": 3,
   "metadata": {},
   "outputs": [
    {
     "name": "stdout",
     "output_type": "stream",
     "text": [
      "bmatrix:[[0, 1, 2, 3], [1, 2, 3, 4], [2, 3, 4, 5]]\n",
      "amatrix:[[0, 1, 2, 3], [1, 2, 3, 4], [2, 3, 4, 5]]\n",
      "bmatrix:[[99, 1, 2, 3], [1, 2, 3, 4], [2, 3, 4, 5]]\n",
      "amatrix:[[0, 1, 2, 3], [1, 2, 3, 4], [2, 3, 4, 5]]\n"
     ]
    }
   ],
   "source": [
    "# 二维数组（嵌套列表）\n",
    "from copy import deepcopy\n",
    "m, n = 3, 4\n",
    "bmatrix = [[ i+j for j in range(n)] for i in range(m)]\n",
    "print(f\"bmatrix:{bmatrix}\")\n",
    "amatrix = deepcopy(bmatrix)\n",
    "print(f\"amatrix:{amatrix}\")\n",
    "bmatrix[0][0] = 99\n",
    "print(f\"bmatrix:{bmatrix}\")\n",
    "print(f\"amatrix:{amatrix}\")\n"
   ]
  },
  {
   "cell_type": "markdown",
   "metadata": {},
   "source": [
    "## 复制数组（numpy数组）\n",
    "- copy方法"
   ]
  },
  {
   "cell_type": "code",
   "execution_count": 4,
   "metadata": {},
   "outputs": [
    {
     "name": "stdout",
     "output_type": "stream",
     "text": [
      "barr:[0 0 0 0 0]\n",
      "aarr:[0 0 0 0 0]\n",
      "barr:[9 9 9 9 9]\n",
      "aarr:[0 0 0 0 0]\n"
     ]
    }
   ],
   "source": [
    "# 复制numpy数组\n",
    "import numpy as np\n",
    "barr = np.zeros([5], dtype=int)\n",
    "print(f\"barr:{barr}\")\n",
    "aarr = barr.copy()\n",
    "print(f\"aarr:{aarr}\")\n",
    "barr.fill(9)\n",
    "print(f\"barr:{barr}\")\n",
    "print(f\"aarr:{aarr}\")\n"
   ]
  }
 ],
 "metadata": {
  "kernelspec": {
   "display_name": "Python 3.9.13 ('base')",
   "language": "python",
   "name": "python3"
  },
  "language_info": {
   "codemirror_mode": {
    "name": "ipython",
    "version": 3
   },
   "file_extension": ".py",
   "mimetype": "text/x-python",
   "name": "python",
   "nbconvert_exporter": "python",
   "pygments_lexer": "ipython3",
   "version": "3.9.13"
  },
  "orig_nbformat": 4,
  "vscode": {
   "interpreter": {
    "hash": "9e9b5bdee76833c82256a661fe97e28092f057e4e062e2d5f1c366bf572c51cc"
   }
  }
 },
 "nbformat": 4,
 "nbformat_minor": 2
}
