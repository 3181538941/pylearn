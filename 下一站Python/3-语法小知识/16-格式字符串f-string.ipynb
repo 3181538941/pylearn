{
 "cells": [
  {
   "cell_type": "markdown",
   "metadata": {},
   "source": [
    "# 格式字符串f-string\n",
    "## 具有规整格式的字符串\n",
    "- 对齐：左对齐、右对齐、居中对齐、填充字符；\n",
    "- 整数：统一宽度、前导0、千分位、十进制、二进制、八进制、十六进制；\n",
    "- 小数：统一宽度、前导0、千分位、小数点后固定位数、百分比；\n",
    "## f-string的语法\n",
    "\n",
    "```f\"原样字符{<表达式>:<格式>}原样字符\"```\n",
    "\n",
    "将表达式的值按照格式的指示变为字符串。\n",
    "\n",
    "## 对齐和填充字符"
   ]
  },
  {
   "cell_type": "code",
   "execution_count": 110,
   "metadata": {},
   "outputs": [
    {
     "name": "stdout",
     "output_type": "stream",
     "text": [
      "|Scott           |     Scott      |           Scott|\n",
      "|Jesse           |     Jesse      |           Jesse|\n",
      "|Sharon          |     Sharon     |          Sharon|\n",
      "|Jordan          |     Jordan     |          Jordan|\n",
      "|Kathleen        |    Kathleen    |        Kathleen|\n",
      "|Katherine       |   Katherine    |       Katherine|\n",
      "|Susan           |     Susan      |           Susan|\n",
      "|Wyatt           |     Wyatt      |           Wyatt|\n",
      "|Calvin          |     Calvin     |          Calvin|\n",
      "|Matthew         |    Matthew     |         Matthew|\n"
     ]
    }
   ],
   "source": [
    "# 对齐和填充字符\n",
    "from faker import Faker\n",
    "Faker.seed()\n",
    "f = Faker()\n",
    "namelist = [f.first_name() for i in range(10)]\n",
    "# 左中右对齐\n",
    "for name in namelist:\n",
    "    line = f\"|{name:<16}|{name:^16}|{name:>16}|\"\n",
    "    print(line)\n"
   ]
  },
  {
   "cell_type": "code",
   "execution_count": 113,
   "metadata": {},
   "outputs": [
    {
     "name": "stdout",
     "output_type": "stream",
     "text": [
      "0...........Scott\n",
      "1...........Jesse\n",
      "2..........Sharon\n",
      "3..........Jordan\n",
      "4........Kathleen\n",
      "5.......Katherine\n",
      "6...........Susan\n",
      "7...........Wyatt\n",
      "8..........Calvin\n",
      "9.........Matthew\n"
     ]
    }
   ],
   "source": [
    "# 填充字符\n",
    "for i, name in enumerate(namelist):\n",
    "    line = f\"{i}{name:.>16}\"\n",
    "    print(line)\n"
   ]
  },
  {
   "cell_type": "code",
   "execution_count": 118,
   "metadata": {},
   "outputs": [
    {
     "name": "stdout",
     "output_type": "stream",
     "text": [
      "[#################Scott##################]\n",
      "[#################Jesse##################]\n",
      "[#################Sharon#################]\n",
      "[#################Jordan#################]\n",
      "[################Kathleen################]\n",
      "[###############Katherine################]\n",
      "[#################Susan##################]\n",
      "[#################Wyatt##################]\n",
      "[#################Calvin#################]\n",
      "[################Matthew#################]\n"
     ]
    }
   ],
   "source": [
    "# 填充字符\n",
    "for i, name in enumerate(namelist):\n",
    "    line = f\"[{name:#^40}]\"\n",
    "    print(line)\n"
   ]
  },
  {
   "cell_type": "markdown",
   "metadata": {},
   "source": [
    "## 整数的格式"
   ]
  },
  {
   "cell_type": "code",
   "execution_count": 120,
   "metadata": {},
   "outputs": [
    {
     "name": "stdout",
     "output_type": "stream",
     "text": [
      "No.0000:   87795:  87,795:  253363:   156f3:   156F3:00010101011011110011\n",
      "No.0001:   86158:  86,158:  250216:   1508e:   1508E:00010101000010001110\n",
      "No.0002:   97698:  97,698:  276642:   17da2:   17DA2:00010111110110100010\n",
      "No.0003:   72059:  72,059:  214573:   1197b:   1197B:00010001100101111011\n",
      "No.0004:   87478:  87,478:  252666:   155b6:   155B6:00010101010110110110\n",
      "No.0005:   82228:  82,228:  240464:   14134:   14134:00010100000100110100\n",
      "No.0006:   58024:  58,024:  161250:    e2a8:    E2A8:00001110001010101000\n",
      "No.0007:    8601:   8,601:   20631:    2199:    2199:00000010000110011001\n",
      "No.0008:   94289:  94,289:  270121:   17051:   17051:00010111000001010001\n",
      "No.0009:    2546:   2,546:    4762:     9f2:     9F2:00000000100111110010\n"
     ]
    }
   ],
   "source": [
    "# 统一宽度、前导0、千分位、十进制、二进制、八进制、十六进制；\n",
    "from random import randint\n",
    "nlist = [randint(-9999, 99999) for i in range(10)]\n",
    "for i, n in enumerate(nlist):\n",
    "    line = f\"No.{i:04d}:{n:8d}:{n:8,d}:{n:8o}:{n:8x}:{n:8X}:{n:020b}\"\n",
    "    print(line)\n"
   ]
  },
  {
   "cell_type": "markdown",
   "metadata": {},
   "source": [
    "## 小数的格式"
   ]
  },
  {
   "cell_type": "code",
   "execution_count": 124,
   "metadata": {},
   "outputs": [
    {
     "name": "stdout",
     "output_type": "stream",
     "text": [
      "No.0000:........3240.883:        3,240.88:   324088.3%\n",
      "No.0001:........2163.715:        2,163.71:   216371.5%\n",
      "No.0002:........1790.202:        1,790.20:   179020.2%\n",
      "No.0003:.........341.640:          341.64:    34164.0%\n",
      "No.0004:........-572.255:         -572.25:   -57225.5%\n",
      "No.0005:........-879.969:         -879.97:   -87996.9%\n",
      "No.0006:........2716.967:        2,716.97:   271696.7%\n",
      "No.0007:........7873.445:        7,873.44:   787344.5%\n",
      "No.0008:.........667.431:          667.43:    66743.1%\n",
      "No.0009:........5963.939:        5,963.94:   596393.9%\n"
     ]
    }
   ],
   "source": [
    "# 统一宽度、前导0、千分位、小数点后固定位数、百分比；\n",
    "from random import uniform\n",
    "flist = [uniform(-999, 9999) for i in range(10)]\n",
    "for i, f in enumerate(flist):\n",
    "    line = f\"No.{i:04d}:{f:.>16.3f}:{f:16,.2f}:{f:12.1%}\"\n",
    "    print(line)\n"
   ]
  },
  {
   "cell_type": "markdown",
   "metadata": {},
   "source": [
    "## 特殊用法"
   ]
  },
  {
   "cell_type": "code",
   "execution_count": 125,
   "metadata": {},
   "outputs": [
    {
     "name": "stdout",
     "output_type": "stream",
     "text": [
      "a=12, b=34, a*a+b*b=1300\n"
     ]
    }
   ],
   "source": [
    "# 变量=值，输出\n",
    "a, b = 12, 34\n",
    "s = f\"{a=}, {b=}, {a*a+b*b=}\"\n",
    "print(s)\n"
   ]
  },
  {
   "cell_type": "code",
   "execution_count": 126,
   "metadata": {},
   "outputs": [
    {
     "name": "stdout",
     "output_type": "stream",
     "text": [
      "3\n",
      "3.1\n",
      "3.14\n",
      "3.142\n",
      "3.1416\n",
      "3.14159\n",
      "3.141593\n",
      "3.1415929\n",
      "3.14159292\n",
      "3.141592920\n",
      "3.1415929204\n",
      "3.14159292035\n",
      "3.141592920354\n",
      "3.1415929203540\n",
      "3.14159292035398\n",
      "3.141592920353983\n"
     ]
    }
   ],
   "source": [
    "# 嵌套的格式\n",
    "pi = 355/113\n",
    "for i in range(16):\n",
    "    print(f\"{pi:.{i}f}\")\n"
   ]
  },
  {
   "cell_type": "markdown",
   "metadata": {},
   "source": [
    "## 示例：打印一个菱形"
   ]
  },
  {
   "cell_type": "code",
   "execution_count": 133,
   "metadata": {},
   "outputs": [
    {
     "name": "stdout",
     "output_type": "stream",
     "text": [
      "--------------X---------------\n",
      "-------------XXX--------------\n",
      "------------XXXXX-------------\n",
      "-----------XXXXXXX------------\n",
      "----------XXXXXXXXX-----------\n",
      "---------XXXXXXXXXXX----------\n",
      "--------XXXXXXXXXXXXX---------\n",
      "-------XXXXXXXXXXXXXXX--------\n",
      "------XXXXXXXXXXXXXXXXX-------\n",
      "-----XXXXXXXXXXXXXXXXXXX------\n",
      "----XXXXXXXXXXXXXXXXXXXXX-----\n",
      "---XXXXXXXXXXXXXXXXXXXXXXX----\n",
      "----XXXXXXXXXXXXXXXXXXXXX-----\n",
      "-----XXXXXXXXXXXXXXXXXXX------\n",
      "------XXXXXXXXXXXXXXXXX-------\n",
      "-------XXXXXXXXXXXXXXX--------\n",
      "--------XXXXXXXXXXXXX---------\n",
      "---------XXXXXXXXXXX----------\n",
      "----------XXXXXXXXX-----------\n",
      "-----------XXXXXXX------------\n",
      "------------XXXXX-------------\n",
      "-------------XXX--------------\n",
      "--------------X---------------\n"
     ]
    }
   ],
   "source": [
    "n = 12\n",
    "for i in range(n*2-1):\n",
    "    w = \"X\" * ((n-abs(i-n+1))*2-1)\n",
    "    print(f\"{w:-^30}\")\n"
   ]
  }
 ],
 "metadata": {
  "kernelspec": {
   "display_name": "Python 3.9.13 ('base')",
   "language": "python",
   "name": "python3"
  },
  "language_info": {
   "codemirror_mode": {
    "name": "ipython",
    "version": 3
   },
   "file_extension": ".py",
   "mimetype": "text/x-python",
   "name": "python",
   "nbconvert_exporter": "python",
   "pygments_lexer": "ipython3",
   "version": "3.9.13"
  },
  "orig_nbformat": 4,
  "vscode": {
   "interpreter": {
    "hash": "9e9b5bdee76833c82256a661fe97e28092f057e4e062e2d5f1c366bf572c51cc"
   }
  }
 },
 "nbformat": 4,
 "nbformat_minor": 2
}
