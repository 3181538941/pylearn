{
 "cells": [
  {
   "cell_type": "markdown",
   "metadata": {},
   "source": [
    "# all和any函数\n",
    "## “全称”和“存在”的定义\n",
    "- 全称：所有的逻辑表达式都为True，才为True；\n",
    "  - 只要有一个为False，即为False。\n",
    "- 存在：任意一个逻辑表达式为True，就为True；\n",
    "  - 所有都是False，才为False。\n",
    "- ```all```函数，以一个可迭代对象为参数\n",
    "  - 迭代到第一个False，即返回False；\n",
    "  - 迭代结束，返回True。\n",
    "- ```any```函数，以一个可迭代对象为参数\n",
    "  - 迭代到第一个True，即返回True；\n",
    "  - 迭代结束，返回False。"
   ]
  },
  {
   "cell_type": "code",
   "execution_count": 3,
   "metadata": {},
   "outputs": [
    {
     "name": "stdout",
     "output_type": "stream",
     "text": [
      "投掷10000次\n",
      "--三次6为39次，占比0.4%；\n",
      "--至少一次6为4230次，占比42.3%。\n"
     ]
    }
   ],
   "source": [
    "# 掷骰子，连续三次，看看三次全6，\n",
    "#   和三次至少1个6的概率分别是多少？\n",
    "from random import randint\n",
    "n, triple, once = 10000, 0, 0\n",
    "for i in range(n):\n",
    "    bet = [randint(1, 6) for k in range(3)]\n",
    "    if all(x==6 for x in bet):\n",
    "        triple += 1\n",
    "    if any(x==6 for x in bet):\n",
    "        once += 1\n",
    "print(f\"投掷{n}次\")\n",
    "print(f\"--三次6为{triple}次，占比{triple/n*100:.1f}%；\")\n",
    "print(f\"--至少一次6为{once}次，占比{once/n*100:.1f}%。\")\n"
   ]
  },
  {
   "cell_type": "markdown",
   "metadata": {},
   "source": [
    "## “短路”特性\n",
    "- 对于all函数，只要碰到第一个False，就返回False；\n",
    "- 对于any函数，只要碰到第一个True，就返回True；\n",
    "- 结合生成器推导式的“惰性计算”特点，可以提高程序性能。"
   ]
  },
  {
   "cell_type": "code",
   "execution_count": 4,
   "metadata": {},
   "outputs": [
    {
     "name": "stdout",
     "output_type": "stream",
     "text": [
      "2333 True\n",
      "111 False\n"
     ]
    }
   ],
   "source": [
    "# 超级素数：一个数所有的前缀都是素数\n",
    "# 如：2333是超级素数，因为2，23，233，2333都是素数\n",
    "def is_prime(n):\n",
    "    if n < 2:\n",
    "        return False\n",
    "    for k in range(2, int(n ** 0.5) + 1):\n",
    "        if n % k == 0:\n",
    "            return False\n",
    "    return True\n",
    "def is_super_prime(n):\n",
    "    sn = str(n)\n",
    "    return all(is_prime(int(sn[: i + 1])) for i in range(len(sn)))\n",
    "print(2333, is_super_prime(2333))\n",
    "print(111, is_super_prime(111))\n"
   ]
  },
  {
   "cell_type": "code",
   "execution_count": 10,
   "metadata": {},
   "outputs": [
    {
     "name": "stdout",
     "output_type": "stream",
     "text": [
      "Yes, index==29\n"
     ]
    }
   ],
   "source": [
    "# 列表中是否存在指定值t，如果存在则返回下标\n",
    "from random import randint\n",
    "alist = [randint(1, 100) for i in range(50)]\n",
    "has_42 = any(alist[(k := i)]==42 for i in range(50))\n",
    "if has_42:\n",
    "    print(f\"Yes, index=={k}\")\n",
    "else:\n",
    "    print(\"No\")"
   ]
  }
 ],
 "metadata": {
  "kernelspec": {
   "display_name": "Python 3.9.13 ('base')",
   "language": "python",
   "name": "python3"
  },
  "language_info": {
   "codemirror_mode": {
    "name": "ipython",
    "version": 3
   },
   "file_extension": ".py",
   "mimetype": "text/x-python",
   "name": "python",
   "nbconvert_exporter": "python",
   "pygments_lexer": "ipython3",
   "version": "3.9.13"
  },
  "orig_nbformat": 4,
  "vscode": {
   "interpreter": {
    "hash": "9e9b5bdee76833c82256a661fe97e28092f057e4e062e2d5f1c366bf572c51cc"
   }
  }
 },
 "nbformat": 4,
 "nbformat_minor": 2
}
