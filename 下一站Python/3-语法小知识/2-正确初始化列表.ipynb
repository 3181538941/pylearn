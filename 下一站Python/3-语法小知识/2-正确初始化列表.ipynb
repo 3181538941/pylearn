{
 "cells": [
  {
   "cell_type": "markdown",
   "metadata": {},
   "source": [
    "# 奇怪的错误"
   ]
  },
  {
   "cell_type": "code",
   "execution_count": 1,
   "metadata": {},
   "outputs": [
    {
     "name": "stdout",
     "output_type": "stream",
     "text": [
      "elist=[2022]\n",
      "flist=[2022]\n"
     ]
    }
   ],
   "source": [
    "elist = flist = []\n",
    "elist.append(2022)\n",
    "print(f\"elist={elist}\")\n",
    "print(f\"flist={flist}\")"
   ]
  },
  {
   "cell_type": "code",
   "execution_count": 2,
   "metadata": {},
   "outputs": [
    {
     "name": "stdout",
     "output_type": "stream",
     "text": [
      "elist=[1107, -1, -1, -1]\n",
      "flist=[1107, -1, -1, -1]\n"
     ]
    }
   ],
   "source": [
    "elist = flist = [-1] * 4\n",
    "elist[0] = 1107\n",
    "print(f\"elist={elist}\")\n",
    "print(f\"flist={flist}\")"
   ]
  },
  {
   "cell_type": "markdown",
   "metadata": {},
   "source": [
    "# 正确初始化列表\n",
    "## 独立的变量和数据对象"
   ]
  },
  {
   "cell_type": "code",
   "execution_count": 3,
   "metadata": {},
   "outputs": [
    {
     "name": "stdout",
     "output_type": "stream",
     "text": [
      "初始化：\n",
      "a:2022 id:4668992464\n",
      "b:2022 id:4668993136\n",
      "赋值后：\n",
      "a:1107 id:4668991408\n",
      "b:2022 id:4668993136\n"
     ]
    }
   ],
   "source": [
    "# 独立的变量和数据对象\n",
    "a = 2022\n",
    "b = 2022\n",
    "print(\"初始化：\")\n",
    "print(f\"a:{a} id:{id(a)}\")\n",
    "print(f\"b:{b} id:{id(b)}\")\n",
    "a = 1107\n",
    "print(\"赋值后：\")\n",
    "print(f\"a:{a} id:{id(a)}\")\n",
    "print(f\"b:{b} id:{id(b)}\")"
   ]
  },
  {
   "cell_type": "markdown",
   "metadata": {},
   "source": [
    "## 独立的列表对象"
   ]
  },
  {
   "cell_type": "code",
   "execution_count": 8,
   "metadata": {},
   "outputs": [
    {
     "name": "stdout",
     "output_type": "stream",
     "text": [
      "初始化：\n",
      "alist:[] id:4570226176\n",
      "blist:[] id:4669127872\n",
      "添加数据项后：\n",
      "alist:[1107, 2202] id:4570226176\n",
      "blist:[] id:4669127872\n"
     ]
    }
   ],
   "source": [
    "alist, blist = [ ], [ ]\n",
    "print(\"初始化：\")\n",
    "print(f\"alist:{alist} id:{id(alist)}\")\n",
    "print(f\"blist:{blist} id:{id(blist)}\")\n",
    "\n",
    "alist.append(1107)\n",
    "alist.append(2202)\n",
    "print(\"添加数据项后：\")\n",
    "print(f\"alist:{alist} id:{id(alist)}\")\n",
    "print(f\"blist:{blist} id:{id(blist)}\")"
   ]
  },
  {
   "cell_type": "markdown",
   "metadata": {},
   "source": [
    "## 关联的列表对象"
   ]
  },
  {
   "cell_type": "code",
   "execution_count": 5,
   "metadata": {},
   "outputs": [
    {
     "name": "stdout",
     "output_type": "stream",
     "text": [
      "初始化：\n",
      "slist:[] id:4570002752\n",
      "tlist:[] id:4570002752\n",
      "添加数据项后：\n",
      "slist:[1107, 2022] id:4570002752\n",
      "tlist:[1107, 2022] id:4570002752\n"
     ]
    }
   ],
   "source": [
    "slist = [ ]\n",
    "tlist = slist\n",
    "print(\"初始化：\")\n",
    "print(f\"slist:{slist} id:{id(slist)}\")\n",
    "print(f\"tlist:{tlist} id:{id(tlist)}\")\n",
    "\n",
    "slist.append(1107)\n",
    "slist.append(2022)\n",
    "print(\"添加数据项后：\")\n",
    "print(f\"slist:{slist} id:{id(slist)}\")\n",
    "print(f\"tlist:{tlist} id:{id(tlist)}\")"
   ]
  },
  {
   "cell_type": "markdown",
   "metadata": {},
   "source": [
    "## 初始化一个4元素列表"
   ]
  },
  {
   "cell_type": "code",
   "execution_count": 6,
   "metadata": {},
   "outputs": [
    {
     "name": "stdout",
     "output_type": "stream",
     "text": [
      "初始化：\n",
      "klist:[-1, -1, -1, -1] id:4849098560\n",
      "元素赋值后：\n",
      "klist:[2022, 1107, -1, -1] id:4849098560\n"
     ]
    }
   ],
   "source": [
    "klist = [-1] * 4  # 用列表复制操作初始化4元素\n",
    "print(\"初始化：\")\n",
    "print(f\"klist:{klist} id:{id(klist)}\")\n",
    "klist[0] = 2022\n",
    "klist[1] = 1107\n",
    "print(\"元素赋值后：\")\n",
    "print(f\"klist:{klist} id:{id(klist)}\")"
   ]
  },
  {
   "cell_type": "markdown",
   "metadata": {},
   "source": [
    "## 容易出错的初始化"
   ]
  },
  {
   "cell_type": "code",
   "execution_count": 7,
   "metadata": {},
   "outputs": [
    {
     "name": "stdout",
     "output_type": "stream",
     "text": [
      "初始化：\n",
      "ulist:[-1, -1, -1, -1] id:4668305728\n",
      "vlist:[-1, -1, -1, -1] id:4668305728\n",
      "元素赋值后：\n",
      "ulist:[2022, -1, 1107, -1] id:4668305728\n",
      "vlist:[2022, -1, 1107, -1] id:4668305728\n"
     ]
    }
   ],
   "source": [
    "ulist = vlist = [-1] * 4  # 用列表复制操作初始化4元素\n",
    "print(\"初始化：\")\n",
    "print(f\"ulist:{ulist} id:{id(ulist)}\")\n",
    "print(f\"vlist:{vlist} id:{id(vlist)}\")\n",
    "ulist[0] = 2022\n",
    "ulist[2] = 1107\n",
    "print(\"元素赋值后：\")\n",
    "print(f\"ulist:{ulist} id:{id(ulist)}\")\n",
    "print(f\"vlist:{vlist} id:{id(vlist)}\")"
   ]
  }
 ],
 "metadata": {
  "kernelspec": {
   "display_name": "Python 3.9.13 ('base')",
   "language": "python",
   "name": "python3"
  },
  "language_info": {
   "codemirror_mode": {
    "name": "ipython",
    "version": 3
   },
   "file_extension": ".py",
   "mimetype": "text/x-python",
   "name": "python",
   "nbconvert_exporter": "python",
   "pygments_lexer": "ipython3",
   "version": "3.9.13"
  },
  "orig_nbformat": 4,
  "vscode": {
   "interpreter": {
    "hash": "9e9b5bdee76833c82256a661fe97e28092f057e4e062e2d5f1c366bf572c51cc"
   }
  }
 },
 "nbformat": 4,
 "nbformat_minor": 2
}
