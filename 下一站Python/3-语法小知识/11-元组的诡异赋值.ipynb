{
 "cells": [
  {
   "cell_type": "markdown",
   "metadata": {},
   "source": [
    "# 元组的诡异赋值\n",
    "## 一个谜题\n",
    "如果执行下列程序，结果是什么？\n",
    "```python\n",
    "atuple = (1, 2, [1, 2])\n",
    "atuple[2] += [3, 4]\n",
    "```\n",
    "- A) atuple会变成 ```(1, 2, [1, 2, 3, 4])```\n",
    "- B) 因为元组不支持元素赋值，会报错```TypeError```\n",
    "- C) AB都不是\n",
    "- D) AB都是"
   ]
  },
  {
   "cell_type": "code",
   "execution_count": 7,
   "metadata": {},
   "outputs": [
    {
     "ename": "TypeError",
     "evalue": "'tuple' object does not support item assignment",
     "output_type": "error",
     "traceback": [
      "\u001b[0;31m---------------------------------------------------------------------------\u001b[0m",
      "\u001b[0;31mTypeError\u001b[0m                                 Traceback (most recent call last)",
      "Cell \u001b[0;32mIn [7], line 2\u001b[0m\n\u001b[1;32m      1\u001b[0m atuple \u001b[39m=\u001b[39m (\u001b[39m1\u001b[39m, \u001b[39m2\u001b[39m, [\u001b[39m1\u001b[39m, \u001b[39m2\u001b[39m])\n\u001b[0;32m----> 2\u001b[0m atuple[\u001b[39m2\u001b[39;49m] \u001b[39m+\u001b[39m\u001b[39m=\u001b[39m [\u001b[39m3\u001b[39m, \u001b[39m4\u001b[39m]\n",
      "\u001b[0;31mTypeError\u001b[0m: 'tuple' object does not support item assignment"
     ]
    }
   ],
   "source": [
    "atuple = (1, 2, [1, 2])\n",
    "atuple[2] += [3, 4]\n"
   ]
  },
  {
   "cell_type": "code",
   "execution_count": 8,
   "metadata": {},
   "outputs": [
    {
     "name": "stdout",
     "output_type": "stream",
     "text": [
      "(1, 2, [1, 2, 3, 4])\n"
     ]
    }
   ],
   "source": [
    "print(atuple)\n"
   ]
  },
  {
   "cell_type": "markdown",
   "metadata": {},
   "source": [
    "## 元组不支持元素赋值\n",
    "- ```atuple[0] = 1``` 等价于 ```atuple.__setitem__(0, 1)```\n",
    "- 元组不支持元素赋值的机制：未定义特殊方法```__setitem__(self, key, value)```"
   ]
  },
  {
   "cell_type": "code",
   "execution_count": 9,
   "metadata": {},
   "outputs": [
    {
     "ename": "TypeError",
     "evalue": "'tuple' object does not support item assignment",
     "output_type": "error",
     "traceback": [
      "\u001b[0;31m---------------------------------------------------------------------------\u001b[0m",
      "\u001b[0;31mTypeError\u001b[0m                                 Traceback (most recent call last)",
      "Cell \u001b[0;32mIn [9], line 1\u001b[0m\n\u001b[0;32m----> 1\u001b[0m atuple[\u001b[39m0\u001b[39;49m] \u001b[39m=\u001b[39m \u001b[39m1\u001b[39m\n",
      "\u001b[0;31mTypeError\u001b[0m: 'tuple' object does not support item assignment"
     ]
    }
   ],
   "source": [
    "atuple[0] = 1"
   ]
  },
  {
   "cell_type": "markdown",
   "metadata": {},
   "source": [
    "## “+=”的机制\n",
    "- ```a += b``` 等价于 ```a = a.__iadd__(b)```\n",
    "- 但如果a的类型未定义```___iadd__(self, other)```\n",
    "- ```a += b``` 就回落为 ```a = a + b```，也就是```a = a.__add__(b)```\n",
    "- 如果a的类型连```__add__(self, other)```都没定义，也不要紧\n",
    "- 再试试```b.__radd__(a)```\n",
    "- 如果b的类型没定义```__radd__(self, other)```，才导致```a += b```计算失败"
   ]
  },
  {
   "cell_type": "code",
   "execution_count": 10,
   "metadata": {},
   "outputs": [
    {
     "name": "stdout",
     "output_type": "stream",
     "text": [
      "[1, 2, 3, 4]\n",
      "[1, 2, 3, 4, 5, 6]\n"
     ]
    }
   ],
   "source": [
    "# 列表\n",
    "alist = [1, 2]\n",
    "alist += [3, 4]\n",
    "print(alist)\n",
    "alist = alist.__iadd__([5, 6])\n",
    "print(alist)\n"
   ]
  },
  {
   "cell_type": "code",
   "execution_count": 11,
   "metadata": {},
   "outputs": [
    {
     "name": "stdout",
     "output_type": "stream",
     "text": [
      "22\n"
     ]
    },
    {
     "ename": "AttributeError",
     "evalue": "'int' object has no attribute '__iadd__'",
     "output_type": "error",
     "traceback": [
      "\u001b[0;31m---------------------------------------------------------------------------\u001b[0m",
      "\u001b[0;31mAttributeError\u001b[0m                            Traceback (most recent call last)",
      "Cell \u001b[0;32mIn [11], line 5\u001b[0m\n\u001b[1;32m      3\u001b[0m a \u001b[39m+\u001b[39m\u001b[39m=\u001b[39m \u001b[39m10\u001b[39m\n\u001b[1;32m      4\u001b[0m \u001b[39mprint\u001b[39m(a)\n\u001b[0;32m----> 5\u001b[0m a \u001b[39m=\u001b[39m a\u001b[39m.\u001b[39;49m\u001b[39m__iadd__\u001b[39;49m(\u001b[39m10\u001b[39m)\n\u001b[1;32m      6\u001b[0m \u001b[39mprint\u001b[39m(a)\n",
      "\u001b[0;31mAttributeError\u001b[0m: 'int' object has no attribute '__iadd__'"
     ]
    }
   ],
   "source": [
    "# 整数\n",
    "a = 12\n",
    "a += 10\n",
    "print(a)\n",
    "a = a.__iadd__(10)\n",
    "print(a)\n"
   ]
  },
  {
   "cell_type": "markdown",
   "metadata": {},
   "source": [
    "## 解谜时刻\n",
    "- ```atuple[2] += [3, 4]``` 等价于下面三条语句"
   ]
  },
  {
   "cell_type": "code",
   "execution_count": 12,
   "metadata": {},
   "outputs": [
    {
     "ename": "AttributeError",
     "evalue": "'tuple' object has no attribute '__setitem__'",
     "output_type": "error",
     "traceback": [
      "\u001b[0;31m---------------------------------------------------------------------------\u001b[0m",
      "\u001b[0;31mAttributeError\u001b[0m                            Traceback (most recent call last)",
      "Cell \u001b[0;32mIn [12], line 3\u001b[0m\n\u001b[1;32m      1\u001b[0m result \u001b[39m=\u001b[39m atuple\u001b[39m.\u001b[39m\u001b[39m__getitem__\u001b[39m(\u001b[39m2\u001b[39m)\n\u001b[1;32m      2\u001b[0m result \u001b[39m=\u001b[39m result\u001b[39m.\u001b[39m\u001b[39m__iadd__\u001b[39m([\u001b[39m3\u001b[39m, \u001b[39m4\u001b[39m])\n\u001b[0;32m----> 3\u001b[0m atuple\u001b[39m.\u001b[39;49m\u001b[39m__setitem__\u001b[39;49m(\u001b[39m2\u001b[39m, result)\n",
      "\u001b[0;31mAttributeError\u001b[0m: 'tuple' object has no attribute '__setitem__'"
     ]
    }
   ],
   "source": [
    "result = atuple.__getitem__(2)\n",
    "result = result.__iadd__([3, 4])\n",
    "atuple.__setitem__(2, result)"
   ]
  },
  {
   "cell_type": "code",
   "execution_count": 13,
   "metadata": {},
   "outputs": [
    {
     "data": {
      "text/plain": [
       "[1, 2, 3, 4, 3, 4]"
      ]
     },
     "execution_count": 13,
     "metadata": {},
     "output_type": "execute_result"
    }
   ],
   "source": [
    "result"
   ]
  },
  {
   "cell_type": "markdown",
   "metadata": {},
   "source": [
    "## 改变元组中的列表内容的正确姿势\n",
    "- 不要给元组元素赋值，直接调用列表方法；"
   ]
  },
  {
   "cell_type": "code",
   "execution_count": 14,
   "metadata": {},
   "outputs": [
    {
     "name": "stdout",
     "output_type": "stream",
     "text": [
      "(1, 2, [1, 2])\n",
      "(1, 2, [1])\n",
      "(1, 2, [1, 99])\n",
      "(1, 2, [1, 99, 0, 2])\n",
      "(1, 2, [0, 1, 2, 99])\n"
     ]
    }
   ],
   "source": [
    "# 直接调用列表方法\n",
    "atuple = (1, 2, [1, 2])\n",
    "print(atuple)\n",
    "atuple[2].pop()\n",
    "print(atuple)\n",
    "atuple[2].append(99)\n",
    "print(atuple)\n",
    "atuple[2].extend([0, 2])  # += 调用了 extend 方法\n",
    "print(atuple)\n",
    "atuple[2].sort()\n",
    "print(atuple)\n"
   ]
  },
  {
   "cell_type": "markdown",
   "metadata": {},
   "source": [
    "## 元组诡异赋值的启示\n",
    "- 单条语句未必是**原子化**操作；\n",
    "- ```try...exception```捕捉错误后的处理要小心；\n",
    "- 规范书写程序，简朴的程序是最好的程序；"
   ]
  }
 ],
 "metadata": {
  "kernelspec": {
   "display_name": "Python 3.9.13 ('base')",
   "language": "python",
   "name": "python3"
  },
  "language_info": {
   "codemirror_mode": {
    "name": "ipython",
    "version": 3
   },
   "file_extension": ".py",
   "mimetype": "text/x-python",
   "name": "python",
   "nbconvert_exporter": "python",
   "pygments_lexer": "ipython3",
   "version": "3.9.13"
  },
  "orig_nbformat": 4,
  "vscode": {
   "interpreter": {
    "hash": "9e9b5bdee76833c82256a661fe97e28092f057e4e062e2d5f1c366bf572c51cc"
   }
  }
 },
 "nbformat": 4,
 "nbformat_minor": 2
}
