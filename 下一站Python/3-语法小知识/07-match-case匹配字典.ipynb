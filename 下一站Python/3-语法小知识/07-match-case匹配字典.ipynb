{
 "cells": [
  {
   "cell_type": "markdown",
   "metadata": {},
   "source": [
    "# match-case匹配字典\n",
    "## 字典的模式匹配\n",
    "- 包含```case```中列明的```key:value```模式即可，但key必须是字面值，没有占位符；\n",
    "- 匹配任何字典（```{ }```）；\n",
    "- 单个value的占位符（```_```），或者捕捉变量（```a```）；\n",
    "- 多个key:value的捕捉变量（```**d```），得到一个字典```d```；"
   ]
  },
  {
   "cell_type": "code",
   "execution_count": 34,
   "metadata": {},
   "outputs": [
    {
     "name": "stdout",
     "output_type": "stream",
     "text": [
      "匹配到任意字典，并且捕捉到d中： {'Tom': 20, 'Jerry': 19, 'Spike': 30, 'Tyke': 5}\n"
     ]
    }
   ],
   "source": [
    "aset = {\"Tom\":20, \"Jerry\":19, \"Spike\":30, \"Tyke\":5}\n",
    "match aset:\n",
    "    #case { }:\n",
    "    #    print(\"匹配到任意字典。\")\n",
    "    case { \"Tom\":201 }:\n",
    "        print(\"包含了Tom:20\")\n",
    "    case { \"Tom1\":_ }:\n",
    "        print(\"包含了Tom，value任意。\")\n",
    "    case { \"Tom1\":v }:\n",
    "        print(\"包含了Tom，捕捉到value=\", v)\n",
    "    case { \"Tom1\":t, \"Jerry1\":j }:\n",
    "        print(\"包含Tom和Jerry，对应的value分别是：\", t, j)\n",
    "    case { \"Tyke1\":_, **d }:\n",
    "        print(\"包含Tyke，其余的key:value是：\", d)\n",
    "    case { **d }:\n",
    "        print(\"匹配到任意字典，并且捕捉到d中：\", d)\n"
   ]
  },
  {
   "cell_type": "markdown",
   "metadata": {},
   "source": [
    "## 示例：分组执行任务的表现"
   ]
  },
  {
   "cell_type": "code",
   "execution_count": 35,
   "metadata": {},
   "outputs": [
    {
     "name": "stdout",
     "output_type": "stream",
     "text": [
      "一共派出了100次小组，\n",
      "Tom和Bob搭档的次数为16\n",
      "--有Tom参与的情况下，Bob的平均业绩为60.8\n",
      "Jerry和Spike搭档的次数为19\n",
      "--两人搭档的平均业绩为73.6\n"
     ]
    }
   ],
   "source": [
    "# 模拟从工作人员名单中随机抽取派出执行任务\n",
    "from random import randint, sample\n",
    "workers = [\"Tom\", \"Jerry\", \"Spike\", \"Tyke\", \"Smith\", \"Bob\"]\n",
    "n, tom_team, bob_grade, jerry_team, js_grade = 100, 0, 0, 0, 0\n",
    "for i in range(n):\n",
    "    team = {w: randint(40, 100) for w in sample(workers, 3)}\n",
    "    match team:\n",
    "        case {\"Tom\": _, \"Bob\": g}:\n",
    "            tom_team += 1\n",
    "            bob_grade += g\n",
    "        case {\"Jerry\": g1, \"Spike\": g2}:  # 与上面case互斥\n",
    "            jerry_team += 1\n",
    "            js_grade += (g1 + g2)\n",
    "print(f\"一共派出了{n}次小组，\")\n",
    "print(f\"Tom和Bob搭档的次数为{tom_team}\")\n",
    "print(f\"--有Tom参与的情况下，Bob的平均业绩为{bob_grade/tom_team:.1f}\")\n",
    "print(f\"Jerry和Spike搭档的次数为{jerry_team}\")\n",
    "print(f\"--两人搭档的平均业绩为{js_grade/jerry_team/2:.1f}\")\n"
   ]
  }
 ],
 "metadata": {
  "kernelspec": {
   "display_name": "Python 3.10.6 64-bit",
   "language": "python",
   "name": "python3"
  },
  "language_info": {
   "codemirror_mode": {
    "name": "ipython",
    "version": 3
   },
   "file_extension": ".py",
   "mimetype": "text/x-python",
   "name": "python",
   "nbconvert_exporter": "python",
   "pygments_lexer": "ipython3",
   "version": "3.10.6"
  },
  "orig_nbformat": 4,
  "vscode": {
   "interpreter": {
    "hash": "b0fa6594d8f4cbf19f97940f81e996739fb7646882a419484c72d19e05852a7e"
   }
  }
 },
 "nbformat": 4,
 "nbformat_minor": 2
}
