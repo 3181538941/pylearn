{
 "cells": [
  {
   "cell_type": "markdown",
   "metadata": {},
   "source": [
    "# 准备测试数据"
   ]
  },
  {
   "cell_type": "code",
   "execution_count": 1,
   "metadata": {},
   "outputs": [
    {
     "name": "stdout",
     "output_type": "stream",
     "text": [
      "学生信息表：\n",
      " [('Andrea', 41, 'South Robertburgh'), ('Thomas', 28, 'Port Carriemouth'), ('Robert', 38, 'West Victoria'), ('Brittany', 44, 'Andrewmouth'), ('Jacob', 48, 'Medinaton'), ('Charles', 28, 'Stevenbury'), ('Sandra', 32, 'South Sherry'), ('Mark', 40, 'Ramosside'), ('Shannon', 31, 'Port Jonathan'), ('Karen', 27, 'Simmonstown')]\n",
      "dmath成绩单：\n",
      " {'Andrea': 91.36, 'Thomas': 29.86, 'Robert': 56.49, 'Brittany': 65.57, 'Jacob': 90.43, 'Charles': 22.25, 'Sandra': 77.48, 'Mark': 87.5, 'Shannon': 30.89, 'Karen': 82.38}\n",
      "python成绩单：\n",
      " {'Andrea': 27.87, 'Thomas': 93.11, 'Robert': 15.73, 'Brittany': 98.85, 'Jacob': 4.78, 'Charles': 88.32, 'Sandra': 36.87, 'Mark': 57.74, 'Shannon': 73.83, 'Karen': 78.0}\n",
      "dsa成绩单：\n",
      " {'Andrea': 38.8, 'Thomas': 84.72, 'Robert': 0.88, 'Brittany': 63.29, 'Jacob': 80.92, 'Charles': 49.17, 'Sandra': 4.37, 'Mark': 61.61, 'Shannon': 58.3, 'Karen': 30.29}\n"
     ]
    }
   ],
   "source": [
    "from faker import Faker\n",
    "Faker.seed()\n",
    "f = Faker()\n",
    "\n",
    "# 数据背景：来自世界各地的慕课学生，选修了dmath,python,dsa三门课\n",
    "# 我们有学生信息表，每门课的成绩单\n",
    "nmin, nmax, total = 18, 50, 10\n",
    "# 学生信息列表，数据项是元组 (名字, 年龄, 所在城市)\n",
    "plist_tuple = [(f.first_name(), f.pyint(nmin, nmax),\n",
    "                f.city()) for i in range(total)]\n",
    "# dmath成绩单\n",
    "dmath_dict = {name: f.pyfloat(2, 2, True) for name, age, city in plist_tuple}\n",
    "# python成绩单\n",
    "python_dict = {name: f.pyfloat(2, 2, True) for name, age, city in plist_tuple}\n",
    "# dsa成绩单\n",
    "dsa_dict = {name: f.pyfloat(2, 2, True) for name, age, city in plist_tuple}\n",
    "\n",
    "print(\"学生信息表：\\n\", plist_tuple)\n",
    "print(\"dmath成绩单：\\n\", dmath_dict)\n",
    "print(\"python成绩单：\\n\", python_dict)\n",
    "print(\"dsa成绩单：\\n\", dsa_dict)\n"
   ]
  },
  {
   "cell_type": "markdown",
   "metadata": {},
   "source": [
    "# 学生信息按照dmath成绩高低排序"
   ]
  },
  {
   "cell_type": "code",
   "execution_count": 2,
   "metadata": {},
   "outputs": [
    {
     "name": "stdout",
     "output_type": "stream",
     "text": [
      "[('Andrea', 41, 'South Robertburgh'), ('Jacob', 48, 'Medinaton'), ('Mark', 40, 'Ramosside'), ('Karen', 27, 'Simmonstown'), ('Sandra', 32, 'South Sherry'), ('Brittany', 44, 'Andrewmouth'), ('Robert', 38, 'West Victoria'), ('Shannon', 31, 'Port Jonathan'), ('Thomas', 28, 'Port Carriemouth'), ('Charles', 28, 'Stevenbury')]\n"
     ]
    }
   ],
   "source": [
    "psorted = sorted(plist_tuple, key=lambda x: dmath_dict[x[0]], reverse=True)\n",
    "\n",
    "print(psorted)\n"
   ]
  },
  {
   "cell_type": "markdown",
   "metadata": {},
   "source": [
    "# 学生信息按照三门课总成绩高低排序"
   ]
  },
  {
   "cell_type": "code",
   "execution_count": 3,
   "metadata": {},
   "outputs": [
    {
     "name": "stdout",
     "output_type": "stream",
     "text": [
      "[('Brittany', 44, 'Andrewmouth'), ('Thomas', 28, 'Port Carriemouth'), ('Mark', 40, 'Ramosside'), ('Karen', 27, 'Simmonstown'), ('Jacob', 48, 'Medinaton'), ('Shannon', 31, 'Port Jonathan'), ('Charles', 28, 'Stevenbury'), ('Andrea', 41, 'South Robertburgh'), ('Sandra', 32, 'South Sherry'), ('Robert', 38, 'West Victoria')]\n"
     ]
    }
   ],
   "source": [
    "psorted = sorted(plist_tuple, key=lambda x: sum(\n",
    "    [dmath_dict[x[0]], python_dict[x[0]], dsa_dict[x[0]]]), reverse=True)\n",
    "\n",
    "print(psorted)\n"
   ]
  },
  {
   "cell_type": "markdown",
   "metadata": {},
   "source": [
    "# ```list.sort```中的参照排序"
   ]
  },
  {
   "cell_type": "code",
   "execution_count": 4,
   "metadata": {},
   "outputs": [
    {
     "name": "stdout",
     "output_type": "stream",
     "text": [
      "[('Robert', 38, 'West Victoria'), ('Sandra', 32, 'South Sherry'), ('Karen', 27, 'Simmonstown'), ('Andrea', 41, 'South Robertburgh'), ('Charles', 28, 'Stevenbury'), ('Shannon', 31, 'Port Jonathan'), ('Mark', 40, 'Ramosside'), ('Brittany', 44, 'Andrewmouth'), ('Jacob', 48, 'Medinaton'), ('Thomas', 28, 'Port Carriemouth')]\n"
     ]
    }
   ],
   "source": [
    "plist_tuple.sort(key=lambda x:dsa_dict[x[0]])  # 学生信息按照dsa课程成绩改变次序\n",
    "\n",
    "print(plist_tuple)"
   ]
  },
  {
   "cell_type": "markdown",
   "metadata": {},
   "source": [
    "# 小结\n",
    "- key参数中的函数可以引用排序对象的外部数据\n",
    "- 排序对象包含的部分数据可以参与计算排序依据\n",
    "- list.sort中的key参数同样可以引用外部数据进行就地排序"
   ]
  }
 ],
 "metadata": {
  "kernelspec": {
   "display_name": "Python 3.9.13 ('base')",
   "language": "python",
   "name": "python3"
  },
  "language_info": {
   "codemirror_mode": {
    "name": "ipython",
    "version": 3
   },
   "file_extension": ".py",
   "mimetype": "text/x-python",
   "name": "python",
   "nbconvert_exporter": "python",
   "pygments_lexer": "ipython3",
   "version": "3.9.13"
  },
  "orig_nbformat": 4,
  "vscode": {
   "interpreter": {
    "hash": "9e9b5bdee76833c82256a661fe97e28092f057e4e062e2d5f1c366bf572c51cc"
   }
  }
 },
 "nbformat": 4,
 "nbformat_minor": 2
}
