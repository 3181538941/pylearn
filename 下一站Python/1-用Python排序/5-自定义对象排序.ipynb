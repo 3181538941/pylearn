{
 "cells": [
  {
   "cell_type": "markdown",
   "metadata": {},
   "source": [
    "# 为自定义对象确定先后关系\n",
    "- Python内置排序算法通过**比较运算符**“<”来确定排序对象的先后次序；\n",
    "- 只要能够用“<”排列先后的数据类型都可以用内置算法排序；\n",
    "  - 整数；浮点数；字符串；逻辑值……等等\n",
    "- 自定义对象只需要完成特殊方法```__lt__```，对应“<”\n",
    "  - 自定义对象也可以通过内置算法排序"
   ]
  },
  {
   "cell_type": "code",
   "execution_count": 1,
   "metadata": {},
   "outputs": [
    {
     "name": "stdout",
     "output_type": "stream",
     "text": [
      "<Alice,19,75.50> <Bob,22,77.00>\n",
      "a < b: True\n",
      "b < a: False\n"
     ]
    }
   ],
   "source": [
    "# 数据背景：学生信息对象，包括名字、年龄和成绩三个属性\n",
    "class Student:\n",
    "    def __init__(self, name, age, grade):\n",
    "        self.name = name\n",
    "        self.age = age\n",
    "        self.grade = grade\n",
    "\n",
    "    def __lt__(self, other):  # Student对象之间的 < 比较\n",
    "        return self.name < other.name\n",
    "\n",
    "    def __str__(self):\n",
    "        return f\"<{self.name},{self.age},{self.grade:.2f}>\"\n",
    "    __repr__ = __str__\n",
    "\n",
    "\n",
    "a = Student(\"Alice\", 19, 75.5)\n",
    "b = Student(\"Bob\", 22, 77)\n",
    "print(a, b)\n",
    "print(\"a < b:\", a < b)\n",
    "print(\"b < a:\", b < a)"
   ]
  },
  {
   "cell_type": "markdown",
   "metadata": {},
   "source": [
    "# 准备测试数据"
   ]
  },
  {
   "cell_type": "code",
   "execution_count": 2,
   "metadata": {},
   "outputs": [
    {
     "name": "stdout",
     "output_type": "stream",
     "text": [
      "#学生信息对象列表：\n",
      " [<Danielle,60,40.32>, <Vincent,55,84.74>, <Tom,35,4.10>, <Rachel,50,56.56>, <Mary,22,76.64>, <Philip,56,51.21>, <Lisa,29,53.26>, <Jonathan,51,13.57>, <Carl,60,30.22>, <Seth,49,66.40>, <Mary,21,10.23>, <Cheyenne,31,16.27>, <Sarah,52,35.23>, <Heather,34,57.80>, <Marc,57,74.29>]\n"
     ]
    }
   ],
   "source": [
    "from faker import Faker\n",
    "Faker.seed()\n",
    "f = Faker()\n",
    "\n",
    "nmin, nmax, total = 18, 60, 15\n",
    "plist_obj = [Student(f.first_name(), f.pyint(nmin, nmax),\n",
    "                     f.pyfloat(2, 2, True)) for i in range(total)]\n",
    "print(\"#学生信息对象列表：\\n\", plist_obj)"
   ]
  },
  {
   "cell_type": "markdown",
   "metadata": {},
   "source": [
    "# 学生信息排序"
   ]
  },
  {
   "cell_type": "code",
   "execution_count": 3,
   "metadata": {},
   "outputs": [
    {
     "name": "stdout",
     "output_type": "stream",
     "text": [
      "学生信息排序结果：\n",
      " [<Carl,60,30.22>, <Cheyenne,31,16.27>, <Danielle,60,40.32>, <Heather,34,57.80>, <Jonathan,51,13.57>, <Lisa,29,53.26>, <Marc,57,74.29>, <Mary,22,76.64>, <Mary,21,10.23>, <Philip,56,51.21>, <Rachel,50,56.56>, <Sarah,52,35.23>, <Seth,49,66.40>, <Tom,35,4.10>, <Vincent,55,84.74>]\n"
     ]
    }
   ],
   "source": [
    "psorted = sorted(plist_obj)\n",
    "print(\"学生信息排序结果：\\n\", psorted)"
   ]
  },
  {
   "cell_type": "markdown",
   "metadata": {},
   "source": [
    "# 修改学生对象的先后次序定义\n",
    "- 学生对象成绩高的排在前，低的排在后"
   ]
  },
  {
   "cell_type": "code",
   "execution_count": 4,
   "metadata": {},
   "outputs": [
    {
     "name": "stdout",
     "output_type": "stream",
     "text": [
      "<Alice,19,75.50> <Bob,22,77.00>\n",
      "a < b: False\n",
      "b < a: True\n"
     ]
    }
   ],
   "source": [
    "class Student:\n",
    "    def __init__(self, name, age, grade):\n",
    "        self.name = name\n",
    "        self.age = age\n",
    "        self.grade = grade\n",
    "\n",
    "    def __lt__(self, other):  # Student对象成绩高的排前面\n",
    "        return self.grade > other.grade\n",
    "\n",
    "    def __str__(self):\n",
    "        return f\"<{self.name},{self.age},{self.grade:.2f}>\"\n",
    "    __repr__ = __str__\n",
    "\n",
    "\n",
    "a = Student(\"Alice\", 19, 75.5)\n",
    "b = Student(\"Bob\", 22, 77)\n",
    "print(a, b)\n",
    "print(\"a < b:\", a < b)\n",
    "print(\"b < a:\", b < a)"
   ]
  },
  {
   "cell_type": "markdown",
   "metadata": {},
   "source": [
    "# 新的测试数据\n",
    "- 由于重新定义了```class Student```，需要重新生成新的测试数据"
   ]
  },
  {
   "cell_type": "code",
   "execution_count": 5,
   "metadata": {},
   "outputs": [
    {
     "name": "stdout",
     "output_type": "stream",
     "text": [
      "#学生信息对象列表：\n",
      " [<Michael,50,94.34>, <Amanda,21,66.94>, <William,22,97.91>, <Caitlin,30,83.53>, <Ian,51,11.20>, <Kimberly,54,28.76>, <Christian,33,53.86>, <Thomas,19,59.80>, <Mike,23,50.75>, <Roger,19,18.15>, <Christopher,47,3.21>, <Gregory,18,16.16>, <Adam,36,25.67>, <Autumn,36,76.12>, <Michele,59,99.44>]\n"
     ]
    }
   ],
   "source": [
    "plist_obj = [Student(f.first_name(), f.pyint(nmin, nmax),\n",
    "                     f.pyfloat(2, 2, True)) for i in range(total)]\n",
    "print(\"#学生信息对象列表：\\n\", plist_obj)"
   ]
  },
  {
   "cell_type": "markdown",
   "metadata": {},
   "source": [
    "# 新的学生信息排序\n",
    "- 新的先后次序是：成绩高的在前，低的排在后"
   ]
  },
  {
   "cell_type": "code",
   "execution_count": 6,
   "metadata": {},
   "outputs": [
    {
     "name": "stdout",
     "output_type": "stream",
     "text": [
      "学生信息排序结果：\n",
      " [<Michele,59,99.44>, <William,22,97.91>, <Michael,50,94.34>, <Caitlin,30,83.53>, <Autumn,36,76.12>, <Amanda,21,66.94>, <Thomas,19,59.80>, <Christian,33,53.86>, <Mike,23,50.75>, <Kimberly,54,28.76>, <Adam,36,25.67>, <Roger,19,18.15>, <Gregory,18,16.16>, <Ian,51,11.20>, <Christopher,47,3.21>]\n"
     ]
    }
   ],
   "source": [
    "psorted = sorted(plist_obj)\n",
    "print(\"学生信息排序结果：\\n\", psorted)"
   ]
  },
  {
   "cell_type": "markdown",
   "metadata": {},
   "source": [
    "# 小结\n",
    "- Python内置排序算法根据比较关系符“<”来确定排序对象的先后次序；\n",
    "- 只要定义了```__lt__```特殊方法的对象都可以用内置算法排序；\n",
    "- 先后次序要有良好定义。"
   ]
  }
 ],
 "metadata": {
  "kernelspec": {
   "display_name": "Python 3.9.13 ('base')",
   "language": "python",
   "name": "python3"
  },
  "language_info": {
   "codemirror_mode": {
    "name": "ipython",
    "version": 3
   },
   "file_extension": ".py",
   "mimetype": "text/x-python",
   "name": "python",
   "nbconvert_exporter": "python",
   "pygments_lexer": "ipython3",
   "version": "3.9.13"
  },
  "orig_nbformat": 4,
  "vscode": {
   "interpreter": {
    "hash": "9e9b5bdee76833c82256a661fe97e28092f057e4e062e2d5f1c366bf572c51cc"
   }
  }
 },
 "nbformat": 4,
 "nbformat_minor": 2
}
