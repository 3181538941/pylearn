{
 "cells": [
  {
   "cell_type": "markdown",
   "metadata": {},
   "source": [
    "# 准备测试数据"
   ]
  },
  {
   "cell_type": "code",
   "execution_count": 1,
   "metadata": {},
   "outputs": [
    {
     "name": "stdout",
     "output_type": "stream",
     "text": [
      "#整数：\n",
      " [67, 24, 67, -7, 95, 28, 44, 94, 68, 62, 70, 31, 70, 90, 99, -72, 88, 11, -73, 45]\n",
      "#浮点数：\n",
      " [-3712.1405, -4269.1456, 8982.7947, 4180.6972, -839.5773, -8141.9491, -2236.4637, -1447.4943, -8802.131, 9620.6201, 3203.3948, 7048.2275, 8815.8103, -2280.6837, -4984.5087, -5296.9283, 562.8757, -4536.2163, -2382.9565, 4286.1052]\n",
      "#字符串：\n",
      " ['group', 'accept', 'born', 'effect', 'himself', 'red', 'sea', 'try', 'second', 'eye', 'science', 'husband', 'stock', 'game', 'I', 'her', 'follow', 'compare', 'feel', 'capital']\n"
     ]
    }
   ],
   "source": [
    "from faker import Faker\n",
    "Faker.seed()\n",
    "f = Faker()\n",
    "\n",
    "nmin, nmax, total = -100, 100, 20\n",
    "nlist = [f.pyint(nmin, nmax) for n in range(total)]  # 一系列随机整数\n",
    "flist = [f.pyfloat(4, 4) for n in range(total)]  # 一系列4.4格式的浮点数\n",
    "slist = [f.word() for n in range(total)]  # 一系列随机单词\n",
    "\n",
    "print(\"#整数：\\n\", nlist)\n",
    "print(\"#浮点数：\\n\", flist)\n",
    "print(\"#字符串：\\n\", slist)"
   ]
  },
  {
   "cell_type": "markdown",
   "metadata": {},
   "source": [
    "# 整数按照绝对值排序"
   ]
  },
  {
   "cell_type": "code",
   "execution_count": 2,
   "metadata": {},
   "outputs": [
    {
     "name": "stdout",
     "output_type": "stream",
     "text": [
      "-12 => 12\n"
     ]
    }
   ],
   "source": [
    "x = -12\n",
    "print(f\"{x} => {abs(x)}\")"
   ]
  },
  {
   "cell_type": "code",
   "execution_count": 3,
   "metadata": {},
   "outputs": [
    {
     "name": "stdout",
     "output_type": "stream",
     "text": [
      "[67, 24, 67, -7, 95, 28, 44, 94, 68, 62, 70, 31, 70, 90, 99, -72, 88, 11, -73, 45]\n",
      "#按照绝对值排序：\n",
      " [-7, 11, 24, 28, 31, 44, 45, 62, 67, 67, 68, 70, 70, -72, -73, 88, 90, 94, 95, 99]\n"
     ]
    }
   ],
   "source": [
    "nsorted = sorted(nlist, key=abs)  # key参数指定为abs函数\n",
    "\n",
    "print(nlist)\n",
    "print(\"#按照绝对值排序：\\n\", nsorted)"
   ]
  },
  {
   "cell_type": "markdown",
   "metadata": {},
   "source": [
    "# 字符串按照长度排序"
   ]
  },
  {
   "cell_type": "code",
   "execution_count": 4,
   "metadata": {},
   "outputs": [
    {
     "name": "stdout",
     "output_type": "stream",
     "text": [
      "university => 10\n"
     ]
    }
   ],
   "source": [
    "x = \"university\"\n",
    "print(f\"{x} => {len(x)}\")"
   ]
  },
  {
   "cell_type": "code",
   "execution_count": 5,
   "metadata": {},
   "outputs": [
    {
     "name": "stdout",
     "output_type": "stream",
     "text": [
      "['group', 'accept', 'born', 'effect', 'himself', 'red', 'sea', 'try', 'second', 'eye', 'science', 'husband', 'stock', 'game', 'I', 'her', 'follow', 'compare', 'feel', 'capital']\n",
      "#按照字符串长度排序：\n",
      " ['I', 'red', 'sea', 'try', 'eye', 'her', 'born', 'game', 'feel', 'group', 'stock', 'accept', 'effect', 'second', 'follow', 'himself', 'science', 'husband', 'compare', 'capital']\n"
     ]
    }
   ],
   "source": [
    "ssorted = sorted(slist, key=len)  # key参数指定为len函数\n",
    "\n",
    "print(slist)\n",
    "print(\"#按照字符串长度排序：\\n\", ssorted)"
   ]
  },
  {
   "cell_type": "markdown",
   "metadata": {},
   "source": [
    "# 浮点数按照小数部分排序"
   ]
  },
  {
   "cell_type": "code",
   "execution_count": 6,
   "metadata": {},
   "outputs": [
    {
     "name": "stdout",
     "output_type": "stream",
     "text": [
      "2367.1247 => 0.1247\n"
     ]
    }
   ],
   "source": [
    "def get_decimal(f):  # 取浮点数的小数部分\n",
    "    return abs(f-int(f))\n",
    "\n",
    "x = 2367.1247\n",
    "print(f\"{x} => {get_decimal(x):.4f}\")"
   ]
  },
  {
   "cell_type": "code",
   "execution_count": 7,
   "metadata": {},
   "outputs": [
    {
     "name": "stdout",
     "output_type": "stream",
     "text": [
      "[-3712.1405, -4269.1456, 8982.7947, 4180.6972, -839.5773, -8141.9491, -2236.4637, -1447.4943, -8802.131, 9620.6201, 3203.3948, 7048.2275, 8815.8103, -2280.6837, -4984.5087, -5296.9283, 562.8757, -4536.2163, -2382.9565, 4286.1052]\n",
      "#按照小数部分排序：\n",
      " [4286.1052, -8802.131, -3712.1405, -4269.1456, -4536.2163, 7048.2275, 3203.3948, -2236.4637, -1447.4943, -4984.5087, -839.5773, 9620.6201, -2280.6837, 4180.6972, 8982.7947, 8815.8103, 562.8757, -5296.9283, -8141.9491, -2382.9565]\n"
     ]
    }
   ],
   "source": [
    "fsorted = sorted(flist, key=get_decimal)  # key参数指定为get_decimal函数\n",
    "\n",
    "print(flist)\n",
    "print(\"#按照小数部分排序：\\n\", fsorted)"
   ]
  },
  {
   "cell_type": "markdown",
   "metadata": {},
   "source": [
    "## ```lambda```匿名函数"
   ]
  },
  {
   "cell_type": "code",
   "execution_count": 8,
   "metadata": {},
   "outputs": [
    {
     "name": "stdout",
     "output_type": "stream",
     "text": [
      "[-3712.1405, -4269.1456, 8982.7947, 4180.6972, -839.5773, -8141.9491, -2236.4637, -1447.4943, -8802.131, 9620.6201, 3203.3948, 7048.2275, 8815.8103, -2280.6837, -4984.5087, -5296.9283, 562.8757, -4536.2163, -2382.9565, 4286.1052]\n",
      "#按照小数部分排序：\n",
      " [4286.1052, -8802.131, -3712.1405, -4269.1456, -4536.2163, 7048.2275, 3203.3948, -2236.4637, -1447.4943, -4984.5087, -839.5773, 9620.6201, -2280.6837, 4180.6972, 8982.7947, 8815.8103, 562.8757, -5296.9283, -8141.9491, -2382.9565]\n"
     ]
    }
   ],
   "source": [
    "fsorted = sorted(flist, key=lambda f: abs(f-int(f)))  # key参数指定为lambda匿名函数\n",
    "\n",
    "print(flist)\n",
    "print(\"#按照小数部分排序：\\n\", fsorted)"
   ]
  },
  {
   "cell_type": "markdown",
   "metadata": {},
   "source": [
    "# ```list.sort```同样适用```key```参数"
   ]
  },
  {
   "cell_type": "code",
   "execution_count": 9,
   "metadata": {},
   "outputs": [
    {
     "name": "stdout",
     "output_type": "stream",
     "text": [
      "#就地排序：\n",
      "整数按绝对值排序：\n",
      " [-7, 11, 24, 28, 31, 44, 45, 62, 67, 67, 68, 70, 70, -72, -73, 88, 90, 94, 95, 99]\n",
      "浮点数按小数部分排序：\n",
      " [4286.1052, -8802.131, -3712.1405, -4269.1456, -4536.2163, 7048.2275, 3203.3948, -2236.4637, -1447.4943, -4984.5087, -839.5773, 9620.6201, -2280.6837, 4180.6972, 8982.7947, 8815.8103, 562.8757, -5296.9283, -8141.9491, -2382.9565]\n",
      "字符串按长度排序：\n",
      " ['I', 'red', 'sea', 'try', 'eye', 'her', 'born', 'game', 'feel', 'group', 'stock', 'accept', 'effect', 'second', 'follow', 'himself', 'science', 'husband', 'compare', 'capital']\n"
     ]
    }
   ],
   "source": [
    "nlist.sort(key=abs)\n",
    "flist.sort(key=lambda f: abs(f-int(f)))\n",
    "slist.sort(key=len)\n",
    "\n",
    "print(\"#就地排序：\")\n",
    "print(\"整数按绝对值排序：\\n\", nlist)\n",
    "print(\"浮点数按小数部分排序：\\n\", flist)\n",
    "print(\"字符串按长度排序：\\n\", slist)"
   ]
  },
  {
   "cell_type": "markdown",
   "metadata": {},
   "source": [
    "# 小结\n",
    "- ```Faker```模块可以产生各种类型的测试数据；\n",
    "- 排序的依据可以不是排序对象自身；\n",
    "- 用```key```参数指明对排序对象的变换函数；\n",
    "- 依据变换后的大小次序来排列原对象；\n",
    "- 简单的表达式可以用```lambda```运算符产生匿名函数；\n",
    "- ```list.sort```就地排序同样适用```key```参数。"
   ]
  }
 ],
 "metadata": {
  "kernelspec": {
   "display_name": "Python 3.9.13 ('base')",
   "language": "python",
   "name": "python3"
  },
  "language_info": {
   "codemirror_mode": {
    "name": "ipython",
    "version": 3
   },
   "file_extension": ".py",
   "mimetype": "text/x-python",
   "name": "python",
   "nbconvert_exporter": "python",
   "pygments_lexer": "ipython3",
   "version": "3.9.13"
  },
  "orig_nbformat": 4,
  "vscode": {
   "interpreter": {
    "hash": "9e9b5bdee76833c82256a661fe97e28092f057e4e062e2d5f1c366bf572c51cc"
   }
  }
 },
 "nbformat": 4,
 "nbformat_minor": 2
}
