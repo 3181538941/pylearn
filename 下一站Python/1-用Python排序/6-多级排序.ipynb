{
 "cells": [
  {
   "cell_type": "markdown",
   "metadata": {},
   "source": [
    "# 准备测试数据"
   ]
  },
  {
   "cell_type": "code",
   "execution_count": 1,
   "metadata": {},
   "outputs": [
    {
     "name": "stdout",
     "output_type": "stream",
     "text": [
      "#学生信息元组列表：\n",
      " [('Anna', 21, 3.2), ('Elizabeth', 21, 99.7), ('Catherine', 21, 26.8), ('Kevin', 20, 45.86), ('Nicole', 21, 10.19), ('Timothy', 18, 92.55), ('Barbara', 20, 79.1), ('Robert', 21, 23.39), ('Kevin', 18, 25.83), ('Eric', 20, 82.32), ('Laura', 20, 90.27), ('Deborah', 21, 99.16), ('Pamela', 18, 83.17), ('Stephanie', 21, 1.7), ('Holly', 20, 93.4), ('Justin', 19, 64.18), ('James', 22, 10.57), ('Carrie', 22, 26.36), ('Amber', 22, 94.65), ('John', 18, 42.95)]\n",
      "#学生信息字典列表：\n",
      " [{'name': 'Angel', 'age': 18, 'grade': 69.65}, {'name': 'Jonathan', 'age': 22, 'grade': 14.79}, {'name': 'Peter', 'age': 19, 'grade': 85.54}, {'name': 'Shane', 'age': 20, 'grade': 74.59}, {'name': 'Brianna', 'age': 20, 'grade': 0.67}, {'name': 'Briana', 'age': 18, 'grade': 16.5}, {'name': 'William', 'age': 21, 'grade': 38.46}, {'name': 'Mary', 'age': 22, 'grade': 67.43}, {'name': 'Janice', 'age': 18, 'grade': 70.72}, {'name': 'Kimberly', 'age': 20, 'grade': 66.93}, {'name': 'Stephen', 'age': 20, 'grade': 53.98}, {'name': 'Justin', 'age': 19, 'grade': 24.35}, {'name': 'Amber', 'age': 22, 'grade': 17.1}, {'name': 'Kyle', 'age': 21, 'grade': 61.31}, {'name': 'Thomas', 'age': 22, 'grade': 28.85}, {'name': 'Victor', 'age': 18, 'grade': 9.14}, {'name': 'Kristina', 'age': 21, 'grade': 0.65}, {'name': 'Brandy', 'age': 22, 'grade': 52.19}, {'name': 'Lauren', 'age': 19, 'grade': 25.4}, {'name': 'Mary', 'age': 21, 'grade': 62.11}]\n",
      "#学生信息对象列表：\n",
      " [<Leslie,21,62.98>, <Amy,21,28.59>, <Jamie,18,9.76>, <Dillon,20,11.88>, <Kimberly,20,1.12>, <Gregory,21,85.50>, <Todd,19,74.96>, <Hannah,18,28.65>, <Terri,22,64.64>, <Heather,20,48.98>, <Lucas,18,95.39>, <Sandra,18,94.58>, <Amy,20,96.12>, <Roger,20,51.84>, <Stephanie,21,46.25>, <Robert,19,10.49>, <Shelly,18,38.87>, <Melissa,20,85.50>, <Michelle,18,14.85>, <Tracy,18,59.75>]\n"
     ]
    }
   ],
   "source": [
    "from faker import Faker\n",
    "Faker.seed()\n",
    "f = Faker()\n",
    "\n",
    "class Student:\n",
    "    def __init__(self, name, age, grade):\n",
    "        self.name = name\n",
    "        self.age = age\n",
    "        self.grade = grade\n",
    "\n",
    "    def __str__(self):\n",
    "        return f\"<{self.name},{self.age},{self.grade:.2f}>\"\n",
    "    __repr__ = __str__\n",
    "\n",
    "nmin, nmax, total = 18, 22, 20\n",
    "# 学生信息列表，数据项是元组 (名字, 年龄, 成绩)\n",
    "plist_tuple = [(f.first_name(), f.pyint(nmin, nmax),\n",
    "                f.pyfloat(2, 2, True)) for i in range(total)]\n",
    "# 学生信息列表，数据项是字典 {\"name\":名字, \"age\":年龄, \"grade\":成绩}\n",
    "plist_dict = [{\"name\": f.first_name(), \"age\": f.pyint(nmin, nmax),\n",
    "               \"grade\": f.pyfloat(2, 2, True)} for i in range(total)]\n",
    "# 学生信息列表，数据项是对象\n",
    "plist_obj = [Student(f.first_name(), f.pyint(nmin, nmax), \n",
    "                f.pyfloat(2, 2, True)) for i in range(total)]\n",
    "print(\"#学生信息元组列表：\\n\", plist_tuple)\n",
    "print(\"#学生信息字典列表：\\n\", plist_dict)\n",
    "print(\"#学生信息对象列表：\\n\", plist_obj)"
   ]
  },
  {
   "cell_type": "markdown",
   "metadata": {},
   "source": [
    "# 什么是多级排序\n",
    "- 最终排序结果由两个或更多个排序依据产生；\n",
    "- 分为“主要排序依据”和依次若干“次要排序依据”；\n",
    "- 当上一级排序依据等值时，下一级排序依据生效；\n",
    "- 例如：先按照**年龄**排序，年龄相同的按照**成绩**排序；\n",
    "  - 这里，**年龄**是**主要**排序依据，**成绩**是**次要**排序依据。"
   ]
  },
  {
   "cell_type": "markdown",
   "metadata": {},
   "source": [
    "# 如何实现多级排序\n",
    "- 执行排序运算的次序正好与最终呈现的排序结果**相反**；\n",
    "- 先进行次要排序依据的排序运算，最后进行主要排序依据的排序运算。"
   ]
  },
  {
   "cell_type": "markdown",
   "metadata": {},
   "source": [
    "# 对元组列表进行年龄-成绩排序"
   ]
  },
  {
   "cell_type": "code",
   "execution_count": 2,
   "metadata": {},
   "outputs": [
    {
     "name": "stdout",
     "output_type": "stream",
     "text": [
      "按照年龄-成绩排序：\n",
      " [('Timothy', 18, 92.55), ('Pamela', 18, 83.17), ('John', 18, 42.95), ('Kevin', 18, 25.83), ('Justin', 19, 64.18), ('Holly', 20, 93.4), ('Laura', 20, 90.27), ('Eric', 20, 82.32), ('Barbara', 20, 79.1), ('Kevin', 20, 45.86), ('Elizabeth', 21, 99.7), ('Deborah', 21, 99.16), ('Catherine', 21, 26.8), ('Robert', 21, 23.39), ('Nicole', 21, 10.19), ('Anna', 21, 3.2), ('Stephanie', 21, 1.7), ('Amber', 22, 94.65), ('Carrie', 22, 26.36), ('James', 22, 10.57)]\n"
     ]
    }
   ],
   "source": [
    "psorted = sorted(plist_tuple, key=lambda x:x[2], reverse=True)  # 先按照成绩高低排\n",
    "psorted = sorted(psorted, key=lambda x:x[1])  # 再按照年龄排\n",
    "\n",
    "print(\"按照年龄-成绩排序：\\n\", psorted)"
   ]
  },
  {
   "cell_type": "markdown",
   "metadata": {},
   "source": [
    "# 对字典列表进行年龄-成绩排序"
   ]
  },
  {
   "cell_type": "code",
   "execution_count": 3,
   "metadata": {},
   "outputs": [
    {
     "name": "stdout",
     "output_type": "stream",
     "text": [
      "按照年龄-成绩排序：\n",
      " [{'name': 'Janice', 'age': 18, 'grade': 70.72}, {'name': 'Angel', 'age': 18, 'grade': 69.65}, {'name': 'Briana', 'age': 18, 'grade': 16.5}, {'name': 'Victor', 'age': 18, 'grade': 9.14}, {'name': 'Peter', 'age': 19, 'grade': 85.54}, {'name': 'Lauren', 'age': 19, 'grade': 25.4}, {'name': 'Justin', 'age': 19, 'grade': 24.35}, {'name': 'Shane', 'age': 20, 'grade': 74.59}, {'name': 'Kimberly', 'age': 20, 'grade': 66.93}, {'name': 'Stephen', 'age': 20, 'grade': 53.98}, {'name': 'Brianna', 'age': 20, 'grade': 0.67}, {'name': 'Mary', 'age': 21, 'grade': 62.11}, {'name': 'Kyle', 'age': 21, 'grade': 61.31}, {'name': 'William', 'age': 21, 'grade': 38.46}, {'name': 'Kristina', 'age': 21, 'grade': 0.65}, {'name': 'Mary', 'age': 22, 'grade': 67.43}, {'name': 'Brandy', 'age': 22, 'grade': 52.19}, {'name': 'Thomas', 'age': 22, 'grade': 28.85}, {'name': 'Amber', 'age': 22, 'grade': 17.1}, {'name': 'Jonathan', 'age': 22, 'grade': 14.79}]\n"
     ]
    }
   ],
   "source": [
    "psorted = sorted(plist_dict, key=lambda x:x[\"grade\"], reverse=True)  # 先按照成绩高低排\n",
    "psorted = sorted(psorted, key=lambda x:x[\"age\"])  # 再按照年龄排\n",
    "\n",
    "print(\"按照年龄-成绩排序：\\n\", psorted)"
   ]
  },
  {
   "cell_type": "markdown",
   "metadata": {},
   "source": [
    "# 对对象列表进行年龄-成绩排序"
   ]
  },
  {
   "cell_type": "code",
   "execution_count": 4,
   "metadata": {},
   "outputs": [
    {
     "name": "stdout",
     "output_type": "stream",
     "text": [
      "按照年龄-成绩排序：\n",
      " [<Lucas,18,95.39>, <Sandra,18,94.58>, <Tracy,18,59.75>, <Shelly,18,38.87>, <Hannah,18,28.65>, <Michelle,18,14.85>, <Jamie,18,9.76>, <Todd,19,74.96>, <Robert,19,10.49>, <Amy,20,96.12>, <Melissa,20,85.50>, <Roger,20,51.84>, <Heather,20,48.98>, <Dillon,20,11.88>, <Kimberly,20,1.12>, <Gregory,21,85.50>, <Leslie,21,62.98>, <Stephanie,21,46.25>, <Amy,21,28.59>, <Terri,22,64.64>]\n"
     ]
    }
   ],
   "source": [
    "psorted = sorted(plist_obj, key=lambda x:x.grade, reverse=True)  # 先按照成绩高低排\n",
    "psorted = sorted(psorted, key=lambda x:x.age)  # 再按照年龄排\n",
    "\n",
    "print(\"按照年龄-成绩排序：\\n\", psorted)"
   ]
  },
  {
   "cell_type": "markdown",
   "metadata": {},
   "source": [
    "## 采用自定义排序"
   ]
  },
  {
   "cell_type": "code",
   "execution_count": 5,
   "metadata": {},
   "outputs": [
    {
     "name": "stdout",
     "output_type": "stream",
     "text": [
      "#学生信息对象列表：\n",
      " [<Jennifer,18,72.40>, <Donna,19,56.25>, <Amanda,19,14.70>, <Noah,20,6.84>, <Elizabeth,20,29.50>, <Barbara,18,58.16>, <Samantha,21,51.88>, <Christina,20,46.16>, <Christian,19,91.87>, <Joy,18,46.99>, <Bruce,21,46.22>, <Vanessa,20,56.66>, <Gary,18,11.32>, <Richard,19,3.78>, <Scott,20,62.22>, <Jessica,18,47.83>, <Kelsey,20,12.22>, <Christopher,20,18.55>, <Bob,19,44.63>, <Patricia,21,23.74>]\n",
      "#按照年龄-成绩排序：\n",
      " [<Jennifer,18,72.40>, <Barbara,18,58.16>, <Jessica,18,47.83>, <Joy,18,46.99>, <Gary,18,11.32>, <Christian,19,91.87>, <Donna,19,56.25>, <Bob,19,44.63>, <Amanda,19,14.70>, <Richard,19,3.78>, <Scott,20,62.22>, <Vanessa,20,56.66>, <Christina,20,46.16>, <Elizabeth,20,29.50>, <Christopher,20,18.55>, <Kelsey,20,12.22>, <Noah,20,6.84>, <Samantha,21,51.88>, <Bruce,21,46.22>, <Patricia,21,23.74>]\n"
     ]
    }
   ],
   "source": [
    "class Student:\n",
    "    def __init__(self, name, age, grade):\n",
    "        self.name = name\n",
    "        self.age = age\n",
    "        self.grade = grade\n",
    "\n",
    "    def __lt__(self, other):  \n",
    "        if self.age == other.age:  # 如果年龄相等，成绩高的排在前\n",
    "            return self.grade > other.grade\n",
    "        else:\n",
    "            return self.age < other.age  # 年龄低的排在前\n",
    "\n",
    "    def __str__(self):\n",
    "        return f\"<{self.name},{self.age},{self.grade:.2f}>\"\n",
    "    __repr__ = __str__\n",
    "\n",
    "# 学生信息列表，数据项是新对象\n",
    "plist_obj = [Student(f.first_name(), f.pyint(nmin, nmax), \n",
    "                f.pyfloat(2, 2, True)) for i in range(total)]\n",
    "psorted = sorted(plist_obj)\n",
    "\n",
    "print(\"#学生信息对象列表：\\n\", plist_obj)\n",
    "print(\"#按照年龄-成绩排序：\\n\", psorted)"
   ]
  },
  {
   "cell_type": "markdown",
   "metadata": {},
   "source": [
    "# 用itemgetter进行多级排序"
   ]
  },
  {
   "cell_type": "code",
   "execution_count": 6,
   "metadata": {},
   "outputs": [
    {
     "name": "stdout",
     "output_type": "stream",
     "text": [
      "按照年龄-成绩排序：\n",
      " [('Kevin', 18, 25.83), ('John', 18, 42.95), ('Pamela', 18, 83.17), ('Timothy', 18, 92.55), ('Justin', 19, 64.18), ('Kevin', 20, 45.86), ('Barbara', 20, 79.1), ('Eric', 20, 82.32), ('Laura', 20, 90.27), ('Holly', 20, 93.4), ('Stephanie', 21, 1.7), ('Anna', 21, 3.2), ('Nicole', 21, 10.19), ('Robert', 21, 23.39), ('Catherine', 21, 26.8), ('Deborah', 21, 99.16), ('Elizabeth', 21, 99.7), ('James', 22, 10.57), ('Carrie', 22, 26.36), ('Amber', 22, 94.65)]\n",
      "按照年龄-成绩排序：\n",
      " [{'name': 'Victor', 'age': 18, 'grade': 9.14}, {'name': 'Briana', 'age': 18, 'grade': 16.5}, {'name': 'Angel', 'age': 18, 'grade': 69.65}, {'name': 'Janice', 'age': 18, 'grade': 70.72}, {'name': 'Justin', 'age': 19, 'grade': 24.35}, {'name': 'Lauren', 'age': 19, 'grade': 25.4}, {'name': 'Peter', 'age': 19, 'grade': 85.54}, {'name': 'Brianna', 'age': 20, 'grade': 0.67}, {'name': 'Stephen', 'age': 20, 'grade': 53.98}, {'name': 'Kimberly', 'age': 20, 'grade': 66.93}, {'name': 'Shane', 'age': 20, 'grade': 74.59}, {'name': 'Kristina', 'age': 21, 'grade': 0.65}, {'name': 'William', 'age': 21, 'grade': 38.46}, {'name': 'Kyle', 'age': 21, 'grade': 61.31}, {'name': 'Mary', 'age': 21, 'grade': 62.11}, {'name': 'Jonathan', 'age': 22, 'grade': 14.79}, {'name': 'Amber', 'age': 22, 'grade': 17.1}, {'name': 'Thomas', 'age': 22, 'grade': 28.85}, {'name': 'Brandy', 'age': 22, 'grade': 52.19}, {'name': 'Mary', 'age': 22, 'grade': 67.43}]\n"
     ]
    }
   ],
   "source": [
    "from operator import itemgetter\n",
    "\n",
    "plist_tuple.sort(key=itemgetter(1, 2))  # 按照主要-次要的原有次序，但升序降序必须一致\n",
    "plist_dict.sort(key=itemgetter(\"age\", \"grade\"))\n",
    "print(\"按照年龄-成绩排序：\\n\", plist_tuple)\n",
    "print(\"按照年龄-成绩排序：\\n\", plist_dict)"
   ]
  },
  {
   "cell_type": "markdown",
   "metadata": {},
   "source": [
    "# 用attrgetter进行多级排序"
   ]
  },
  {
   "cell_type": "code",
   "execution_count": 7,
   "metadata": {},
   "outputs": [
    {
     "name": "stdout",
     "output_type": "stream",
     "text": [
      "按照年龄-成绩排序：\n",
      " [<Gary,18,11.32>, <Joy,18,46.99>, <Jessica,18,47.83>, <Barbara,18,58.16>, <Jennifer,18,72.40>, <Richard,19,3.78>, <Amanda,19,14.70>, <Bob,19,44.63>, <Donna,19,56.25>, <Christian,19,91.87>, <Noah,20,6.84>, <Kelsey,20,12.22>, <Christopher,20,18.55>, <Elizabeth,20,29.50>, <Christina,20,46.16>, <Vanessa,20,56.66>, <Scott,20,62.22>, <Patricia,21,23.74>, <Bruce,21,46.22>, <Samantha,21,51.88>]\n"
     ]
    }
   ],
   "source": [
    "from operator import attrgetter\n",
    "\n",
    "plist_obj.sort(key=attrgetter(\"age\", \"grade\"))\n",
    "print(\"按照年龄-成绩排序：\\n\", plist_obj)"
   ]
  },
  {
   "cell_type": "markdown",
   "metadata": {},
   "source": [
    "# 小结\n",
    "- 多级排序：当主要排序依据等值时，按照次要排序依据进行排序；\n",
    "- 执行排序运算是次要-主要的倒序；\n",
    "- 自定义类型可以通过自定义排序来减少排序次数；\n",
    "- 用itemgetter或attrgetter可以简化代码。"
   ]
  }
 ],
 "metadata": {
  "kernelspec": {
   "display_name": "Python 3.9.13 ('base')",
   "language": "python",
   "name": "python3"
  },
  "language_info": {
   "codemirror_mode": {
    "name": "ipython",
    "version": 3
   },
   "file_extension": ".py",
   "mimetype": "text/x-python",
   "name": "python",
   "nbconvert_exporter": "python",
   "pygments_lexer": "ipython3",
   "version": "3.9.13"
  },
  "orig_nbformat": 4,
  "vscode": {
   "interpreter": {
    "hash": "9e9b5bdee76833c82256a661fe97e28092f057e4e062e2d5f1c366bf572c51cc"
   }
  }
 },
 "nbformat": 4,
 "nbformat_minor": 2
}
