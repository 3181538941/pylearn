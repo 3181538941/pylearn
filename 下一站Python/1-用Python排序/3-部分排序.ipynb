{
 "cells": [
  {
   "cell_type": "markdown",
   "metadata": {},
   "source": [
    "# 准备测试数据"
   ]
  },
  {
   "cell_type": "code",
   "execution_count": 1,
   "metadata": {},
   "outputs": [
    {
     "name": "stdout",
     "output_type": "stream",
     "text": [
      "#学生信息元组列表：\n",
      " [('Kyle', 29, 34.48), ('Mark', 35, 67.36), ('Isaac', 30, 64.5), ('Linda', 31, 16.9), ('Sara', 35, 35.55), ('Candace', 23, 16.6), ('Anthony', 46, 58.51), ('Tamara', 42, 89.52), ('Stephanie', 19, 88.22), ('Jamie', 24, 52.28)]\n",
      "#学生信息字典列表：\n",
      " [{'name': 'Carrie', 'age': 42, 'grade': 40.1}, {'name': 'Gloria', 'age': 21, 'grade': 53.92}, {'name': 'Eric', 'age': 48, 'grade': 78.93}, {'name': 'Tonya', 'age': 41, 'grade': 93.77}, {'name': 'Ronald', 'age': 27, 'grade': 90.34}, {'name': 'Carol', 'age': 41, 'grade': 57.76}, {'name': 'Alex', 'age': 29, 'grade': 32.42}, {'name': 'Diana', 'age': 36, 'grade': 17.65}, {'name': 'Jared', 'age': 26, 'grade': 49.56}, {'name': 'Alexander', 'age': 39, 'grade': 4.9}]\n",
      "#学生信息对象列表：\n",
      " [<Maria,46,78.89>, <Jessica,30,1.82>, <Wesley,56,16.63>, <Eric,30,44.10>, <Rebecca,27,70.69>, <Trevor,54,38.47>, <Michael,36,57.40>, <Jeremy,52,85.78>, <Christopher,40,91.60>, <Shari,57,40.61>]\n"
     ]
    }
   ],
   "source": [
    "from faker import Faker\n",
    "Faker.seed()\n",
    "f = Faker()\n",
    "\n",
    "class Student:\n",
    "    def __init__(self, name, age, grade):\n",
    "        self.name = name\n",
    "        self.age = age\n",
    "        self.grade = grade\n",
    "\n",
    "    def __str__(self):\n",
    "        return f\"<{self.name},{self.age},{self.grade:.2f}>\"\n",
    "    __repr__ = __str__\n",
    "\n",
    "nmin, nmax, total = 18, 60, 10\n",
    "# 学生信息列表，数据项是元组 (名字, 年龄, 成绩)\n",
    "plist_tuple = [(f.first_name(), f.pyint(nmin, nmax),\n",
    "                f.pyfloat(2, 2, True)) for i in range(total)]\n",
    "# 学生信息列表，数据项是字典 {\"name\":名字, \"age\":年龄, \"grade\":成绩}\n",
    "plist_dict = [{\"name\": f.first_name(), \"age\": f.pyint(nmin, nmax),\n",
    "               \"grade\": f.pyfloat(2, 2, True)} for i in range(total)]\n",
    "# 学生信息列表，数据项是对象\n",
    "plist_obj = [Student(f.first_name(), f.pyint(nmin, nmax), \n",
    "                f.pyfloat(2, 2, True)) for i in range(total)]\n",
    "print(\"#学生信息元组列表：\\n\", plist_tuple)\n",
    "print(\"#学生信息字典列表：\\n\", plist_dict)\n",
    "print(\"#学生信息对象列表：\\n\", plist_obj)\n"
   ]
  },
  {
   "cell_type": "markdown",
   "metadata": {},
   "source": [
    "# 在元组列表中进行部分项目排序\n",
    "## 按照名字排序"
   ]
  },
  {
   "cell_type": "code",
   "execution_count": 2,
   "metadata": {},
   "outputs": [
    {
     "name": "stdout",
     "output_type": "stream",
     "text": [
      "[('Anthony', 46, 58.51), ('Candace', 23, 16.6), ('Isaac', 30, 64.5), ('Jamie', 24, 52.28), ('Kyle', 29, 34.48), ('Linda', 31, 16.9), ('Mark', 35, 67.36), ('Sara', 35, 35.55), ('Stephanie', 19, 88.22), ('Tamara', 42, 89.52)]\n"
     ]
    }
   ],
   "source": [
    "psorted = sorted(plist_tuple, key=lambda x:x[0])  # 元组第一项是名字\n",
    "\n",
    "print(psorted)"
   ]
  },
  {
   "cell_type": "markdown",
   "metadata": {},
   "source": [
    "## 按照年龄排序"
   ]
  },
  {
   "cell_type": "code",
   "execution_count": 3,
   "metadata": {},
   "outputs": [
    {
     "name": "stdout",
     "output_type": "stream",
     "text": [
      "[('Stephanie', 19, 88.22), ('Candace', 23, 16.6), ('Jamie', 24, 52.28), ('Kyle', 29, 34.48), ('Isaac', 30, 64.5), ('Linda', 31, 16.9), ('Mark', 35, 67.36), ('Sara', 35, 35.55), ('Tamara', 42, 89.52), ('Anthony', 46, 58.51)]\n"
     ]
    }
   ],
   "source": [
    "psorted = sorted(plist_tuple, key=lambda x:x[1])  # 元组第二项是年龄\n",
    "\n",
    "print(psorted)"
   ]
  },
  {
   "cell_type": "markdown",
   "metadata": {},
   "source": [
    "## 按照成绩排序"
   ]
  },
  {
   "cell_type": "code",
   "execution_count": 5,
   "metadata": {},
   "outputs": [
    {
     "name": "stdout",
     "output_type": "stream",
     "text": [
      "[('Tamara', 42, 89.52), ('Stephanie', 19, 88.22), ('Mark', 35, 67.36), ('Isaac', 30, 64.5), ('Anthony', 46, 58.51), ('Jamie', 24, 52.28), ('Sara', 35, 35.55), ('Kyle', 29, 34.48), ('Linda', 31, 16.9), ('Candace', 23, 16.6)]\n"
     ]
    }
   ],
   "source": [
    "psorted = sorted(plist_tuple, key=lambda x:x[2], reverse=True)  # 元组第三项是成绩\n",
    "\n",
    "print(psorted)"
   ]
  },
  {
   "cell_type": "markdown",
   "metadata": {},
   "source": [
    "# 在字典列表中进行部分项目排序\n",
    "## 按照名字排序"
   ]
  },
  {
   "cell_type": "code",
   "execution_count": 6,
   "metadata": {},
   "outputs": [
    {
     "name": "stdout",
     "output_type": "stream",
     "text": [
      "[{'name': 'Alex', 'age': 29, 'grade': 32.42}, {'name': 'Alexander', 'age': 39, 'grade': 4.9}, {'name': 'Carol', 'age': 41, 'grade': 57.76}, {'name': 'Carrie', 'age': 42, 'grade': 40.1}, {'name': 'Diana', 'age': 36, 'grade': 17.65}, {'name': 'Eric', 'age': 48, 'grade': 78.93}, {'name': 'Gloria', 'age': 21, 'grade': 53.92}, {'name': 'Jared', 'age': 26, 'grade': 49.56}, {'name': 'Ronald', 'age': 27, 'grade': 90.34}, {'name': 'Tonya', 'age': 41, 'grade': 93.77}]\n"
     ]
    }
   ],
   "source": [
    "psorted = sorted(plist_dict, key=lambda x:x[\"name\"])  # 字典key为\"name\"是名字\n",
    "\n",
    "print(psorted)"
   ]
  },
  {
   "cell_type": "markdown",
   "metadata": {},
   "source": [
    "## 按照年龄排序"
   ]
  },
  {
   "cell_type": "code",
   "execution_count": 7,
   "metadata": {},
   "outputs": [
    {
     "name": "stdout",
     "output_type": "stream",
     "text": [
      "[{'name': 'Gloria', 'age': 21, 'grade': 53.92}, {'name': 'Jared', 'age': 26, 'grade': 49.56}, {'name': 'Ronald', 'age': 27, 'grade': 90.34}, {'name': 'Alex', 'age': 29, 'grade': 32.42}, {'name': 'Diana', 'age': 36, 'grade': 17.65}, {'name': 'Alexander', 'age': 39, 'grade': 4.9}, {'name': 'Tonya', 'age': 41, 'grade': 93.77}, {'name': 'Carol', 'age': 41, 'grade': 57.76}, {'name': 'Carrie', 'age': 42, 'grade': 40.1}, {'name': 'Eric', 'age': 48, 'grade': 78.93}]\n"
     ]
    }
   ],
   "source": [
    "psorted = sorted(plist_dict, key=lambda x:x[\"age\"])  # 字典key为\"age\"是年龄\n",
    "\n",
    "print(psorted)"
   ]
  },
  {
   "cell_type": "markdown",
   "metadata": {},
   "source": [
    "## 按照成绩排序"
   ]
  },
  {
   "cell_type": "code",
   "execution_count": 9,
   "metadata": {},
   "outputs": [
    {
     "name": "stdout",
     "output_type": "stream",
     "text": [
      "[{'name': 'Tonya', 'age': 41, 'grade': 93.77}, {'name': 'Ronald', 'age': 27, 'grade': 90.34}, {'name': 'Eric', 'age': 48, 'grade': 78.93}, {'name': 'Carol', 'age': 41, 'grade': 57.76}, {'name': 'Gloria', 'age': 21, 'grade': 53.92}, {'name': 'Jared', 'age': 26, 'grade': 49.56}, {'name': 'Carrie', 'age': 42, 'grade': 40.1}, {'name': 'Alex', 'age': 29, 'grade': 32.42}, {'name': 'Diana', 'age': 36, 'grade': 17.65}, {'name': 'Alexander', 'age': 39, 'grade': 4.9}]\n"
     ]
    }
   ],
   "source": [
    "psorted = sorted(plist_dict, key=lambda x:x[\"grade\"], reverse=True)  # 字典key为\"grade\"是成绩\n",
    "\n",
    "print(psorted)"
   ]
  },
  {
   "cell_type": "markdown",
   "metadata": {},
   "source": [
    "# 在对象列表中进行部分项目排序\n",
    "## 按照名字排序"
   ]
  },
  {
   "cell_type": "code",
   "execution_count": 10,
   "metadata": {},
   "outputs": [
    {
     "name": "stdout",
     "output_type": "stream",
     "text": [
      "[<Christopher,40,91.60>, <Eric,30,44.10>, <Jeremy,52,85.78>, <Jessica,30,1.82>, <Maria,46,78.89>, <Michael,36,57.40>, <Rebecca,27,70.69>, <Shari,57,40.61>, <Trevor,54,38.47>, <Wesley,56,16.63>]\n"
     ]
    }
   ],
   "source": [
    "psorted = sorted(plist_obj, key=lambda x:x.name)  # 对象的name属性是名字\n",
    "\n",
    "print(psorted)"
   ]
  },
  {
   "cell_type": "markdown",
   "metadata": {},
   "source": [
    "## 按照年龄排序"
   ]
  },
  {
   "cell_type": "code",
   "execution_count": 11,
   "metadata": {},
   "outputs": [
    {
     "name": "stdout",
     "output_type": "stream",
     "text": [
      "[<Rebecca,27,70.69>, <Jessica,30,1.82>, <Eric,30,44.10>, <Michael,36,57.40>, <Christopher,40,91.60>, <Maria,46,78.89>, <Jeremy,52,85.78>, <Trevor,54,38.47>, <Wesley,56,16.63>, <Shari,57,40.61>]\n"
     ]
    }
   ],
   "source": [
    "psorted = sorted(plist_obj, key=lambda x:x.age)  # 对象的age属性是年龄\n",
    "\n",
    "print(psorted)"
   ]
  },
  {
   "cell_type": "markdown",
   "metadata": {},
   "source": [
    "## 按照成绩排序"
   ]
  },
  {
   "cell_type": "code",
   "execution_count": 13,
   "metadata": {},
   "outputs": [
    {
     "name": "stdout",
     "output_type": "stream",
     "text": [
      "[<Christopher,40,91.60>, <Jeremy,52,85.78>, <Maria,46,78.89>, <Rebecca,27,70.69>, <Michael,36,57.40>, <Eric,30,44.10>, <Shari,57,40.61>, <Trevor,54,38.47>, <Wesley,56,16.63>, <Jessica,30,1.82>]\n"
     ]
    }
   ],
   "source": [
    "psorted = sorted(plist_obj, key=lambda x:x.grade, reverse=True)  # 对象的grade属性是成绩\n",
    "\n",
    "print(psorted)"
   ]
  },
  {
   "cell_type": "markdown",
   "metadata": {},
   "source": [
    "# Python提供的便利机制\n",
    "## 元组列表中按照年龄排序"
   ]
  },
  {
   "cell_type": "code",
   "execution_count": 14,
   "metadata": {},
   "outputs": [
    {
     "name": "stdout",
     "output_type": "stream",
     "text": [
      "[('Stephanie', 19, 88.22), ('Candace', 23, 16.6), ('Jamie', 24, 52.28), ('Kyle', 29, 34.48), ('Isaac', 30, 64.5), ('Linda', 31, 16.9), ('Mark', 35, 67.36), ('Sara', 35, 35.55), ('Tamara', 42, 89.52), ('Anthony', 46, 58.51)]\n"
     ]
    }
   ],
   "source": [
    "from operator import itemgetter\n",
    "\n",
    "psorted = sorted(plist_tuple, key=itemgetter(1))  # 元组第二项（下标为1）是年龄\n",
    "\n",
    "print(psorted)"
   ]
  },
  {
   "cell_type": "markdown",
   "metadata": {},
   "source": [
    "## 字典列表中按照年龄排序"
   ]
  },
  {
   "cell_type": "code",
   "execution_count": 15,
   "metadata": {},
   "outputs": [
    {
     "name": "stdout",
     "output_type": "stream",
     "text": [
      "[{'name': 'Gloria', 'age': 21, 'grade': 53.92}, {'name': 'Jared', 'age': 26, 'grade': 49.56}, {'name': 'Ronald', 'age': 27, 'grade': 90.34}, {'name': 'Alex', 'age': 29, 'grade': 32.42}, {'name': 'Diana', 'age': 36, 'grade': 17.65}, {'name': 'Alexander', 'age': 39, 'grade': 4.9}, {'name': 'Tonya', 'age': 41, 'grade': 93.77}, {'name': 'Carol', 'age': 41, 'grade': 57.76}, {'name': 'Carrie', 'age': 42, 'grade': 40.1}, {'name': 'Eric', 'age': 48, 'grade': 78.93}]\n"
     ]
    }
   ],
   "source": [
    "from operator import itemgetter\n",
    "\n",
    "psorted = sorted(plist_dict, key=itemgetter(\"age\"))  # 字典key为\"age\"是年龄\n",
    "\n",
    "print(psorted)"
   ]
  },
  {
   "cell_type": "markdown",
   "metadata": {},
   "source": [
    "## 对象列表中按照年龄排序"
   ]
  },
  {
   "cell_type": "code",
   "execution_count": 16,
   "metadata": {},
   "outputs": [
    {
     "name": "stdout",
     "output_type": "stream",
     "text": [
      "[<Rebecca,27,70.69>, <Jessica,30,1.82>, <Eric,30,44.10>, <Michael,36,57.40>, <Christopher,40,91.60>, <Maria,46,78.89>, <Jeremy,52,85.78>, <Trevor,54,38.47>, <Wesley,56,16.63>, <Shari,57,40.61>]\n"
     ]
    }
   ],
   "source": [
    "from operator import attrgetter\n",
    "\n",
    "psorted = sorted(plist_obj, key=attrgetter(\"age\"))  # 对象属性age是年龄\n",
    "\n",
    "print(psorted)"
   ]
  },
  {
   "cell_type": "markdown",
   "metadata": {},
   "source": [
    "# ```list.sort```同样适用部分项目排序"
   ]
  },
  {
   "cell_type": "code",
   "execution_count": 17,
   "metadata": {},
   "outputs": [
    {
     "name": "stdout",
     "output_type": "stream",
     "text": [
      "#就地排序：\n",
      "元组列表按照成绩排序：\n",
      " [('Candace', 23, 16.6), ('Linda', 31, 16.9), ('Kyle', 29, 34.48), ('Sara', 35, 35.55), ('Jamie', 24, 52.28), ('Anthony', 46, 58.51), ('Isaac', 30, 64.5), ('Mark', 35, 67.36), ('Stephanie', 19, 88.22), ('Tamara', 42, 89.52)]\n",
      "字典列表按照成绩排序：\n",
      " [{'name': 'Alexander', 'age': 39, 'grade': 4.9}, {'name': 'Diana', 'age': 36, 'grade': 17.65}, {'name': 'Alex', 'age': 29, 'grade': 32.42}, {'name': 'Carrie', 'age': 42, 'grade': 40.1}, {'name': 'Jared', 'age': 26, 'grade': 49.56}, {'name': 'Gloria', 'age': 21, 'grade': 53.92}, {'name': 'Carol', 'age': 41, 'grade': 57.76}, {'name': 'Eric', 'age': 48, 'grade': 78.93}, {'name': 'Ronald', 'age': 27, 'grade': 90.34}, {'name': 'Tonya', 'age': 41, 'grade': 93.77}]\n",
      "对象列表按照成绩排序：\n",
      " [<Jessica,30,1.82>, <Wesley,56,16.63>, <Trevor,54,38.47>, <Shari,57,40.61>, <Eric,30,44.10>, <Michael,36,57.40>, <Rebecca,27,70.69>, <Maria,46,78.89>, <Jeremy,52,85.78>, <Christopher,40,91.60>]\n"
     ]
    }
   ],
   "source": [
    "plist_tuple.sort(key=lambda x:x[2])  # 按照成绩（元组下标2）进行就地排序\n",
    "plist_dict.sort(key=lambda x:x['grade'])  # 按照成绩（key为grade）进行就地排序\n",
    "plist_obj.sort(key=attrgetter(\"grade\"))  # 采用便利机制，按照成绩（属性为grade）进行就地排序\n",
    "\n",
    "print(\"#就地排序：\")\n",
    "print(\"元组列表按照成绩排序：\\n\", plist_tuple)\n",
    "print(\"字典列表按照成绩排序：\\n\", plist_dict)\n",
    "print(\"对象列表按照成绩排序：\\n\", plist_obj)"
   ]
  },
  {
   "cell_type": "markdown",
   "metadata": {},
   "source": [
    "# 小结\n",
    "- 排序对象是组合的数据类型（元组/字典/对象），也可以进行排序；\n",
    "- ```key```参数支持将组合数据的一部分作为排序依据；\n",
    "- 在内置```operator```模块中的```itemgetter```和```attrgetter```可以更加便利地指定key参数；"
   ]
  }
 ],
 "metadata": {
  "kernelspec": {
   "display_name": "Python 3.9.13 ('base')",
   "language": "python",
   "name": "python3"
  },
  "language_info": {
   "codemirror_mode": {
    "name": "ipython",
    "version": 3
   },
   "file_extension": ".py",
   "mimetype": "text/x-python",
   "name": "python",
   "nbconvert_exporter": "python",
   "pygments_lexer": "ipython3",
   "version": "3.9.13"
  },
  "orig_nbformat": 4,
  "vscode": {
   "interpreter": {
    "hash": "9e9b5bdee76833c82256a661fe97e28092f057e4e062e2d5f1c366bf572c51cc"
   }
  }
 },
 "nbformat": 4,
 "nbformat_minor": 2
}
