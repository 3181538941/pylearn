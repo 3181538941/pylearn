{
 "cells": [
  {
   "cell_type": "markdown",
   "metadata": {},
   "source": [
    "# 递归的基本概念\n",
    "- 函数内部的代码可以调用另一个函数；\n",
    "- 当然也可以调用自己；\n",
    "- 如果一个函数直接或者间接地调用了自己，称为“递归函数”；\n",
    "\n",
    "![显示自己的电视机](R-C.jpg \"一台显示了自己的电视机\")"
   ]
  },
  {
   "cell_type": "markdown",
   "metadata": {},
   "source": [
    "# 忘记迭代和循环，进入递归的世界\n",
    "- 用递归的心看问题；\n",
    "  \n",
    "## 倒计时……发射！"
   ]
  },
  {
   "cell_type": "code",
   "execution_count": 1,
   "metadata": {},
   "outputs": [
    {
     "name": "stdout",
     "output_type": "stream",
     "text": [
      "10\n",
      "9\n",
      "8\n",
      "7\n",
      "6\n",
      "5\n",
      "4\n",
      "3\n",
      "2\n",
      "1\n",
      "发射！\n"
     ]
    }
   ],
   "source": [
    "def count_down(n):  # 报数n次后，发射！\n",
    "    if n == 0:\n",
    "        print(\"发射！\")  # 报数0次，所以立即发射！\n",
    "    else:\n",
    "        print(n)  # 报数n，然后\n",
    "        count_down(n - 1)  # 报数n-1次后，发射！\n",
    "\n",
    "count_down(10)  # 报数10次后，发射！"
   ]
  },
  {
   "cell_type": "markdown",
   "metadata": {},
   "source": [
    "## 求列表中所有数的总和"
   ]
  },
  {
   "cell_type": "code",
   "execution_count": 2,
   "metadata": {},
   "outputs": [
    {
     "name": "stdout",
     "output_type": "stream",
     "text": [
      "17\n"
     ]
    }
   ],
   "source": [
    "def my_sum(alist):  # 求列表alist中所有数的总和\n",
    "    if len(alist) == 0:\n",
    "        return 0  # 列表中没有数，总和就是0\n",
    "    else:\n",
    "        return alist[0] + my_sum(alist[1:])  # 第一个数，加上，剩余数的总和，就是总和\n",
    "\n",
    "print(my_sum([2,3,5,7]))"
   ]
  },
  {
   "cell_type": "markdown",
   "metadata": {},
   "source": [
    "## 求列表中所有数的最大值"
   ]
  },
  {
   "cell_type": "code",
   "execution_count": 3,
   "metadata": {},
   "outputs": [
    {
     "name": "stdout",
     "output_type": "stream",
     "text": [
      "100\n"
     ]
    }
   ],
   "source": [
    "def my_max(alist):  # 求列表alist中所有数的最大值\n",
    "    if len(alist) == 1:\n",
    "        return alist[0]  # alist中只有一个数，它本身就是最大值\n",
    "    else:\n",
    "        a, b = alist[0], my_max(alist[1:])  # 第一个数，和，剩余数的最大值\n",
    "        if a > b:  # 哪个大，哪个就是最大值\n",
    "            return a\n",
    "        else:\n",
    "            return b\n",
    "\n",
    "print(my_max([23,1,100,45,33]))"
   ]
  },
  {
   "cell_type": "markdown",
   "metadata": {},
   "source": [
    "## 列表中存在某个数吗？"
   ]
  },
  {
   "cell_type": "code",
   "execution_count": 4,
   "metadata": {},
   "outputs": [
    {
     "name": "stdout",
     "output_type": "stream",
     "text": [
      "True\n",
      "False\n",
      "True\n"
     ]
    }
   ],
   "source": [
    "def my_in(x, alist):\n",
    "    if len(alist) == 0:  # 如果列表中没有数，肯定不存在x\n",
    "        return False\n",
    "    else:\n",
    "        return (x == alist[0]) or my_in(x, alist[1:])  # 如果x不是第一个数，那么看在不在剩余数里\n",
    "\n",
    "print(my_in(2, [5,6,7,3,2]))\n",
    "print(my_in(10, [1,2,3,4,5]))\n",
    "print(my_in(\"d\", \"hello world!\"))"
   ]
  },
  {
   "cell_type": "markdown",
   "metadata": {},
   "source": [
    "# 小结\n",
    "- 递归是指函数调用自己的行为；\n",
    "- 用递归观点看待问题，有时候能得到直观而简洁的解法；"
   ]
  }
 ],
 "metadata": {
  "kernelspec": {
   "display_name": "Python 3.9.13 ('base')",
   "language": "python",
   "name": "python3"
  },
  "language_info": {
   "codemirror_mode": {
    "name": "ipython",
    "version": 3
   },
   "file_extension": ".py",
   "mimetype": "text/x-python",
   "name": "python",
   "nbconvert_exporter": "python",
   "pygments_lexer": "ipython3",
   "version": "3.9.13"
  },
  "orig_nbformat": 4,
  "vscode": {
   "interpreter": {
    "hash": "9e9b5bdee76833c82256a661fe97e28092f057e4e062e2d5f1c366bf572c51cc"
   }
  }
 },
 "nbformat": 4,
 "nbformat_minor": 2
}
